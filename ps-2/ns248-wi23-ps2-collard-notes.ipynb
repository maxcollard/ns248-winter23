{
 "cells": [
  {
   "cell_type": "markdown",
   "id": "676d7397-bd39-492a-99f4-17b919900cc8",
   "metadata": {},
   "source": [
    "# Problem Set 2\n",
    "## UCSF NS248, Winter 2023\n",
    "\n",
    "### Solution notes by Max Collard"
   ]
  },
  {
   "cell_type": "markdown",
   "id": "d1f5ddeb-d931-4fa1-9b19-33844c8a82bb",
   "metadata": {},
   "source": [
    "---"
   ]
  },
  {
   "cell_type": "markdown",
   "id": "e137b04a-b2a3-4907-bfa0-1b16695df1e8",
   "metadata": {},
   "source": [
    "## TODO\n",
    "\n",
    "Here."
   ]
  },
  {
   "cell_type": "code",
   "execution_count": null,
   "id": "d9d14680-7b75-4444-bac9-fd138d08c805",
   "metadata": {},
   "outputs": [],
   "source": []
  }
 ],
 "metadata": {
  "kernelspec": {
   "display_name": "Python 3 (ipykernel)",
   "language": "python",
   "name": "python3"
  },
  "language_info": {
   "codemirror_mode": {
    "name": "ipython",
    "version": 3
   },
   "file_extension": ".py",
   "mimetype": "text/x-python",
   "name": "python",
   "nbconvert_exporter": "python",
   "pygments_lexer": "ipython3",
   "version": "3.10.8"
  }
 },
 "nbformat": 4,
 "nbformat_minor": 5
}
