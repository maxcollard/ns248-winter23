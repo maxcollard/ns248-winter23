{
 "cells": [
  {
   "cell_type": "markdown",
   "id": "048d1f9a-93cc-4e86-84dd-762c367d6157",
   "metadata": {},
   "source": [
    "# Problem Set 2\n",
    "## UCSF NS248, Winter 2023\n",
    "\n",
    "### Solutions by Max Collard"
   ]
  },
  {
   "cell_type": "markdown",
   "id": "64d4150a-a3c2-495a-b086-fddf7140c5ed",
   "metadata": {},
   "source": [
    "---"
   ]
  },
  {
   "cell_type": "code",
   "execution_count": 104,
   "id": "e27262e3-9679-44e6-982f-da80ce7c5a9d",
   "metadata": {},
   "outputs": [],
   "source": [
    "import itertools\n",
    "\n",
    "import numpy as np\n",
    "import scipy.integrate as sint\n",
    "import scipy.stats as sstats\n",
    "import matplotlib.pyplot as plt\n",
    "\n",
    "from tqdm import tqdm"
   ]
  },
  {
   "cell_type": "markdown",
   "id": "a5acfdfb-2d68-449b-925f-2fac0d0d95dd",
   "metadata": {},
   "source": [
    "---"
   ]
  },
  {
   "cell_type": "markdown",
   "id": "4d0f2345-7199-44cb-a792-bdc155d9a570",
   "metadata": {},
   "source": [
    "## Problem 1\n",
    "\n",
    "> Write a function that generates a gaussian distribution given three inputs:\n",
    "> 1) the x coordinates for the points to be returned,\n",
    "> 2) the mean and\n",
    "> 3) the standard deviation.\n",
    ">\n",
    "> e.g. `f = gaussian(xvals, mean, stdev)`"
   ]
  },
  {
   "cell_type": "code",
   "execution_count": 25,
   "id": "7cdc050f-daa4-4487-a018-be4407dd1b07",
   "metadata": {},
   "outputs": [],
   "source": [
    "def gaussian_pdf( mean = 0., stdev = 1. ):\n",
    "    \"\"\"Returns a function that evaluates a Gaussian pdf (default: standard normal)\"\"\"\n",
    "    return lambda xs: ( (1./(stdev * np.sqrt( 2. * np.pi )))\n",
    "                        * np.exp( -(1./2) * np.power( (xs - mean) / stdev, 2 ) ) )"
   ]
  },
  {
   "cell_type": "markdown",
   "id": "9cfc3baf-f071-438e-99f6-1ba9ff7d4fc4",
   "metadata": {},
   "source": [
    "> Use this function to generate a gaussian from -6 to 6 with 10000 points, a mean of 0 and a standard deviation of 1. Plot the CDF of this distribution and use the CDF to estimate the probability that a random draw from this gaussian distribution would be\n",
    "> \n",
    "> a. 1 standard deviation or more from the mean.\n",
    ">\n",
    "> b. 2 standard deviations or more from the mean.\n",
    ">\n",
    "> c. 3 standard deviations or more from the mean."
   ]
  },
  {
   "cell_type": "code",
   "execution_count": 26,
   "id": "91be5420-6572-4354-9f73-e91785ac74a6",
   "metadata": {},
   "outputs": [],
   "source": [
    "xs = np.linspace( -6, 6, 10000 )\n",
    "pdf = gaussian_pdf()\n",
    "pdf_values = pdf( xs )"
   ]
  },
  {
   "cell_type": "code",
   "execution_count": 27,
   "id": "e6ffcc63-f92d-4ac6-b0ba-0ce2c70cdbcb",
   "metadata": {},
   "outputs": [
    {
     "data": {
      "image/png": "[encoded data removed]",
      "text/plain": [
       "<Figure size 500x300 with 1 Axes>"
      ]
     },
     "metadata": {},
     "output_type": "display_data"
    }
   ],
   "source": [
    "plt.figure( figsize = (5, 3) )\n",
    "plt.plot( xs, pdf_values, 'k-' )\n",
    "plt.title( 'PDF' )\n",
    "plt.show()"
   ]
  },
  {
   "cell_type": "code",
   "execution_count": 28,
   "id": "f56a57cc-9259-4587-954a-0e3ad23ce1ff",
   "metadata": {},
   "outputs": [],
   "source": [
    "def pdf_to_cdf( pdf, xs ):\n",
    "    \"\"\"Given a function that evaluates a pdf, determine the cdf using trapezoidal integration\"\"\"\n",
    "    # We have to append a 0 because the integrator returns a value for each dx, not each x\n",
    "    return np.r_[0, sint.cumulative_trapezoid( pdf( xs ), xs )]"
   ]
  },
  {
   "cell_type": "code",
   "execution_count": 29,
   "id": "5e3c89d7-b718-4a99-82f8-ebd73bfee024",
   "metadata": {},
   "outputs": [],
   "source": [
    "cdf_values = pdf_to_cdf( pdf, xs )"
   ]
  },
  {
   "cell_type": "code",
   "execution_count": 30,
   "id": "880fe2d6-c727-4f32-8ec4-49fbf0661530",
   "metadata": {},
   "outputs": [
    {
     "data": {
      "image/png": "[encoded data removed]",
      "text/plain": [
       "<Figure size 500x300 with 1 Axes>"
      ]
     },
     "metadata": {},
     "output_type": "display_data"
    }
   ],
   "source": [
    "plt.figure( figsize = (5, 3) )\n",
    "plt.plot( xs, cdf_values, 'k-' )\n",
    "plt.title( 'CDF' )\n",
    "plt.show()"
   ]
  },
  {
   "cell_type": "code",
   "execution_count": 31,
   "id": "091ce2e6-09f6-4677-8f86-b91bab637a28",
   "metadata": {},
   "outputs": [],
   "source": [
    "def function_interpolator_lattice( xs, ys ):\n",
    "    return lambda x_new: np.interp( x_new, xs, ys )"
   ]
  },
  {
   "cell_type": "code",
   "execution_count": 32,
   "id": "e10b6359-4e65-473f-93a7-621d32c7cf08",
   "metadata": {},
   "outputs": [],
   "source": [
    "cdf = function_interpolator_lattice( xs, cdf_values )"
   ]
  },
  {
   "cell_type": "markdown",
   "id": "3e5f1b7b-1c0b-4798-9ca0-47fa154198f6",
   "metadata": {},
   "source": [
    "The probability of being $v$ standard deviations or more from the mean is the sum of two parts:\n",
    "\n",
    "* The left side: $CDF(-a)$\n",
    "    * This is defined to be $\\operatorname{Pr}(X \\leq v)$\n",
    "* The right side: $1 - CDF(v)$\n",
    "    * This is because $\\operatorname{Pr}(X \\geq v) = \\operatorname{Pr}((X \\leq v)^c) = 1 - \\operatorname{Pr}(X \\leq v)$"
   ]
  },
  {
   "cell_type": "code",
   "execution_count": 40,
   "id": "5c8596e3-a74e-41c6-bf20-add08daca0b3",
   "metadata": {},
   "outputs": [],
   "source": [
    "questions = {\n",
    "    '1a': 1,\n",
    "    '1b': 2,\n",
    "    '1c': 3\n",
    "}\n",
    "\n",
    "answers = { q: cdf( -v) + (1 - cdf( v ))\n",
    "            for q, v in questions.items() }"
   ]
  },
  {
   "cell_type": "code",
   "execution_count": 41,
   "id": "7a3067ec-609c-46b5-9c3b-83ed54eeea91",
   "metadata": {},
   "outputs": [
    {
     "data": {
      "text/plain": [
       "{'1a': 0.31731063129265,\n",
       " '1b': 0.04550028981720722,\n",
       " '1c': 0.0026998028434342463}"
      ]
     },
     "execution_count": 41,
     "metadata": {},
     "output_type": "execute_result"
    }
   ],
   "source": [
    "answers"
   ]
  },
  {
   "cell_type": "markdown",
   "id": "4e3e6b17-613a-467c-a1b9-e9422bd9a4bb",
   "metadata": {},
   "source": [
    "---"
   ]
  },
  {
   "cell_type": "markdown",
   "id": "cc2525b6-3e80-4f0b-bae3-0b9dae7f44f6",
   "metadata": {},
   "source": [
    "## Problem 2"
   ]
  },
  {
   "cell_type": "markdown",
   "id": "abe35e66-5328-4e5c-833b-86c1dd1b25ce",
   "metadata": {},
   "source": [
    "> Generate 1000 random draws from the gaussian distribution you generated in question 2 using its CDF and uniform random numbers between 0 and 1. Verify the answers to 2a, b and c. Suggestion: Write a general purpose random draw function that takes as its input a CDF and the number of points to draw."
   ]
  },
  {
   "cell_type": "code",
   "execution_count": 42,
   "id": "afa9483c-035f-484f-b4bc-331f8578b60a",
   "metadata": {},
   "outputs": [],
   "source": [
    "def function_inverse_interpolator_lattice( xs, ys ):\n",
    "    return lambda y_new: np.interp( y_new, ys, xs )"
   ]
  },
  {
   "cell_type": "code",
   "execution_count": 59,
   "id": "f7044c5f-c8b7-48f7-ae2f-ebef2694b0f0",
   "metadata": {},
   "outputs": [],
   "source": [
    "def random_generator( cdf_xs, cdf_values ):\n",
    "    f = function_inverse_interpolator_lattice( cdf_xs, cdf_values )\n",
    "    def gen( size = (1,) ):\n",
    "        u = np.random.uniform( size = size )\n",
    "        return f( u )\n",
    "    return gen"
   ]
  },
  {
   "cell_type": "code",
   "execution_count": 60,
   "id": "7ef99bd6-fc01-4cb2-84c4-5737bba45983",
   "metadata": {},
   "outputs": [],
   "source": [
    "xs = np.linspace( -6, 6, 10000 )\n",
    "\n",
    "pdf = gaussian_pdf()\n",
    "pdf_values = pdf( xs )\n",
    "cdf_values = pdf_to_cdf( pdf, xs )\n",
    "generator = random_generator( xs, cdf_values )\n",
    "\n",
    "values = generator( size = (1000,) )"
   ]
  },
  {
   "cell_type": "code",
   "execution_count": 61,
   "id": "eab901cf-0edb-4105-baf2-bfde2eb88cc9",
   "metadata": {},
   "outputs": [
    {
     "data": {
      "image/png": "[encoded data removed]",
      "text/plain": [
       "<Figure size 500x300 with 1 Axes>"
      ]
     },
     "metadata": {},
     "output_type": "display_data"
    }
   ],
   "source": [
    "plt.figure( figsize = (5, 3) )\n",
    "\n",
    "plt.plot( xs, pdf_values, 'k-',\n",
    "          label = 'Theoretical' )\n",
    "plt.hist( values,\n",
    "          bins = np.arange( -6, 6, 0.2 ),\n",
    "          density = True,\n",
    "          label = 'Sampled' )\n",
    "\n",
    "plt.legend()\n",
    "plt.title( 'PDF vs. sample' )\n",
    "\n",
    "plt.show()"
   ]
  },
  {
   "cell_type": "markdown",
   "id": "bb36f450-d326-4384-9036-a3ee331e1921",
   "metadata": {},
   "source": [
    "---"
   ]
  },
  {
   "cell_type": "markdown",
   "id": "f7905526-d504-4a12-94a9-c28f4dce4cd8",
   "metadata": {},
   "source": [
    "## Problem 3\n",
    "\n",
    "> Suppose you are performing a behavioral experiment where you measure the amount of time it takes for two groups of mice (wild-type and knockout) to find the hidden platform in a Morris Water Maze. Assume that you have 10 mice in each group and that after learning the escape latency is distributed as a gaussian."
   ]
  },
  {
   "cell_type": "markdown",
   "id": "62edf097-f425-4993-9a36-71527568773e",
   "metadata": {},
   "source": [
    "> a. If the actual standard deviations are 10 seconds for both groups, the actual mean time for group 1 is 20 seconds and the actual mean time for group 2 is 30 seconds, what is the probability that you will detect the difference between the groups? The easiest way to do this is to simulate the data and see how often the differences come out significant."
   ]
  },
  {
   "cell_type": "code",
   "execution_count": 81,
   "id": "787ea7bb-0d29-487b-8de7-4e1036edc848",
   "metadata": {},
   "outputs": [],
   "source": [
    "def simulate( group_ns, group_means, group_stds,\n",
    "              n_std = 10,\n",
    "              n_points = 10000 ):\n",
    "    \"\"\"TODO\"\"\"\n",
    "    \n",
    "    if group_means.keys() != group_stds.keys():\n",
    "        raise ValueError( 'Malformed parameters.' )\n",
    "    \n",
    "    group_generators = dict()\n",
    "    for group in group_means.keys():\n",
    "        xs = np.linspace( group_means[group] - (n_std * group_stds[group]),\n",
    "                          group_means[group] + (n_std * group_stds[group]), n_points )\n",
    "        \n",
    "        pdf = gaussian_pdf( mean = group_means[group],\n",
    "                            stdev = group_stds[group] )\n",
    "        pdf_values = pdf( xs )\n",
    "        cdf_values = pdf_to_cdf( pdf, xs )\n",
    "        group_generators[group] = random_generator( xs, cdf_values )\n",
    "    \n",
    "    data = dict()\n",
    "    for group, generator in group_generators.items():\n",
    "        data[group] = generator( size = (group_ns[group],) )\n",
    "    \n",
    "    return data"
   ]
  },
  {
   "cell_type": "code",
   "execution_count": 98,
   "id": "02701c1b-3559-4699-9686-82a3b2a8efeb",
   "metadata": {},
   "outputs": [],
   "source": [
    "def evaluate( data,\n",
    "              test = sstats.ttest_ind ):\n",
    "    \"\"\"TODO\"\"\"\n",
    "    \n",
    "    # This ensures there is a unique (sorted) order to the groups\n",
    "    groups = list( sorted( data.keys() ) )\n",
    "    \n",
    "    ret = dict()\n",
    "    for group_a, group_b in itertools.combinations( groups, 2 ):\n",
    "        ret[(group_a, group_b)] = test( data[group_a], data[group_b] ).pvalue\n",
    "    return ret"
   ]
  },
  {
   "cell_type": "markdown",
   "id": "e878a805-ed93-4623-afb4-4c3b6f64c9e4",
   "metadata": {},
   "source": [
    "### Parameters"
   ]
  },
  {
   "cell_type": "code",
   "execution_count": 148,
   "id": "9f700168-d661-4ea8-8748-c2f378d854fa",
   "metadata": {},
   "outputs": [],
   "source": [
    "group_ns = {\n",
    "    'A': 10,\n",
    "    'B': 10,\n",
    "}\n",
    "\n",
    "group_means = {\n",
    "    'A': 20,\n",
    "    'B': 30,\n",
    "}\n",
    "\n",
    "group_stds = {\n",
    "    'A': 10,\n",
    "    'B': 10,\n",
    "}\n",
    "\n",
    "n_runs = 10000\n",
    "comparison_key = ('A', 'B')\n",
    "\n",
    "alpha = 0.05"
   ]
  },
  {
   "cell_type": "markdown",
   "id": "0e42b8b5-cfda-47a1-96a6-90c810e59828",
   "metadata": {},
   "source": [
    "### Run: $t$-test"
   ]
  },
  {
   "cell_type": "code",
   "execution_count": 149,
   "id": "d05377db-386f-4110-9db2-4a2825fd1494",
   "metadata": {},
   "outputs": [
    {
     "name": "stderr",
     "output_type": "stream",
     "text": [
      "100%|███████████████████████████████████████████████████████████████████████████████████████████████████| 10000/10000 [00:14<00:00, 701.88it/s]\n"
     ]
    }
   ],
   "source": [
    "ps_comparison = []\n",
    "for i_run in tqdm( range( n_runs ) ):\n",
    "    run_ps = evaluate( simulate( group_ns, group_means, group_stds ) )\n",
    "    ps_comparison.append( run_ps[comparison_key] )\n",
    "ps_comparison = np.array( ps_comparison )"
   ]
  },
  {
   "cell_type": "markdown",
   "id": "cea48dd2-fc90-4081-99c7-49171100fb2a",
   "metadata": {},
   "source": [
    "The power is the probability of rejecting the null hypothesis:"
   ]
  },
  {
   "cell_type": "code",
   "execution_count": 150,
   "id": "20026117-f268-4c2d-a084-d6a9b6d4a42b",
   "metadata": {},
   "outputs": [
    {
     "name": "stdout",
     "output_type": "stream",
     "text": [
      "Power: 0.5602\n"
     ]
    }
   ],
   "source": [
    "power = np.sum( ps_comparison < alpha ) / n_runs\n",
    "print( f'Power: {power}' )"
   ]
  },
  {
   "cell_type": "markdown",
   "id": "8b8c562f-1388-444c-a792-6e283fc6e3a8",
   "metadata": {},
   "source": [
    "### Run: Wilcoxon rank-sum"
   ]
  },
  {
   "cell_type": "markdown",
   "id": "e6e9dc4b-8b36-45a5-8b7a-109fc6a8146f",
   "metadata": {},
   "source": [
    "Compare this for the situation with a nonparametric test:"
   ]
  },
  {
   "cell_type": "code",
   "execution_count": 151,
   "id": "80083e1f-e4b5-42dc-9bed-1ca484ba2b80",
   "metadata": {},
   "outputs": [
    {
     "name": "stderr",
     "output_type": "stream",
     "text": [
      "100%|███████████████████████████████████████████████████████████████████████████████████████████████████| 10000/10000 [00:15<00:00, 626.92it/s]\n"
     ]
    }
   ],
   "source": [
    "ps_comparison = []\n",
    "for i_run in tqdm( range( n_runs ) ):\n",
    "    run_ps = evaluate( simulate( group_ns, group_means, group_stds ),\n",
    "                       test = sstats.ranksums )\n",
    "    ps_comparison.append( run_ps[comparison_key] )\n",
    "ps_comparison = np.array( ps_comparison )"
   ]
  },
  {
   "cell_type": "code",
   "execution_count": 152,
   "id": "8001dfbf-bd53-4db8-a0de-b98706b173c8",
   "metadata": {},
   "outputs": [
    {
     "name": "stdout",
     "output_type": "stream",
     "text": [
      "Power: 0.5427\n"
     ]
    }
   ],
   "source": [
    "power = np.sum( ps_comparison < alpha ) / n_runs\n",
    "print( f'Power: {power}' )"
   ]
  },
  {
   "cell_type": "markdown",
   "id": "4e48f6c3-68f7-441b-8371-a759c5760973",
   "metadata": {},
   "source": [
    "In this particular case, we lose a *little* power, but not much."
   ]
  },
  {
   "cell_type": "markdown",
   "id": "6568c6b6-3013-4a28-ba0c-5682c74f2bee",
   "metadata": {},
   "source": [
    "> b. Suppose that the two populations are actually identical, and that both have a mean time of 25 seconds and a standard deviation of 10. Simulate the experiment 1000 times (e.g. do random draws to get a set of times for each group) and determine how often a two sample $t$-test returns a significance result at the default significance level. How is that number of incorrect outcomes related to the significance level?"
   ]
  },
  {
   "cell_type": "markdown",
   "id": "ef695f54-e232-466a-bb99-9c1db5d431e9",
   "metadata": {},
   "source": [
    "### Parameters"
   ]
  },
  {
   "cell_type": "code",
   "execution_count": 153,
   "id": "01f2a869-ba85-4f42-acd7-69a874d86290",
   "metadata": {},
   "outputs": [],
   "source": [
    "group_ns = {\n",
    "    'A': 10,\n",
    "    'B': 10,\n",
    "}\n",
    "\n",
    "group_means = {\n",
    "    'A': 15,\n",
    "    'B': 15,\n",
    "}\n",
    "\n",
    "group_stds = {\n",
    "    'A': 10,\n",
    "    'B': 10,\n",
    "}\n",
    "\n",
    "n_runs = 2000\n",
    "comparison_key = ('A', 'B')\n",
    "\n",
    "alpha = 0.05"
   ]
  },
  {
   "cell_type": "markdown",
   "id": "1ab791cd-8cee-4c51-911b-1220cd31c27c",
   "metadata": {},
   "source": [
    "### Usual significance threshold ($\\alpha = 0.05$)"
   ]
  },
  {
   "cell_type": "code",
   "execution_count": 154,
   "id": "f8f125f6-4b64-45a9-8194-a75e25286a4f",
   "metadata": {},
   "outputs": [
    {
     "name": "stderr",
     "output_type": "stream",
     "text": [
      "100%|█████████████████████████████████████████████████████████████████████████████████████████████████████| 2000/2000 [00:02<00:00, 684.17it/s]\n"
     ]
    }
   ],
   "source": [
    "ps_comparison = []\n",
    "for i_run in tqdm( range( n_runs ) ):\n",
    "    run_ps = evaluate( simulate( group_ns, group_means, group_stds ) )\n",
    "    ps_comparison.append( run_ps[comparison_key] )\n",
    "ps_comparison = np.array( ps_comparison )"
   ]
  },
  {
   "cell_type": "markdown",
   "id": "8469201e-5dfd-435d-bf42-a450596fbbb2",
   "metadata": {},
   "source": [
    "The empirical type I error is the probability of rejecting the null hypothesis under the null hypothesis:"
   ]
  },
  {
   "cell_type": "code",
   "execution_count": 156,
   "id": "abd1b478-1244-47c2-baa8-042f11000059",
   "metadata": {},
   "outputs": [
    {
     "name": "stdout",
     "output_type": "stream",
     "text": [
      "Empirical Type I error: 0.0505\n"
     ]
    }
   ],
   "source": [
    "alpha_empirical = np.sum( ps_comparison < alpha ) / n_runs\n",
    "print( f'Expected Type I error:  {alpha}' )\n",
    "print( f'Empirical Type I error: {alpha_empirical}' )"
   ]
  },
  {
   "cell_type": "markdown",
   "id": "424a4a94-0fc1-4bfd-b87b-031184b090d0",
   "metadata": {},
   "source": [
    "That matches the significance threshold pretty well!"
   ]
  },
  {
   "cell_type": "markdown",
   "id": "eb7ab266-8835-4b80-8155-6d0d745ced38",
   "metadata": {},
   "source": [
    "### Varying the significance threshold"
   ]
  },
  {
   "cell_type": "code",
   "execution_count": 157,
   "id": "8a570f28-fc81-413d-ae2e-22149e7b6bc5",
   "metadata": {},
   "outputs": [
    {
     "name": "stderr",
     "output_type": "stream",
     "text": [
      "100%|██████████████████████████████████████████████████████████████████████████████████████████████████████████| 21/21 [00:59<00:00,  2.82s/it]\n"
     ]
    }
   ],
   "source": [
    "alphas_test = np.arange( 0.005, 0.11, 0.005 )\n",
    "\n",
    "alphas_empirical = np.zeros( alphas_test.shape )\n",
    "for i_alpha, alpha in tqdm( enumerate( alphas_test ),\n",
    "                            total = len( alphas_test ) ):\n",
    "    ps_comparison = []\n",
    "    for i_run in range( n_runs ):\n",
    "        run_ps = evaluate( simulate( group_ns, group_means, group_stds ) )\n",
    "        ps_comparison.append( run_ps[comparison_key] )\n",
    "    ps_comparison = np.array( ps_comparison )\n",
    "    alphas_empirical[i_alpha] = np.sum( ps_comparison < alpha ) / n_runs"
   ]
  },
  {
   "cell_type": "code",
   "execution_count": 158,
   "id": "a177707f-9125-4160-b85f-04e980a80302",
   "metadata": {},
   "outputs": [
    {
     "data": {
      "image/png": "[encoded data removed]",
      "text/plain": [
       "<Figure size 400x300 with 1 Axes>"
      ]
     },
     "metadata": {},
     "output_type": "display_data"
    }
   ],
   "source": [
    "plt.figure( figsize = (4, 3) )\n",
    "\n",
    "plt.plot( alphas_test, alphas_empirical, 'k-', linewidth = 2 )\n",
    "plt.plot( [0, 0.115], [0, 0.115], 'k--', linewidth = 1 )\n",
    "\n",
    "plt.xlabel( 'Significance level ($\\\\alpha$)' )\n",
    "plt.ylabel( 'Empirical Type I error' )\n",
    "\n",
    "plt.xlim( 0, 0.12 )\n",
    "plt.ylim( 0, 0.12 )\n",
    "\n",
    "plt.show()"
   ]
  },
  {
   "cell_type": "markdown",
   "id": "91113f08-a8cb-4a9e-93cd-ebc376b3fb4a",
   "metadata": {},
   "source": [
    "> c. Suppose you were testing four pairs of groups (where each pair is independent and separate from the other pairs) with 10 mice each. What is the probability that one or more of the four tests would result in a significant difference at the $p < 0.05$ level?"
   ]
  },
  {
   "cell_type": "markdown",
   "id": "87c2f7c1-f550-4f06-bba1-a672e37709b6",
   "metadata": {},
   "source": [
    "### Theoretical\n",
    "\n",
    "Under the null hypothesis, whether we reject the null hypothesis is a Bernoulli random variable with $p = \\alpha$ by definition.\n",
    "\n",
    "This means that the number of rejections $R$ of $N$ independent hypothesis tests is a binomial random variable, with $n = N$ and $p = \\alpha$. So,\n",
    "\n",
    "$$\n",
    "\\begin{eqnarray*}\n",
    "    \\operatorname{Pr}(R \\geq 1) & = & 1 - \\operatorname{Pr}(R < 1) \\\\\n",
    "        & = & 1 - \\operatorname{Pr}(R = 0) \\\\\n",
    "        & = & 1 - \\binom{N}{0}\\,\\alpha^0\\,(1 - \\alpha)^N \\\\\n",
    "        & = & 1 - (1 - \\alpha)^N\n",
    "\\end{eqnarray*}\n",
    "$$\n",
    "\n",
    "(as the $0$th binomial coefficient is always 1)."
   ]
  },
  {
   "cell_type": "markdown",
   "id": "823cb02a-8453-42a7-8dab-9a5b7b43094b",
   "metadata": {},
   "source": [
    "### Parameters"
   ]
  },
  {
   "cell_type": "code",
   "execution_count": 170,
   "id": "a6e19b58-68e0-4e0d-9074-cfd58b9c5dd9",
   "metadata": {},
   "outputs": [],
   "source": [
    "n_pairs = 4\n",
    "\n",
    "group_ns = {\n",
    "    'A': 10,\n",
    "    'B': 10,\n",
    "}\n",
    "\n",
    "group_means = {\n",
    "    'A': 15,\n",
    "    'B': 15,\n",
    "}\n",
    "\n",
    "group_stds = {\n",
    "    'A': 10,\n",
    "    'B': 10,\n",
    "}\n",
    "\n",
    "n_runs = 10000\n",
    "comparison_key = ('A', 'B')\n",
    "\n",
    "alpha = 0.05\n",
    "\n",
    "pr_any_theoretical = 1. - np.power( 1 - 0.05, n_pairs )"
   ]
  },
  {
   "cell_type": "code",
   "execution_count": 171,
   "id": "f029c6e7-a589-4efe-b91c-713e16dd64b3",
   "metadata": {},
   "outputs": [
    {
     "name": "stderr",
     "output_type": "stream",
     "text": [
      "100%|███████████████████████████████████████████████████████████████████████████████████████████████████| 10000/10000 [00:58<00:00, 172.12it/s]\n"
     ]
    }
   ],
   "source": [
    "ps_pairs = np.zeros( (n_pairs, n_runs) )\n",
    "for i_run in tqdm( range( n_runs ) ):\n",
    "    for i_pair in range( n_pairs ):\n",
    "        run_ps = evaluate( simulate( group_ns, group_means, group_stds ) )\n",
    "        ps_pairs[i_pair, i_run] = run_ps[comparison_key]"
   ]
  },
  {
   "cell_type": "code",
   "execution_count": 172,
   "id": "bb13a60a-ca32-48b7-b86a-6d889f9f86e6",
   "metadata": {},
   "outputs": [],
   "source": [
    "reject_any = np.any( ps_pairs < alpha, axis = 0 )"
   ]
  },
  {
   "cell_type": "code",
   "execution_count": 173,
   "id": "654701b3-6dc6-435a-90ff-ea6c39835d24",
   "metadata": {},
   "outputs": [
    {
     "name": "stdout",
     "output_type": "stream",
     "text": [
      "Expected familywise error rate:  0.18549375000000012\n",
      "Empirical familywise error rate: 0.187\n"
     ]
    }
   ],
   "source": [
    "pr_any_empirical = np.sum( reject_any ) / n_runs\n",
    "print( f'Expected familywise error rate:  {pr_any_theoretical}' )\n",
    "print( f'Empirical familywise error rate: {pr_any_empirical}' )"
   ]
  }
 ],
 "metadata": {
  "kernelspec": {
   "display_name": "Python 3 (ipykernel)",
   "language": "python",
   "name": "python3"
  },
  "language_info": {
   "codemirror_mode": {
    "name": "ipython",
    "version": 3
   },
   "file_extension": ".py",
   "mimetype": "text/x-python",
   "name": "python",
   "nbconvert_exporter": "python",
   "pygments_lexer": "ipython3",
   "version": "3.10.8"
  }
 },
 "nbformat": 4,
 "nbformat_minor": 5
}
