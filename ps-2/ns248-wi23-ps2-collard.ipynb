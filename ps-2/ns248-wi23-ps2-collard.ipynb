{
 "cells": [
  {
   "cell_type": "markdown",
   "id": "048d1f9a-93cc-4e86-84dd-762c367d6157",
   "metadata": {},
   "source": [
    "# Problem Set 2\n",
    "## UCSF NS248, Winter 2023\n",
    "\n",
    "### Solutions by Max Collard"
   ]
  },
  {
   "cell_type": "markdown",
   "id": "64d4150a-a3c2-495a-b086-fddf7140c5ed",
   "metadata": {},
   "source": [
    "---"
   ]
  },
  {
   "cell_type": "code",
   "execution_count": 1,
   "id": "e27262e3-9679-44e6-982f-da80ce7c5a9d",
   "metadata": {},
   "outputs": [],
   "source": [
    "import itertools\n",
    "\n",
    "import numpy as np\n",
    "import scipy.integrate as sint\n",
    "import scipy.stats as sstats\n",
    "import matplotlib.pyplot as plt\n",
    "\n",
    "from tqdm import tqdm"
   ]
  },
  {
   "cell_type": "markdown",
   "id": "1b65ab09-a8ec-436d-800a-7667f34f8f1b",
   "metadata": {},
   "source": [
    "---"
   ]
  },
  {
   "cell_type": "markdown",
   "id": "c163ba5b-0ab9-4208-811d-0674bdf11c85",
   "metadata": {},
   "source": [
    "## General notes"
   ]
  },
  {
   "cell_type": "markdown",
   "id": "5c3f6249-409e-4b73-8836-1f75c09e53b5",
   "metadata": {},
   "source": [
    "* Why do we do hypothesis testing?\n",
    "    * Ideally, other than \"because we have to\""
   ]
  },
  {
   "cell_type": "markdown",
   "id": "a5acfdfb-2d68-449b-925f-2fac0d0d95dd",
   "metadata": {},
   "source": [
    "---"
   ]
  },
  {
   "cell_type": "markdown",
   "id": "4d0f2345-7199-44cb-a792-bdc155d9a570",
   "metadata": {},
   "source": [
    "## Problem 1\n",
    "\n",
    "> Write a function that generates a gaussian distribution given three inputs:\n",
    "> 1) the x coordinates for the points to be returned,\n",
    "> 2) the mean and\n",
    "> 3) the standard deviation.\n",
    ">\n",
    "> e.g. `f = gaussian(xvals, mean, stdev)`"
   ]
  },
  {
   "cell_type": "code",
   "execution_count": 2,
   "id": "7cdc050f-daa4-4487-a018-be4407dd1b07",
   "metadata": {},
   "outputs": [],
   "source": [
    "def gaussian_pdf( mean = 0., stdev = 1. ):\n",
    "    \"\"\"Returns a function that evaluates a Gaussian pdf (default: standard normal)\"\"\"\n",
    "    return lambda xs: ( (1./(stdev * np.sqrt( 2. * np.pi )))\n",
    "                        * np.exp( -(1./2) * np.power( (xs - mean) / stdev, 2 ) ) )"
   ]
  },
  {
   "cell_type": "markdown",
   "id": "9cfc3baf-f071-438e-99f6-1ba9ff7d4fc4",
   "metadata": {},
   "source": [
    "> Use this function to generate a gaussian from -6 to 6 with 10000 points, a mean of 0 and a standard deviation of 1. Plot the CDF of this distribution and use the CDF to estimate the probability that a random draw from this gaussian distribution would be\n",
    "> \n",
    "> a. 1 standard deviation or more from the mean.\n",
    ">\n",
    "> b. 2 standard deviations or more from the mean.\n",
    ">\n",
    "> c. 3 standard deviations or more from the mean."
   ]
  },
  {
   "cell_type": "code",
   "execution_count": 3,
   "id": "91be5420-6572-4354-9f73-e91785ac74a6",
   "metadata": {},
   "outputs": [],
   "source": [
    "xs = np.linspace( -6, 6, 10000 )\n",
    "pdf = gaussian_pdf( mean = 0.,\n",
    "                    stdev = 1. )\n",
    "pdf_values = pdf( xs )"
   ]
  },
  {
   "cell_type": "code",
   "execution_count": 4,
   "id": "e6ffcc63-f92d-4ac6-b0ba-0ce2c70cdbcb",
   "metadata": {},
   "outputs": [
    {
     "data": {
      "image/png": "[encoded data removed]",
      "text/plain": [
       "<Figure size 500x300 with 1 Axes>"
      ]
     },
     "metadata": {},
     "output_type": "display_data"
    }
   ],
   "source": [
    "plt.figure( figsize = (5, 3) )\n",
    "plt.plot( xs, pdf_values, 'k-' )\n",
    "plt.title( 'PDF' )\n",
    "plt.show()"
   ]
  },
  {
   "cell_type": "code",
   "execution_count": 5,
   "id": "f56a57cc-9259-4587-954a-0e3ad23ce1ff",
   "metadata": {},
   "outputs": [],
   "source": [
    "def pdf_to_cdf( pdf, xs ):\n",
    "    \"\"\"Given a function that evaluates a pdf, determine the cdf using trapezoidal integration\"\"\"\n",
    "    # We have to append a 0 because the integrator returns a value for each dx, not each x\n",
    "    return np.r_[0, sint.cumulative_trapezoid( pdf( xs ), xs )]"
   ]
  },
  {
   "cell_type": "code",
   "execution_count": 6,
   "id": "5e3c89d7-b718-4a99-82f8-ebd73bfee024",
   "metadata": {},
   "outputs": [],
   "source": [
    "cdf_values = pdf_to_cdf( pdf, xs )"
   ]
  },
  {
   "cell_type": "code",
   "execution_count": 7,
   "id": "880fe2d6-c727-4f32-8ec4-49fbf0661530",
   "metadata": {},
   "outputs": [
    {
     "data": {
      "image/png": "[encoded data removed]",
      "text/plain": [
       "<Figure size 500x300 with 1 Axes>"
      ]
     },
     "metadata": {},
     "output_type": "display_data"
    }
   ],
   "source": [
    "plt.figure( figsize = (5, 3) )\n",
    "plt.plot( xs, cdf_values, 'k-' )\n",
    "plt.title( 'CDF' )\n",
    "plt.show()"
   ]
  },
  {
   "cell_type": "code",
   "execution_count": 8,
   "id": "091ce2e6-09f6-4677-8f86-b91bab637a28",
   "metadata": {},
   "outputs": [],
   "source": [
    "def function_interpolator_lattice( xs, ys ):\n",
    "    \"\"\"Given arrays approximating a function `ys` = f(`xs`), return an interpolator function\"\"\"\n",
    "    return lambda x_new: np.interp( x_new, xs, ys )"
   ]
  },
  {
   "cell_type": "code",
   "execution_count": 9,
   "id": "e10b6359-4e65-473f-93a7-621d32c7cf08",
   "metadata": {},
   "outputs": [],
   "source": [
    "cdf = function_interpolator_lattice( xs, cdf_values )"
   ]
  },
  {
   "cell_type": "markdown",
   "id": "3e5f1b7b-1c0b-4798-9ca0-47fa154198f6",
   "metadata": {},
   "source": [
    "The probability of being $v$ standard deviations or more from the mean is the sum of two parts:\n",
    "\n",
    "* The left side: $\\operatorname{CDF}(-a)$\n",
    "    * This is defined to be $\\operatorname{Pr}(X \\leq v)$\n",
    "* The right side: $1 - \\operatorname{CDF}(v)$\n",
    "    * This is because $\\operatorname{Pr}(X \\geq v) = \\operatorname{Pr}((X \\leq v)^c) = 1 - \\operatorname{Pr}(X \\leq v)$"
   ]
  },
  {
   "cell_type": "code",
   "execution_count": 10,
   "id": "5c8596e3-a74e-41c6-bf20-add08daca0b3",
   "metadata": {},
   "outputs": [],
   "source": [
    "questions = {\n",
    "    '1a': 1,\n",
    "    '1b': 2,\n",
    "    '1c': 3\n",
    "}\n",
    "\n",
    "answers = { q: cdf( -v) + (1 - cdf( v ))\n",
    "            for q, v in questions.items() }"
   ]
  },
  {
   "cell_type": "code",
   "execution_count": 11,
   "id": "7a3067ec-609c-46b5-9c3b-83ed54eeea91",
   "metadata": {},
   "outputs": [
    {
     "data": {
      "text/plain": [
       "{'1a': 0.31731063129265,\n",
       " '1b': 0.04550028981720722,\n",
       " '1c': 0.0026998028434342463}"
      ]
     },
     "execution_count": 11,
     "metadata": {},
     "output_type": "execute_result"
    }
   ],
   "source": [
    "answers"
   ]
  },
  {
   "cell_type": "markdown",
   "id": "4e3e6b17-613a-467c-a1b9-e9422bd9a4bb",
   "metadata": {},
   "source": [
    "---"
   ]
  },
  {
   "cell_type": "markdown",
   "id": "cc2525b6-3e80-4f0b-bae3-0b9dae7f44f6",
   "metadata": {},
   "source": [
    "## Problem 2"
   ]
  },
  {
   "cell_type": "markdown",
   "id": "abe35e66-5328-4e5c-833b-86c1dd1b25ce",
   "metadata": {},
   "source": [
    "> Generate 1000 random draws from the gaussian distribution you generated in question 2 using its CDF and uniform random numbers between 0 and 1. Verify the answers to 2a, b and c. Suggestion: Write a general purpose random draw function that takes as its input a CDF and the number of points to draw."
   ]
  },
  {
   "cell_type": "markdown",
   "id": "14bc6999-8ca1-45e9-8bca-73b74ae6add0",
   "metadata": {},
   "source": [
    "Note that if $U \\sim \\operatorname{Uniform}(0, 1)$, and $F$ is the CDF of some distribution $\\mathcal{D}$, then\n",
    "$$ F^{-1}(U) \\sim \\mathcal{D} $$\n",
    "\n",
    "#### Proof sketch\n",
    "\n",
    "Note that the CDF of $F^{-1}(U)$ is identical to $F$:\n",
    "\n",
    "$$\n",
    "\\begin{eqnarray*}\n",
    "    \\operatorname{Pr}(F^{-1}(U) \\leq x) & = & \\operatorname{Pr}(U \\leq F(x)) \\\\\n",
    "        & = & F(x)\n",
    "\\end{eqnarray*}\n",
    "$$\n",
    "\n",
    "(here the second step comes from the observation that $\\operatorname{Pr}(U \\leq p) = p$, which we leveraged to simulate probabilistic firing in the last problem set.)"
   ]
  },
  {
   "cell_type": "code",
   "execution_count": 12,
   "id": "afa9483c-035f-484f-b4bc-331f8578b60a",
   "metadata": {},
   "outputs": [],
   "source": [
    "def function_inverse_interpolator_lattice( xs, ys ):\n",
    "    \"\"\"Return a function that computes an interpolated version of the inverse of f(`xs`) = `ys`\"\"\"\n",
    "    return lambda y_new: np.interp( y_new, ys, xs )"
   ]
  },
  {
   "cell_type": "code",
   "execution_count": 13,
   "id": "f7044c5f-c8b7-48f7-ae2f-ebef2694b0f0",
   "metadata": {},
   "outputs": [],
   "source": [
    "def random_generator( cdf_xs, cdf_values ):\n",
    "    \"\"\"Return a function that generates a random variable from a distribution specified by the given cdf\"\"\"\n",
    "    f = function_inverse_interpolator_lattice( cdf_xs, cdf_values )\n",
    "    def gen( size = (1,) ):\n",
    "        u = np.random.uniform( size = size )\n",
    "        return f( u )\n",
    "    return gen"
   ]
  },
  {
   "cell_type": "code",
   "execution_count": 14,
   "id": "7ef99bd6-fc01-4cb2-84c4-5737bba45983",
   "metadata": {},
   "outputs": [],
   "source": [
    "xs = np.linspace( -6, 6, 10000 )\n",
    "\n",
    "pdf = gaussian_pdf()\n",
    "pdf_values = pdf( xs )\n",
    "cdf_values = pdf_to_cdf( pdf, xs )\n",
    "generator = random_generator( xs, cdf_values )\n",
    "\n",
    "values = generator( size = (1000,) )"
   ]
  },
  {
   "cell_type": "code",
   "execution_count": 15,
   "id": "eab901cf-0edb-4105-baf2-bfde2eb88cc9",
   "metadata": {},
   "outputs": [
    {
     "data": {
      "image/png": "[encoded data removed]",
      "text/plain": [
       "<Figure size 500x300 with 1 Axes>"
      ]
     },
     "metadata": {},
     "output_type": "display_data"
    }
   ],
   "source": [
    "plt.figure( figsize = (5, 3) )\n",
    "\n",
    "plt.plot( xs, pdf_values, 'k-',\n",
    "          label = 'Theoretical' )\n",
    "plt.hist( values,\n",
    "          bins = np.arange( -6, 6, 0.2 ),\n",
    "          density = True,\n",
    "          label = 'Sampled' )\n",
    "\n",
    "plt.legend()\n",
    "plt.title( 'PDF vs. sample' )\n",
    "\n",
    "plt.show()"
   ]
  },
  {
   "cell_type": "markdown",
   "id": "bb36f450-d326-4384-9036-a3ee331e1921",
   "metadata": {},
   "source": [
    "---"
   ]
  },
  {
   "cell_type": "markdown",
   "id": "f7905526-d504-4a12-94a9-c28f4dce4cd8",
   "metadata": {},
   "source": [
    "## Problem 3\n",
    "\n",
    "> Suppose you are performing a behavioral experiment where you measure the amount of time it takes for two groups of mice (wild-type and knockout) to find the hidden platform in a Morris Water Maze. Assume that you have 10 mice in each group and that after learning the escape latency is distributed as a gaussian."
   ]
  },
  {
   "cell_type": "markdown",
   "id": "62edf097-f425-4993-9a36-71527568773e",
   "metadata": {},
   "source": [
    "> a. If the actual standard deviations are 10 seconds for both groups, the actual mean time for group 1 is 20 seconds and the actual mean time for group 2 is 30 seconds, what is the probability that you will detect the difference between the groups? The easiest way to do this is to simulate the data and see how often the differences come out significant."
   ]
  },
  {
   "cell_type": "code",
   "execution_count": 16,
   "id": "787ea7bb-0d29-487b-8de7-4e1036edc848",
   "metadata": {},
   "outputs": [],
   "source": [
    "def simulate( group_ns, group_means, group_stds,\n",
    "              method = 'np',\n",
    "              n_points = 10000,\n",
    "              n_std = 10 ):\n",
    "    \"\"\"Simulate groups of iid Gaussian draws with the given parameters\n",
    "    \n",
    "    Keyword arguments:\n",
    "    * `method`: the random number generator method to use\n",
    "        * `np` (default) uses `numpy` built-ins\n",
    "        * `mine` uses the demo functions created for the above problems; this has\n",
    "            the additional parameters `n_points` (the number of CDF points used for\n",
    "            interpolation) and `n_std` (the number of standard deviations away from\n",
    "            the mean to compute tails for the CDF)\n",
    "    \"\"\"\n",
    "    \n",
    "    # Check to see that all the groups have their parameters defined\n",
    "    if group_means.keys() != group_stds.keys():\n",
    "        raise ValueError( 'Malformed parameters.' )\n",
    "    if group_ns.keys() != group_means.keys():\n",
    "        raise ValueError( 'Malformed parameters.' )\n",
    "    \n",
    "    # Create random number generators for each group\n",
    "    group_generators = dict()\n",
    "    for group in group_means.keys():\n",
    "        \n",
    "        if method == 'np':\n",
    "            # Use the `numpy` built-in random methods for speed\n",
    "            # This defines a random generator function that has the same arguments as what I\n",
    "            #   made in `random_generator`\n",
    "            def gen( size = (1,) ):\n",
    "                return np.random.normal( loc = group_means[group],\n",
    "                                         scale = group_stds[group],\n",
    "                                         size = size )\n",
    "            group_generators[group] = gen\n",
    "            \n",
    "        elif method == 'mine':\n",
    "            # Use my hand-made Gaussian generator as a demo\n",
    "            \n",
    "            xs = np.linspace( group_means[group] - (n_std * group_stds[group]),\n",
    "                              group_means[group] + (n_std * group_stds[group]), n_points )\n",
    "            pdf = gaussian_pdf( mean = group_means[group],\n",
    "                                stdev = group_stds[group] )\n",
    "            pdf_values = pdf( xs )\n",
    "            cdf_values = pdf_to_cdf( pdf, xs )\n",
    "            group_generators[group] = random_generator( xs, cdf_values )\n",
    "    \n",
    "    # Use the random number generators of whatever method to generate data for each group\n",
    "    data = dict()\n",
    "    for group, generator in group_generators.items():\n",
    "        data[group] = generator( size = (group_ns[group],) )\n",
    "    \n",
    "    return data"
   ]
  },
  {
   "cell_type": "code",
   "execution_count": 17,
   "id": "02701c1b-3559-4699-9686-82a3b2a8efeb",
   "metadata": {},
   "outputs": [],
   "source": [
    "def evaluate( data,\n",
    "              test = sstats.ttest_ind ):\n",
    "    \"\"\"Return the p-value for the given `test` between all of the groups in the given `dict` of `data`\n",
    "    \n",
    "    (Default is `scipy.stats.ttest_ind`)\n",
    "    \"\"\"\n",
    "    \n",
    "    # This ensures there is a unique (sorted) order to the groups\n",
    "    groups = list( sorted( data.keys() ) )\n",
    "    \n",
    "    ret = dict()\n",
    "    # Iterate across all possible comparisons between two groups\n",
    "    for group_a, group_b in itertools.combinations( groups, 2 ):\n",
    "        ret[(group_a, group_b)] = test( data[group_a], data[group_b] ).pvalue\n",
    "    return ret"
   ]
  },
  {
   "cell_type": "markdown",
   "id": "e878a805-ed93-4623-afb4-4c3b6f64c9e4",
   "metadata": {},
   "source": [
    "### Parameters"
   ]
  },
  {
   "cell_type": "code",
   "execution_count": 18,
   "id": "9f700168-d661-4ea8-8748-c2f378d854fa",
   "metadata": {},
   "outputs": [],
   "source": [
    "group_ns = {\n",
    "    'A': 10,\n",
    "    'B': 10,\n",
    "}\n",
    "\n",
    "group_means = {\n",
    "    'A': 20,\n",
    "    'B': 30,\n",
    "}\n",
    "\n",
    "group_stds = {\n",
    "    'A': 10,\n",
    "    'B': 10,\n",
    "}\n",
    "\n",
    "n_runs = 10000\n",
    "comparison_key = ('A', 'B')\n",
    "\n",
    "alpha = 0.05"
   ]
  },
  {
   "cell_type": "markdown",
   "id": "0e42b8b5-cfda-47a1-96a6-90c810e59828",
   "metadata": {},
   "source": [
    "### Run: $t$-test"
   ]
  },
  {
   "cell_type": "code",
   "execution_count": 19,
   "id": "d05377db-386f-4110-9db2-4a2825fd1494",
   "metadata": {},
   "outputs": [
    {
     "name": "stderr",
     "output_type": "stream",
     "text": [
      "100%|██████████████████████████████████████████████████████████████████████████████████████████████████| 10000/10000 [00:01<00:00, 5625.22it/s]\n"
     ]
    }
   ],
   "source": [
    "ps_comparison = []\n",
    "for i_run in tqdm( range( n_runs ) ):\n",
    "    run_ps = evaluate( simulate( group_ns, group_means, group_stds ) )\n",
    "    ps_comparison.append( run_ps[comparison_key] )\n",
    "ps_comparison = np.array( ps_comparison )"
   ]
  },
  {
   "cell_type": "markdown",
   "id": "cea48dd2-fc90-4081-99c7-49171100fb2a",
   "metadata": {},
   "source": [
    "The power is the probability of rejecting the null hypothesis:"
   ]
  },
  {
   "cell_type": "code",
   "execution_count": 20,
   "id": "20026117-f268-4c2d-a084-d6a9b6d4a42b",
   "metadata": {},
   "outputs": [
    {
     "name": "stdout",
     "output_type": "stream",
     "text": [
      "Power: 0.5588\n"
     ]
    }
   ],
   "source": [
    "power = np.sum( ps_comparison < alpha ) / n_runs\n",
    "print( f'Power: {power}' )"
   ]
  },
  {
   "cell_type": "markdown",
   "id": "8b8c562f-1388-444c-a792-6e283fc6e3a8",
   "metadata": {},
   "source": [
    "### Aside: Nonparametric test (Wilcoxon rank-sum)"
   ]
  },
  {
   "cell_type": "markdown",
   "id": "e6e9dc4b-8b36-45a5-8b7a-109fc6a8146f",
   "metadata": {},
   "source": [
    "Compare this for the situation with a nonparametric test:"
   ]
  },
  {
   "cell_type": "code",
   "execution_count": 21,
   "id": "80083e1f-e4b5-42dc-9bed-1ca484ba2b80",
   "metadata": {},
   "outputs": [
    {
     "name": "stderr",
     "output_type": "stream",
     "text": [
      "100%|██████████████████████████████████████████████████████████████████████████████████████████████████| 10000/10000 [00:03<00:00, 2889.88it/s]\n"
     ]
    }
   ],
   "source": [
    "ps_comparison = []\n",
    "for i_run in tqdm( range( n_runs ) ):\n",
    "    # Here we'll swap out the nonparametric `ranksums` test to use instead\n",
    "    run_ps = evaluate( simulate( group_ns, group_means, group_stds ),\n",
    "                       test = sstats.ranksums )\n",
    "    ps_comparison.append( run_ps[comparison_key] )\n",
    "ps_comparison = np.array( ps_comparison )"
   ]
  },
  {
   "cell_type": "code",
   "execution_count": 22,
   "id": "8001dfbf-bd53-4db8-a0de-b98706b173c8",
   "metadata": {},
   "outputs": [
    {
     "name": "stdout",
     "output_type": "stream",
     "text": [
      "Power: 0.5467\n"
     ]
    }
   ],
   "source": [
    "power = np.sum( ps_comparison < alpha ) / n_runs\n",
    "print( f'Power: {power}' )"
   ]
  },
  {
   "cell_type": "markdown",
   "id": "4e48f6c3-68f7-441b-8371-a759c5760973",
   "metadata": {},
   "source": [
    "In this particular case, we lose a *little* power, but not much."
   ]
  },
  {
   "cell_type": "markdown",
   "id": "6568c6b6-3013-4a28-ba0c-5682c74f2bee",
   "metadata": {},
   "source": [
    "> b. Suppose that the two populations are actually identical, and that both have a mean time of 25 seconds and a standard deviation of 10. Simulate the experiment 1000 times (e.g. do random draws to get a set of times for each group) and determine how often a two sample $t$-test returns a significance result at the default significance level. How is that number of incorrect outcomes related to the significance level?"
   ]
  },
  {
   "cell_type": "markdown",
   "id": "ef695f54-e232-466a-bb99-9c1db5d431e9",
   "metadata": {},
   "source": [
    "### Parameters"
   ]
  },
  {
   "cell_type": "code",
   "execution_count": 23,
   "id": "01f2a869-ba85-4f42-acd7-69a874d86290",
   "metadata": {},
   "outputs": [],
   "source": [
    "group_ns = {\n",
    "    'A': 10,\n",
    "    'B': 10,\n",
    "}\n",
    "\n",
    "group_means = {\n",
    "    'A': 15,\n",
    "    'B': 15,\n",
    "}\n",
    "\n",
    "group_stds = {\n",
    "    'A': 10,\n",
    "    'B': 10,\n",
    "}\n",
    "\n",
    "n_runs = 10000\n",
    "comparison_key = ('A', 'B')\n",
    "\n",
    "alpha = 0.05"
   ]
  },
  {
   "cell_type": "markdown",
   "id": "1ab791cd-8cee-4c51-911b-1220cd31c27c",
   "metadata": {},
   "source": [
    "### Usual significance threshold ($\\alpha = 0.05$)"
   ]
  },
  {
   "cell_type": "code",
   "execution_count": 24,
   "id": "f8f125f6-4b64-45a9-8194-a75e25286a4f",
   "metadata": {},
   "outputs": [
    {
     "name": "stderr",
     "output_type": "stream",
     "text": [
      "100%|██████████████████████████████████████████████████████████████████████████████████████████████████| 10000/10000 [00:01<00:00, 6193.54it/s]\n"
     ]
    }
   ],
   "source": [
    "ps_comparison = []\n",
    "for i_run in tqdm( range( n_runs ) ):\n",
    "    run_ps = evaluate( simulate( group_ns, group_means, group_stds ) )\n",
    "    ps_comparison.append( run_ps[comparison_key] )\n",
    "ps_comparison = np.array( ps_comparison )"
   ]
  },
  {
   "cell_type": "markdown",
   "id": "8469201e-5dfd-435d-bf42-a450596fbbb2",
   "metadata": {},
   "source": [
    "The empirical type I error is the probability of rejecting the null hypothesis under the null hypothesis:"
   ]
  },
  {
   "cell_type": "code",
   "execution_count": 25,
   "id": "abd1b478-1244-47c2-baa8-042f11000059",
   "metadata": {},
   "outputs": [
    {
     "name": "stdout",
     "output_type": "stream",
     "text": [
      "Expected Type I error:  0.05\n",
      "Empirical Type I error: 0.0516\n"
     ]
    }
   ],
   "source": [
    "alpha_empirical = np.sum( ps_comparison < alpha ) / n_runs\n",
    "print( f'Expected Type I error:  {alpha}' )\n",
    "print( f'Empirical Type I error: {alpha_empirical}' )"
   ]
  },
  {
   "cell_type": "markdown",
   "id": "424a4a94-0fc1-4bfd-b87b-031184b090d0",
   "metadata": {},
   "source": [
    "That matches the significance threshold pretty well!"
   ]
  },
  {
   "cell_type": "markdown",
   "id": "eb7ab266-8835-4b80-8155-6d0d745ced38",
   "metadata": {},
   "source": [
    "### Varying the significance threshold"
   ]
  },
  {
   "cell_type": "code",
   "execution_count": 26,
   "id": "8a570f28-fc81-413d-ae2e-22149e7b6bc5",
   "metadata": {},
   "outputs": [
    {
     "name": "stderr",
     "output_type": "stream",
     "text": [
      "100%|██████████████████████████████████████████████████████████████████████████████████████████████████████████| 21/21 [00:32<00:00,  1.53s/it]\n"
     ]
    }
   ],
   "source": [
    "alphas_test = np.arange( 0.005, 0.11, 0.005 )\n",
    "\n",
    "alphas_empirical = np.zeros( alphas_test.shape )\n",
    "for i_alpha, alpha in tqdm( enumerate( alphas_test ),\n",
    "                            total = len( alphas_test ) ):\n",
    "    ps_comparison = []\n",
    "    for i_run in range( n_runs ):\n",
    "        run_ps = evaluate( simulate( group_ns, group_means, group_stds ) )\n",
    "        ps_comparison.append( run_ps[comparison_key] )\n",
    "    ps_comparison = np.array( ps_comparison )\n",
    "    alphas_empirical[i_alpha] = np.sum( ps_comparison < alpha ) / n_runs"
   ]
  },
  {
   "cell_type": "code",
   "execution_count": 27,
   "id": "a177707f-9125-4160-b85f-04e980a80302",
   "metadata": {},
   "outputs": [
    {
     "data": {
      "image/png": "[encoded data removed]",
      "text/plain": [
       "<Figure size 400x300 with 1 Axes>"
      ]
     },
     "metadata": {},
     "output_type": "display_data"
    }
   ],
   "source": [
    "plt.figure( figsize = (4, 3) )\n",
    "\n",
    "plt.plot( alphas_test, alphas_empirical, 'k-', linewidth = 2 )\n",
    "plt.plot( [0, 0.115], [0, 0.115], 'k--', linewidth = 1 )\n",
    "\n",
    "plt.xlabel( 'Significance level ($\\\\alpha$)' )\n",
    "plt.ylabel( 'Empirical Type I error' )\n",
    "\n",
    "plt.xlim( 0, 0.12 )\n",
    "plt.ylim( 0, 0.12 )\n",
    "\n",
    "plt.show()"
   ]
  },
  {
   "cell_type": "markdown",
   "id": "de1637a0-1882-4d90-8b65-4afe8727a58a",
   "metadata": {},
   "source": [
    "Note that our observed Type I error tracks the significance level $\\alpha$ of the test used quite well."
   ]
  },
  {
   "cell_type": "markdown",
   "id": "dd6c17e0-7adf-4eee-bd40-020a070b14dd",
   "metadata": {},
   "source": [
    "---"
   ]
  },
  {
   "cell_type": "markdown",
   "id": "7365c088-bd1c-4354-87f6-9765994de7e5",
   "metadata": {},
   "source": [
    "### Aside: Statistical significance is not itself statistically significant"
   ]
  },
  {
   "cell_type": "markdown",
   "id": "883e3811-5a3d-4711-8bc5-1cd06f1e7d71",
   "metadata": {},
   "source": [
    "Let's see what our error rate is if our test is not based on the actual differences, but is instead based on whether each group is different from the mean.\n",
    "\n",
    "Say in this case that for groups A and B, we're looking at \"changes from baseline\". Here, we'll say that groups A and B are \"different\" if **one** is significantly different, but the other is **not**."
   ]
  },
  {
   "cell_type": "code",
   "execution_count": 28,
   "id": "989afd18-a3c4-4e49-a342-1b44805b12d1",
   "metadata": {},
   "outputs": [],
   "source": [
    "group_ns = {\n",
    "    'A': 10,\n",
    "    'B': 10,\n",
    "}\n",
    "\n",
    "overall_mean = 0.\n",
    "group_means = {\n",
    "    'A': overall_mean,\n",
    "    'B': overall_mean,\n",
    "}\n",
    "\n",
    "group_stds = {\n",
    "    'A': 10,\n",
    "    'B': 10,\n",
    "}\n",
    "\n",
    "n_runs = 10000\n",
    "comparison_key = ('A', 'B')\n",
    "\n",
    "alpha = 0.05"
   ]
  },
  {
   "cell_type": "code",
   "execution_count": 29,
   "id": "85fd75cd-94fc-4467-87a8-10298719ff23",
   "metadata": {},
   "outputs": [],
   "source": [
    "# This allows us to use dot-notation in an easy way\n",
    "from types import SimpleNamespace\n",
    "\n",
    "def test_one_significant( alpha = 0.05,\n",
    "                          mean_null = 0. ):\n",
    "    \"\"\"Return a statistical test with the following characteristics:\n",
    "    \n",
    "    * Return the significant p-value if *one* of the two groups is different from\n",
    "        the null at significance level `alpha`, but not the other\n",
    "    * Return 0.5 (not significant) if *both* or *neither* of the two grups is different\n",
    "        from the null at significance level `alpha`\n",
    "    \n",
    "    (I.e., the returned `test` checks for a \"difference in significance\").\n",
    "    \"\"\"\n",
    "    \n",
    "    def test( data_a, data_b ):\n",
    "        # Do 1-sample tests versus 0 for each group\n",
    "        result_a = sstats.ttest_1samp( data_a, mean_null )\n",
    "        result_b = sstats.ttest_1samp( data_b, mean_null )\n",
    "        \n",
    "        # Significant \"difference\": One shows a change, but not the other\n",
    "        if result_a.pvalue < alpha and result_b.pvalue >= alpha:\n",
    "            return SimpleNamespace( pvalue = result_a.pvalue )\n",
    "        if result_b.pvalue < alpha and result_a.pvalue >= alpha:\n",
    "            return SimpleNamespace( pvalue = result_b.pvalue )\n",
    "        \n",
    "        # Not significant: Either both show a change, or neither do\n",
    "        return SimpleNamespace( pvalue = 0.5 )\n",
    "    \n",
    "    return test"
   ]
  },
  {
   "cell_type": "code",
   "execution_count": 30,
   "id": "624eaf38-cbd7-420f-a26f-7636d32e15f9",
   "metadata": {},
   "outputs": [
    {
     "name": "stderr",
     "output_type": "stream",
     "text": [
      "100%|██████████████████████████████████████████████████████████████████████████████████████████████████| 10000/10000 [00:01<00:00, 5807.99it/s]\n"
     ]
    }
   ],
   "source": [
    "ps_comparison = []\n",
    "for i_run in tqdm( range( n_runs ) ):\n",
    "    run_ps = evaluate( simulate( group_ns, group_means, group_stds ),\n",
    "                       test = test_one_significant( alpha = alpha ) )\n",
    "    ps_comparison.append( run_ps[comparison_key] )\n",
    "ps_comparison = np.array( ps_comparison )"
   ]
  },
  {
   "cell_type": "code",
   "execution_count": 31,
   "id": "fbd997f1-757d-4a88-a4ea-8ab6417ef062",
   "metadata": {},
   "outputs": [
    {
     "name": "stdout",
     "output_type": "stream",
     "text": [
      "Expected Type I error:  0.05\n",
      "Empirical Type I error: 0.0875\n"
     ]
    }
   ],
   "source": [
    "alpha_empirical = np.sum( ps_comparison < alpha ) / n_runs\n",
    "print( f'Expected Type I error:  {alpha}' )\n",
    "print( f'Empirical Type I error: {alpha_empirical}' )"
   ]
  },
  {
   "cell_type": "markdown",
   "id": "fe723d1d-3add-408e-ad39-c461c8266e8c",
   "metadata": {},
   "source": [
    "So we see that the test \"one of the groups is statistically different from the baseline but the other isn't\" is actually **not** controlled at the $\\alpha = 0.05$ significance level.\n",
    "\n",
    "Note, however, that we can correct this:"
   ]
  },
  {
   "cell_type": "code",
   "execution_count": 32,
   "id": "85c2a965-8a15-4eae-87b4-002f7d4acc7c",
   "metadata": {},
   "outputs": [],
   "source": [
    "individual_test_significance_cutoff = 0.025"
   ]
  },
  {
   "cell_type": "code",
   "execution_count": 33,
   "id": "9dbfa930-6a8e-4765-9040-ea1b689dd99f",
   "metadata": {},
   "outputs": [
    {
     "name": "stderr",
     "output_type": "stream",
     "text": [
      "100%|██████████████████████████████████████████████████████████████████████████████████████████████████| 10000/10000 [00:01<00:00, 6025.88it/s]\n"
     ]
    }
   ],
   "source": [
    "ps_comparison = []\n",
    "for i_run in tqdm( range( n_runs ) ):\n",
    "    run_ps = evaluate( simulate( group_ns, group_means, group_stds ),\n",
    "                       test = test_one_significant( alpha = individual_test_significance_cutoff ) )\n",
    "    ps_comparison.append( run_ps[comparison_key] )\n",
    "ps_comparison = np.array( ps_comparison )"
   ]
  },
  {
   "cell_type": "code",
   "execution_count": 34,
   "id": "5210ec53-4226-46af-a810-4baec01ce812",
   "metadata": {},
   "outputs": [
    {
     "name": "stdout",
     "output_type": "stream",
     "text": [
      "\"Hoped-for\" Type I error:        0.05\n",
      "Significance cutoff alpha used:  0.025\n",
      "Empirical Type I error:          0.0478\n"
     ]
    }
   ],
   "source": [
    "alpha_empirical = np.sum( ps_comparison < individual_test_significance_cutoff ) / n_runs\n",
    "print( f'\"Hoped-for\" Type I error:        {alpha}' )\n",
    "print( f'Significance cutoff alpha used:  {individual_test_significance_cutoff}' )\n",
    "print( f'Empirical Type I error:          {alpha_empirical}' )"
   ]
  },
  {
   "cell_type": "markdown",
   "id": "d83d5ec4-919c-45ea-bf43-a1c05baab31b",
   "metadata": {},
   "source": [
    "This can happen in your analyses in even more insidious ways than this.\n",
    "\n",
    "This is why it's always best practice to **run your analysis code with simulated null data** in order to understand your true **empirical** type I error, and adjust thresholds accordingly."
   ]
  },
  {
   "cell_type": "markdown",
   "id": "c1658416-811c-4707-8a5e-294e6ca55c87",
   "metadata": {},
   "source": [
    "---"
   ]
  },
  {
   "cell_type": "markdown",
   "id": "d54745e0-af00-42fc-a9a0-dbf9f88d21f7",
   "metadata": {},
   "source": [
    "### Aside: Violating assumptions increases Type I error"
   ]
  },
  {
   "cell_type": "markdown",
   "id": "aa05caf5-c49f-471a-ad52-3fd96dc1a473",
   "metadata": {},
   "source": [
    "This isn't the case if the assumptions of our test don't match the data. For example, let's see what happens when we use an equal-variance $t$-test for data with unequal variance:"
   ]
  },
  {
   "cell_type": "code",
   "execution_count": 35,
   "id": "01184ea2-1b3a-41c3-9c07-2efd59d5d6ee",
   "metadata": {},
   "outputs": [],
   "source": [
    "group_ns = {\n",
    "    'A': 10,\n",
    "    'B': 10,\n",
    "}\n",
    "\n",
    "group_means = {\n",
    "    'A': 15,\n",
    "    'B': 15,\n",
    "}\n",
    "\n",
    "group_stds = {\n",
    "    'A': 5,\n",
    "    'B': 40,\n",
    "}\n",
    "\n",
    "n_runs = 10000\n",
    "comparison_key = ('A', 'B')\n",
    "\n",
    "alphas_test = np.arange( 0.005, 0.11, 0.005 )\n",
    "\n",
    "# Specify our equal variance assumption for the test\n",
    "test_equal_var = lambda xs, ys: sstats.ttest_ind( xs, ys, equal_var = True )"
   ]
  },
  {
   "cell_type": "code",
   "execution_count": 36,
   "id": "da110973-3c2f-4246-8ad8-97255095e611",
   "metadata": {},
   "outputs": [
    {
     "name": "stderr",
     "output_type": "stream",
     "text": [
      "100%|██████████████████████████████████████████████████████████████████████████████████████████████████████████| 21/21 [00:29<00:00,  1.41s/it]\n"
     ]
    }
   ],
   "source": [
    "alphas_empirical = np.zeros( alphas_test.shape )\n",
    "for i_alpha, alpha in tqdm( enumerate( alphas_test ),\n",
    "                            total = len( alphas_test ) ):\n",
    "    ps_comparison = []\n",
    "    for i_run in range( n_runs ):\n",
    "        run_ps = evaluate( simulate( group_ns, group_means, group_stds ),\n",
    "                           test = test_equal_var )\n",
    "        ps_comparison.append( run_ps[comparison_key] )\n",
    "    ps_comparison = np.array( ps_comparison )\n",
    "    alphas_empirical[i_alpha] = np.sum( ps_comparison < alpha ) / n_runs"
   ]
  },
  {
   "cell_type": "code",
   "execution_count": 37,
   "id": "f5b2a5cd-9b36-4e0a-88bd-41eccd1cd59d",
   "metadata": {},
   "outputs": [
    {
     "data": {
      "image/png": "[encoded data removed]",
      "text/plain": [
       "<Figure size 400x300 with 1 Axes>"
      ]
     },
     "metadata": {},
     "output_type": "display_data"
    }
   ],
   "source": [
    "plt.figure( figsize = (4, 3) )\n",
    "\n",
    "plt.plot( alphas_test, alphas_empirical, 'k-', linewidth = 2 )\n",
    "plt.plot( [0, 0.115], [0, 0.115], 'k--', linewidth = 1 )\n",
    "\n",
    "plt.xlabel( 'Significance level ($\\\\alpha$)' )\n",
    "plt.ylabel( 'Empirical Type I error' )\n",
    "\n",
    "plt.xlim( 0, 0.12 )\n",
    "plt.ylim( 0, 0.12 )\n",
    "\n",
    "plt.show()"
   ]
  },
  {
   "cell_type": "markdown",
   "id": "ae91f87e-fd75-42e5-977d-0081e8acfdb2",
   "metadata": {},
   "source": [
    "As above, this is why it is always advised to **empirically check your type I error** using surrogate (simulated) null data."
   ]
  },
  {
   "cell_type": "markdown",
   "id": "5a94b6a4-d00d-44b2-8b64-f603c83a743e",
   "metadata": {},
   "source": [
    "---"
   ]
  },
  {
   "cell_type": "markdown",
   "id": "91113f08-a8cb-4a9e-93cd-ebc376b3fb4a",
   "metadata": {},
   "source": [
    "> c. Suppose you were testing four pairs of groups (where each pair is independent and separate from the other pairs) with 10 mice each. What is the probability that one or more of the four tests would result in a significant difference at the $p < 0.05$ level?"
   ]
  },
  {
   "cell_type": "markdown",
   "id": "87c2f7c1-f550-4f06-bba1-a672e37709b6",
   "metadata": {},
   "source": [
    "### Theoretical\n",
    "\n",
    "Under the null hypothesis, whether we reject the null hypothesis is a Bernoulli random variable with $p = \\alpha$ by definition.\n",
    "\n",
    "This means that the number of rejections $R$ of $N$ independent hypothesis tests is a binomial random variable, with $n = N$ and $p = \\alpha$. So,\n",
    "\n",
    "$$\n",
    "\\begin{eqnarray*}\n",
    "    \\operatorname{Pr}(R \\geq 1) & = & 1 - \\operatorname{Pr}(R < 1) \\\\\n",
    "        & = & 1 - \\operatorname{Pr}(R = 0) \\\\\n",
    "        & = & 1 - \\binom{N}{0}\\,\\alpha^0\\,(1 - \\alpha)^N \\\\\n",
    "        & = & 1 - (1 - \\alpha)^N\n",
    "\\end{eqnarray*}\n",
    "$$\n",
    "\n",
    "(as the $0$th binomial coefficient is always 1).\n",
    "\n",
    "In general, the probability of having at least $1$ false positive amongst a set of hypotheses is known as the **familywise error rate** (FWER):\n",
    "\n",
    "$$\\textrm{FWER} = \\operatorname{Pr}(R \\geq 1)$$"
   ]
  },
  {
   "cell_type": "markdown",
   "id": "823cb02a-8453-42a7-8dab-9a5b7b43094b",
   "metadata": {},
   "source": [
    "### Parameters"
   ]
  },
  {
   "cell_type": "code",
   "execution_count": 38,
   "id": "a6e19b58-68e0-4e0d-9074-cfd58b9c5dd9",
   "metadata": {},
   "outputs": [],
   "source": [
    "n_pairs = 4\n",
    "\n",
    "group_ns = {\n",
    "    'A': 10,\n",
    "    'B': 10,\n",
    "}\n",
    "\n",
    "group_means = {\n",
    "    'A': 15,\n",
    "    'B': 15,\n",
    "}\n",
    "\n",
    "group_stds = {\n",
    "    'A': 10,\n",
    "    'B': 10,\n",
    "}\n",
    "\n",
    "n_runs = 10000\n",
    "comparison_key = ('A', 'B')\n",
    "\n",
    "alpha = 0.05\n",
    "\n",
    "pr_any_theoretical = 1. - np.power( 1 - 0.05, n_pairs )"
   ]
  },
  {
   "cell_type": "code",
   "execution_count": 39,
   "id": "f029c6e7-a589-4efe-b91c-713e16dd64b3",
   "metadata": {},
   "outputs": [
    {
     "name": "stderr",
     "output_type": "stream",
     "text": [
      "100%|██████████████████████████████████████████████████████████████████████████████████████████████████| 10000/10000 [00:05<00:00, 1679.33it/s]\n"
     ]
    }
   ],
   "source": [
    "ps_pairs = np.zeros( (n_pairs, n_runs) )\n",
    "for i_run in tqdm( range( n_runs ) ):\n",
    "    for i_pair in range( n_pairs ):\n",
    "        run_ps = evaluate( simulate( group_ns, group_means, group_stds ) )\n",
    "        ps_pairs[i_pair, i_run] = run_ps[comparison_key]"
   ]
  },
  {
   "cell_type": "code",
   "execution_count": 40,
   "id": "bb13a60a-ca32-48b7-b86a-6d889f9f86e6",
   "metadata": {},
   "outputs": [],
   "source": [
    "reject_any = np.any( ps_pairs < alpha, axis = 0 )"
   ]
  },
  {
   "cell_type": "code",
   "execution_count": 41,
   "id": "654701b3-6dc6-435a-90ff-ea6c39835d24",
   "metadata": {},
   "outputs": [
    {
     "name": "stdout",
     "output_type": "stream",
     "text": [
      "Expected familywise error rate:  0.18549375000000012\n",
      "Empirical familywise error rate: 0.1746\n"
     ]
    }
   ],
   "source": [
    "pr_any_empirical = np.sum( reject_any ) / n_runs\n",
    "print( f'Expected familywise error rate:  {pr_any_theoretical}' )\n",
    "print( f'Empirical familywise error rate: {pr_any_empirical}' )"
   ]
  },
  {
   "cell_type": "markdown",
   "id": "cb8708e5-71ef-48c6-8854-924bc55f120b",
   "metadata": {},
   "source": [
    "---"
   ]
  },
  {
   "cell_type": "markdown",
   "id": "f51cb36c-538c-45d2-b04e-f4ae3e8f3b49",
   "metadata": {},
   "source": [
    "### Aside: Multiple comparison corrections"
   ]
  },
  {
   "cell_type": "markdown",
   "id": "8d104b49-2cb5-4d01-9a40-c7fc3195c3bc",
   "metadata": {},
   "source": [
    "#### Bonferroni"
   ]
  },
  {
   "cell_type": "markdown",
   "id": "c0cf853d-97b5-4cc0-9c8a-5d99747bfd31",
   "metadata": {},
   "source": [
    "Presuppose the null hypothesis. Let $X_i$ be the $N$ individual outcomes of the tested hypotheses, such that $R = \\sum_i X_i$ is the total number of rejections. Then we know that\n",
    "\n",
    "$$ \\operatorname{FWER} := \\operatorname{Pr}(R \\geq 1) \\leq \\sum_i \\operatorname{Pr}(X_i = 1) $$\n",
    "\n",
    "because for sure if we rejected at least one test (left side) then one of our tests was a rejection (right side). (The right side is generally an **overestimate** of the left side, because it ignores the possibility of overlapping rejections from multple tests).\n",
    "\n",
    "Since each term on the right hand side is definitionally $\\alpha$ (the probability of rejecting a single test uner the null hypothesis), then we have\n",
    "\n",
    "$$ \\operatorname{FWER} \\leq \\sum_i \\alpha = N\\,\\alpha $$\n",
    "\n",
    "Shower thought: Just choose a new $\\alpha^\\ast = \\alpha / N$, and use that as our significance level. Then our new FWER is\n",
    "\n",
    "$$ \\operatorname{FWER}^\\ast \\leq N\\,\\alpha^\\ast = N\\,\\frac{\\alpha}{N} = \\alpha $$\n",
    "\n",
    "That's the **Bonferroni correction**: it makes it so that the probability of **1 or more rejections** under the null hypothesis is $\\leq \\alpha$.\n",
    "\n",
    "Notice that this correction is **conservative** (because of the $\\leq$): we're guaranteed to *control* the FWER to be below $\\alpha$, but we might be doing so quite aggressively, depending on the statistics of our tests. There are slightly less aggressive versions of this available (e.g., Šidák), though they all have their own caveats."
   ]
  },
  {
   "cell_type": "markdown",
   "id": "c4972198-9b6f-4138-94b1-300bc41ecf4a",
   "metadata": {},
   "source": [
    "#### False discovery rate\n",
    "\n",
    "An alternative approach is to change what metric we care about. Instead of the FWER, we might try to control the **false discovery rate**,\n",
    "\n",
    "$$ \\operatorname{FDR} := \\operatorname{Pr}(H_0\\textrm{ is true} \\mid \\textrm{reject }H_0) $$\n",
    "\n",
    "This is the **fraction of hypothesis rejections that we got wrong**. (Notice that, unlike the $p$-value or the FWER, this is something that is **actually actionable**: given a set of results that I say are significant, if I control $\\operatorname{FDR} \\leq \\gamma$, then I know that the fraction of things I'm wrong about in the results I present due to chance is $\\leq \\gamma$.)\n",
    "\n",
    "The controlling procedures for this are really cool and rely on the distribution of *ranks* of $p$-values among tests, but are beyond the scope of this course for the implementation details. To use them yourself, they are implemented in [`statsmodels.stats.multitest.fdrcorrection`](https://www.statsmodels.org/dev/generated/statsmodels.stats.multitest.fdrcorrection.html), which gives two options:\n",
    "\n",
    "* `method = 'p'`: Benjamini/Hochberg, which applies when the tests are **positively correlated** (a low $p$-value on one test implies a low $p$-value on another test) or independent\n",
    "* `method = 'n'`: Benjamini/Yekutieli, which applies when the tests are **negatively correlated** (a low $p$-value on one test implies a high $p$-value on another test)\n",
    "\n",
    "You'll have to think about your data to know which one is appropriate!\n",
    "\n",
    "Instead of $p$-values, when you use FDR correction, you get $q$-values. The intuition is as follows: the $p$ value can ge defined as\n",
    "\n",
    "$$ p = \\textrm{the lowest }\\alpha\\textrm{ such that the test comes out significant} $$\n",
    "\n",
    "In a similar way, the $q$-value is defined as\n",
    "\n",
    "$$ q = \\textrm{the lowest FDR at which we could control for that still makes the test come out significant} $$\n",
    "\n",
    "Note that this is a **very different** quantity from the $p$-value: the conditioning is completely backwards! (Recall that FDR is probability of null hypothesis given test rejection, while $\\alpha$ is probability of test rejection given null hypothesis.) \"FDR-corrected $p$-values\" (which is what people call $q$-values in the literature) are **not at all comparable** to $p$-values!"
   ]
  },
  {
   "cell_type": "code",
   "execution_count": null,
   "id": "43db18ac-9b65-4d27-916e-fa71703fc541",
   "metadata": {},
   "outputs": [],
   "source": []
  }
 ],
 "metadata": {
  "kernelspec": {
   "display_name": "Python 3 (ipykernel)",
   "language": "python",
   "name": "python3"
  },
  "language_info": {
   "codemirror_mode": {
    "name": "ipython",
    "version": 3
   },
   "file_extension": ".py",
   "mimetype": "text/x-python",
   "name": "python",
   "nbconvert_exporter": "python",
   "pygments_lexer": "ipython3",
   "version": "3.10.8"
  }
 },
 "nbformat": 4,
 "nbformat_minor": 5
}
