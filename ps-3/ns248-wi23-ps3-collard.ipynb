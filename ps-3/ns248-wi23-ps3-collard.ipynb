{
 "cells": [
  {
   "cell_type": "markdown",
   "id": "74c76b1a-3d29-455a-a464-c0a7841796fd",
   "metadata": {},
   "source": [
    "# Problem Set 3\n",
    "## UCSF NS248, Winter 2023\n",
    "\n",
    "### Solutions by Max Collard"
   ]
  },
  {
   "cell_type": "markdown",
   "id": "683049a6-8786-4bd7-bfc9-2c63e12f5c34",
   "metadata": {},
   "source": [
    "---"
   ]
  },
  {
   "cell_type": "code",
   "execution_count": 1,
   "id": "a1de7860-7a15-463e-b71a-6f6744da593f",
   "metadata": {},
   "outputs": [],
   "source": [
    "import itertools\n",
    "import os\n",
    "\n",
    "import numpy as np\n",
    "import scipy.integrate as sint\n",
    "import scipy.stats as sstats\n",
    "import matplotlib.pyplot as plt\n",
    "\n",
    "import astropy.stats as astats\n",
    "\n",
    "from tqdm import tqdm"
   ]
  },
  {
   "cell_type": "markdown",
   "id": "74b1be2b-6016-4563-80ae-1a928e699acc",
   "metadata": {},
   "source": [
    "---"
   ]
  },
  {
   "cell_type": "markdown",
   "id": "28c2e7b3-a738-42d9-a3d4-7a151f5dbaed",
   "metadata": {},
   "source": [
    "## Problem 1"
   ]
  },
  {
   "cell_type": "markdown",
   "id": "fe46617a-8d6b-4722-87a6-415b2b982d4b",
   "metadata": {},
   "source": [
    "1. Thoughtful (and fundable) experimental design requires power analyses, where one estimates the number of subjects or measurements required to have a reasonable chance of detecting a difference between or among groups. Suppose you plan to do a study where you want to compare the number of somatostatin positive (SOM+) neurons in the dentate gyrus (DG) region of the hippocampus across an older and a younger group of mice. You plan to perfuse them, cut sections, stain for somatostatin, and then count the number of positive cells for each animal. From previous studies you expect the there to be a mean of 5000 SOM+ DG interneurons in the younger animals, with a standard deviation of 1000. Assume the standard deviation is the same for the older group and that all of your measurements will be drawn from Gaussian distributions."
   ]
  },
  {
   "cell_type": "markdown",
   "id": "d8b976de-4634-4e03-9596-6b5c180d5332",
   "metadata": {},
   "source": [
    "1.\n",
    "a. How many animals would you need in each group to have an 80% of detecting, at a p<0.05 level, a difference in mean SOM+ interneuron number of 2000 (e.g. the older animals having a mean of 3000 interneurons)? Assume that you’ll use a two-sample t-test. This can be calculated analytically, but we suggest using simulations to answer this question."
   ]
  },
  {
   "cell_type": "markdown",
   "id": "1f5b227a-0c85-4e68-8d60-d74d58abc333",
   "metadata": {},
   "source": [
    "### Helpers"
   ]
  },
  {
   "cell_type": "markdown",
   "id": "d7f61fe8-0985-4965-9ddd-27cd7e40eaa1",
   "metadata": {},
   "source": [
    "*These are from last time:*"
   ]
  },
  {
   "cell_type": "code",
   "execution_count": 2,
   "id": "eb27beef-8969-4fc7-9ea1-ea9a4323ac8e",
   "metadata": {},
   "outputs": [],
   "source": [
    "def simulate( group_ns, group_means, group_stds,\n",
    "              method = 'np',\n",
    "              n_points = 10000,\n",
    "              n_std = 10 ):\n",
    "    \"\"\"Simulate groups of iid Gaussian draws with the given parameters\n",
    "    \n",
    "    Keyword arguments:\n",
    "    * `method`: the random number generator method to use\n",
    "        * `np` (default) uses `numpy` built-ins\n",
    "        * `mine` uses the demo functions created for the above problems; this has\n",
    "            the additional parameters `n_points` (the number of CDF points used for\n",
    "            interpolation) and `n_std` (the number of standard deviations away from\n",
    "            the mean to compute tails for the CDF)\n",
    "    \"\"\"\n",
    "    \n",
    "    # Check to see that all the groups have their parameters defined\n",
    "    if group_means.keys() != group_stds.keys():\n",
    "        raise ValueError( 'Malformed parameters.' )\n",
    "    if group_ns.keys() != group_means.keys():\n",
    "        raise ValueError( 'Malformed parameters.' )\n",
    "    \n",
    "    # Create random number generators for each group\n",
    "    group_generators = dict()\n",
    "    for group in group_means.keys():\n",
    "        \n",
    "        if method == 'np':\n",
    "            # Use the `numpy` built-in random methods for speed\n",
    "            # This defines a random generator function that has the same arguments as what I\n",
    "            #   made in `random_generator`\n",
    "            def gen( size = (1,) ):\n",
    "                return np.random.normal( loc = group_means[group],\n",
    "                                         scale = group_stds[group],\n",
    "                                         size = size )\n",
    "            group_generators[group] = gen\n",
    "            \n",
    "        elif method == 'mine':\n",
    "            # I don't have all the other functions to define this here\n",
    "            raise NotImplementedException()\n",
    "    \n",
    "    # Use the random number generators of whatever method to generate data for each group\n",
    "    data = dict()\n",
    "    for group, generator in group_generators.items():\n",
    "        data[group] = generator( size = (group_ns[group],) )\n",
    "    \n",
    "    return data\n",
    "\n",
    "def evaluate( data,\n",
    "              test = sstats.ttest_ind ):\n",
    "    \"\"\"Return the p-value for the given `test` between all of the groups in the given `dict` of `data`\n",
    "    \n",
    "    (Default test is `scipy.stats.ttest_ind`)\n",
    "    \"\"\"\n",
    "    \n",
    "    # This ensures there is a unique (sorted) order to the groups\n",
    "    groups = list( sorted( data.keys() ) )\n",
    "    \n",
    "    ret = dict()\n",
    "    # Iterate across all possible comparisons between two groups\n",
    "    for group_a, group_b in itertools.combinations( groups, 2 ):\n",
    "        ret[(group_a, group_b)] = test( data[group_a], data[group_b] ).pvalue\n",
    "    return ret"
   ]
  },
  {
   "cell_type": "code",
   "execution_count": 3,
   "id": "6eb594a9-d71e-49ea-acdd-9d2257d9d6e6",
   "metadata": {},
   "outputs": [],
   "source": [
    "def estimate_power( group_ns, group_means, group_stds,\n",
    "                    comparison_key = None,\n",
    "                    test = sstats.ttest_ind,\n",
    "                    alpha = 0.05,\n",
    "                    n_runs = 10000,\n",
    "                    verbose = False,\n",
    "                    **kwargs ):\n",
    "    \"\"\"Estimate the power of a test for comparing two normally-distributed samples with the given parameters\"\"\"\n",
    "    \n",
    "    # TODO Should ierate overall comparisons\n",
    "    if comparison_key is None:\n",
    "        all_keys = list( sorted( group_ns.keys() ) )\n",
    "        comparison_key = (all_keys[0], all_keys[1])\n",
    "    \n",
    "    # Make it so that we can switch on the progress bars if we want\n",
    "    it = range( n_runs )\n",
    "    if verbose:\n",
    "        it = tqdm( it )\n",
    "    \n",
    "    ps_comparison = []\n",
    "    for i_run in it:\n",
    "        run_ps = evaluate( simulate( group_ns, group_means, group_stds, **kwargs ),\n",
    "                           test = test )\n",
    "        ps_comparison.append( run_ps[comparison_key] )\n",
    "    ps_comparison = np.array( ps_comparison )\n",
    "    \n",
    "    # Power is the fraction of runs that reject\n",
    "    return np.sum( ps_comparison < alpha ) / n_runs"
   ]
  },
  {
   "cell_type": "markdown",
   "id": "93cab4b8-0a53-4517-a071-45386c6e8c85",
   "metadata": {},
   "source": [
    "### Parameters"
   ]
  },
  {
   "cell_type": "code",
   "execution_count": 4,
   "id": "b1e8cdc7-39c1-4758-aea5-818579b56bc4",
   "metadata": {},
   "outputs": [],
   "source": [
    "group_means = {\n",
    "    'Young': 5000,\n",
    "    'Old': 3000,\n",
    "}\n",
    "\n",
    "group_stds = {\n",
    "    'Young': 1000,\n",
    "    'Old': 1000,\n",
    "}\n",
    "\n",
    "n_runs_each = 1000"
   ]
  },
  {
   "cell_type": "markdown",
   "id": "4a6ea811-721e-4509-aa57-e65102943ec6",
   "metadata": {},
   "source": [
    "### Run"
   ]
  },
  {
   "cell_type": "code",
   "execution_count": 5,
   "id": "7375145d-4496-4c7f-9f3d-0e8f52b9951f",
   "metadata": {},
   "outputs": [],
   "source": [
    "n_cur = 2\n",
    "\n",
    "ns_test = []\n",
    "powers_test = []\n",
    "\n",
    "while True:\n",
    "    \n",
    "    group_ns = {\n",
    "        'Young': n_cur,\n",
    "        'Old': n_cur,\n",
    "    }\n",
    "    \n",
    "    power_cur = estimate_power( group_ns, group_means, group_stds,\n",
    "                                n_runs = n_runs_each )\n",
    "    \n",
    "    ns_test.append( n_cur )\n",
    "    powers_test.append( power_cur )\n",
    "    \n",
    "    if power_cur >= 0.8:\n",
    "        break\n",
    "    \n",
    "    n_cur += 1\n",
    "    \n",
    "ns_power_curve = np.array( ns_test )\n",
    "powers_power_curve = np.array( powers_test )"
   ]
  },
  {
   "cell_type": "markdown",
   "id": "b3f87800-4565-439e-91dd-4aff326b5195",
   "metadata": {},
   "source": [
    "### Plotting"
   ]
  },
  {
   "cell_type": "code",
   "execution_count": 6,
   "id": "b70ea10f-ab72-498f-9044-c66986513f92",
   "metadata": {},
   "outputs": [
    {
     "data": {
      "image/png": "[encoded data removed]",
      "text/plain": [
       "<Figure size 400x300 with 1 Axes>"
      ]
     },
     "metadata": {},
     "output_type": "display_data"
    }
   ],
   "source": [
    "plt.figure( figsize = (4, 3) )\n",
    "plt.plot( ns_power_curve, powers_power_curve, 'k-' )\n",
    "plt.xlabel( 'N' )\n",
    "plt.ylabel( 'Power' )\n",
    "\n",
    "plt.title( f'power = {powers_power_curve[-1]:0.3f} at N = {ns_power_curve[-1]}' )\n",
    "\n",
    "plt.show()"
   ]
  },
  {
   "cell_type": "markdown",
   "id": "38c0f620-abec-4af5-a472-59a4fd01124b",
   "metadata": {},
   "source": [
    "1. b. Repeat for expected differences of 100, 500, and 1000, and plot the number of animals required vs. the expected difference."
   ]
  },
  {
   "cell_type": "markdown",
   "id": "d4758435-2b4f-40d8-8bf9-b7fded284102",
   "metadata": {},
   "source": [
    "### Helpers"
   ]
  },
  {
   "cell_type": "code",
   "execution_count": 7,
   "id": "5f3979d3-90ee-4cf2-83e2-c139691e904f",
   "metadata": {},
   "outputs": [],
   "source": [
    "def get_threshold_n_linear( group_means, group_stds,\n",
    "                            target_power = 0.8,\n",
    "                            **kwargs ):\n",
    "    \"\"\"Steps through each n in sequence\n",
    "    \n",
    "    kwargs are passed to `estimate_power`\n",
    "    \"\"\"\n",
    "    \n",
    "    n_cur = 2\n",
    "    while True:\n",
    "        \n",
    "        group_ns = {\n",
    "            'Young': n_cur,\n",
    "            'Old': n_cur,\n",
    "        }\n",
    "        \n",
    "        power_cur = estimate_power( group_ns, group_means, group_stds, **kwargs )\n",
    "        \n",
    "        if power_cur >= target_power:\n",
    "            break\n",
    "        n_cur += 1\n",
    "        \n",
    "    return n_cur\n",
    "\n",
    "def get_threshold_n_jumpy( group_means, group_stds,\n",
    "                           target_power = 0.8,\n",
    "                           jump = 100,\n",
    "                           **kwargs ):\n",
    "    \"\"\"Jumps the n by `jump`, then halves the jump when it goes too far\n",
    "    \n",
    "    kwargs are passed to `estimate_power`\n",
    "    \"\"\"\n",
    "    \n",
    "    cur_jump = jump\n",
    "    \n",
    "    n_cur = 2\n",
    "    while True:\n",
    "        \n",
    "        group_ns = {\n",
    "            'Young': n_cur,\n",
    "            'Old': n_cur,\n",
    "        }\n",
    "        \n",
    "        power_cur = estimate_power( group_ns, group_means, group_stds, **kwargs )\n",
    "        \n",
    "        if power_cur >= target_power:\n",
    "            if cur_jump == 1:\n",
    "                # If we've gotten to the stepping by one phase, then we're at the end\n",
    "                break\n",
    "            \n",
    "            # Our step was larger, so we want to \"re-do\".\n",
    "            # Step back to previous location, then step forward by new jump of half the size\n",
    "            n_cur = n_cur - cur_jump\n",
    "            cur_jump = cur_jump // 2\n",
    "        n_cur += cur_jump\n",
    "    \n",
    "    return n_cur"
   ]
  },
  {
   "cell_type": "markdown",
   "id": "5b89455e-1d18-4dae-a491-d4894bcef8f7",
   "metadata": {},
   "source": [
    "### Parameters"
   ]
  },
  {
   "cell_type": "code",
   "execution_count": 8,
   "id": "5036c696-11f6-449e-89a1-c3e089edb205",
   "metadata": {},
   "outputs": [],
   "source": [
    "group_stds = {\n",
    "    'Young': 1000,\n",
    "    'Old': 1000,\n",
    "}\n",
    "\n",
    "params = {\n",
    "    'n_runs': 500,\n",
    "}\n",
    "\n",
    "differences_test = [100, 500, 1000, 2000]"
   ]
  },
  {
   "cell_type": "markdown",
   "id": "8291e4ae-d86b-496d-95b8-d7014e63e393",
   "metadata": {},
   "source": [
    "### Run"
   ]
  },
  {
   "cell_type": "code",
   "execution_count": 9,
   "id": "0734d2d5-99da-4ea9-943e-77ac9aa6d24e",
   "metadata": {},
   "outputs": [
    {
     "name": "stdout",
     "output_type": "stream",
     "text": [
      "Getting n for difference = 100 ...Done.\n",
      "Getting n for difference = 500 ...Done.\n",
      "Getting n for difference = 1000 ...Done.\n",
      "Getting n for difference = 2000 ...Done.\n"
     ]
    }
   ],
   "source": [
    "threshold_ns_test = []\n",
    "for difference in differences_test:\n",
    "    \n",
    "    group_means = {\n",
    "        'Young': 5000,\n",
    "        'Old': 5000 - difference\n",
    "    }\n",
    "    \n",
    "    print( f'Getting n for difference = {difference}...', end = '' )\n",
    "    threshold_n_cur = get_threshold_n_jumpy( group_means, group_stds, **params )\n",
    "    threshold_ns_test.append( threshold_n_cur )\n",
    "    print( 'Done.' )\n",
    "    \n",
    "differences_n_curve = np.array( differences_test )\n",
    "threshold_ns_n_curve = np.array( threshold_ns_test )"
   ]
  },
  {
   "cell_type": "markdown",
   "id": "008756de-e935-4749-8826-068881e7f4f6",
   "metadata": {},
   "source": [
    "### Plotting"
   ]
  },
  {
   "cell_type": "code",
   "execution_count": 10,
   "id": "0a0d3fb4-5439-4e7c-869f-0b66e732b935",
   "metadata": {},
   "outputs": [
    {
     "data": {
      "image/png": "[encoded data removed]",
      "text/plain": [
       "<Figure size 400x300 with 1 Axes>"
      ]
     },
     "metadata": {},
     "output_type": "display_data"
    }
   ],
   "source": [
    "plt.figure( figsize = (4, 3) )\n",
    "\n",
    "plt.semilogy( differences_n_curve, threshold_ns_n_curve, 'k-' )\n",
    "\n",
    "plt.xlabel( 'Mean difference' )\n",
    "plt.ylabel( 'Required N' )\n",
    "\n",
    "plt.show()"
   ]
  },
  {
   "cell_type": "markdown",
   "id": "9c519514-ca3e-45c6-b50b-03d658ced707",
   "metadata": {},
   "source": [
    "1. c. Now suppose you find a new study which suggests the standard deviation of the count in young animals is actually 500, not 1000. Repeat a. and b., and compare the results given the different values of the expected standard deviation."
   ]
  },
  {
   "cell_type": "markdown",
   "id": "992df189-8b63-41ff-bb77-1327a39e55fa",
   "metadata": {},
   "source": [
    "### Parameters"
   ]
  },
  {
   "cell_type": "markdown",
   "id": "c7a5456a-80cf-40c1-abd8-b5016973e61f",
   "metadata": {},
   "source": [
    "*Forgive the code duplication, I was in a hurry 😬*"
   ]
  },
  {
   "cell_type": "code",
   "execution_count": 59,
   "id": "dee2cd4b-b7bb-43dd-81c4-b1206358fff9",
   "metadata": {},
   "outputs": [],
   "source": [
    "group_means = {\n",
    "    'Young': 5000,\n",
    "    'Old': 3000,\n",
    "}\n",
    "\n",
    "group_stds_new = {\n",
    "    'Young': 500,\n",
    "    'Old': 500,\n",
    "}\n",
    "\n",
    "# For power curve\n",
    "n_runs_each = 1000\n",
    "\n",
    "# For N curve\n",
    "differences_test = [100, 500, 1000, 2000]\n",
    "params = {\n",
    "    'n_runs': 200,\n",
    "}"
   ]
  },
  {
   "cell_type": "markdown",
   "id": "6a1bce61-ebc7-4426-abcb-95973dd31f4f",
   "metadata": {},
   "source": [
    "### Run 1a"
   ]
  },
  {
   "cell_type": "code",
   "execution_count": 60,
   "id": "781251e5-b62a-42ca-b5e2-234e9f4273da",
   "metadata": {},
   "outputs": [],
   "source": [
    "n_cur = 2\n",
    "\n",
    "ns_test = []\n",
    "powers_test = []\n",
    "\n",
    "while True:\n",
    "    \n",
    "    group_ns = {\n",
    "        'Young': n_cur,\n",
    "        'Old': n_cur,\n",
    "    }\n",
    "    \n",
    "    power_cur = estimate_power( group_ns, group_means, group_stds_new,\n",
    "                                n_runs = n_runs_each )\n",
    "    \n",
    "    ns_test.append( n_cur )\n",
    "    powers_test.append( power_cur )\n",
    "    \n",
    "    if power_cur >= 0.8:\n",
    "        break\n",
    "    \n",
    "    n_cur += 1\n",
    "    \n",
    "ns_power_curve_new = np.array( ns_test )\n",
    "powers_power_curve_new = np.array( powers_test )"
   ]
  },
  {
   "cell_type": "markdown",
   "id": "898bd401-556b-48ca-9af2-4da891e6d541",
   "metadata": {},
   "source": [
    "### Plotting 1b"
   ]
  },
  {
   "cell_type": "code",
   "execution_count": 61,
   "id": "a1f27c52-38ac-4083-af0c-449c3b8985f5",
   "metadata": {},
   "outputs": [
    {
     "data": {
      "image/png": "[encoded data removed]",
      "text/plain": [
       "<Figure size 400x300 with 1 Axes>"
      ]
     },
     "metadata": {},
     "output_type": "display_data"
    }
   ],
   "source": [
    "plt.figure( figsize = (4, 3) )\n",
    "\n",
    "plt.plot( ns_power_curve, powers_power_curve, 'k-', label = 'Original' )\n",
    "plt.plot( ns_power_curve_new, powers_power_curve_new, 'r-', label = 'New' )\n",
    "plt.xlabel( 'N' )\n",
    "plt.ylabel( 'Power' )\n",
    "\n",
    "plt.legend()\n",
    "\n",
    "plt.show()"
   ]
  },
  {
   "cell_type": "markdown",
   "id": "04bede4e-6bcd-4374-8dbf-b91d77a0f63d",
   "metadata": {},
   "source": [
    "### Run 1b"
   ]
  },
  {
   "cell_type": "code",
   "execution_count": 62,
   "id": "b4a29191-3f8b-445e-8927-86f44cc2ceb7",
   "metadata": {},
   "outputs": [
    {
     "name": "stdout",
     "output_type": "stream",
     "text": [
      "Getting n for difference = 100 ...Done.\n",
      "Getting n for difference = 500 ...Done.\n",
      "Getting n for difference = 1000 ...Done.\n",
      "Getting n for difference = 2000 ...Done.\n"
     ]
    }
   ],
   "source": [
    "threshold_ns_test = []\n",
    "for difference in differences_test:\n",
    "    \n",
    "    group_means = {\n",
    "        'Young': 5000,\n",
    "        'Old': 5000 - difference\n",
    "    }\n",
    "    \n",
    "    print( f'Getting n for difference = {difference} ...', end = '' )\n",
    "    threshold_ns_test.append( get_threshold_n_jumpy( group_means, group_stds_new, **params ) )\n",
    "    print( 'Done.' )\n",
    "    \n",
    "differences_n_curve_new = np.array( differences_test )\n",
    "threshold_ns_n_curve_new = np.array( threshold_ns_test )"
   ]
  },
  {
   "cell_type": "code",
   "execution_count": 63,
   "id": "8ef5c48b-d6b4-406b-aff4-14de1c2e220e",
   "metadata": {},
   "outputs": [
    {
     "data": {
      "image/png": "[encoded data removed]",
      "text/plain": [
       "<Figure size 400x300 with 1 Axes>"
      ]
     },
     "metadata": {},
     "output_type": "display_data"
    }
   ],
   "source": [
    "plt.figure( figsize = (4, 3) )\n",
    "\n",
    "plt.semilogy( differences_n_curve, threshold_ns_n_curve, 'k-', label = 'Original' )\n",
    "plt.semilogy( differences_n_curve_new, threshold_ns_n_curve_new, 'r-', label = 'New' )\n",
    "\n",
    "plt.xlabel( 'Mean difference' )\n",
    "plt.ylabel( 'Required N' )\n",
    "\n",
    "plt.legend()\n",
    "\n",
    "plt.show()"
   ]
  },
  {
   "cell_type": "markdown",
   "id": "890bd922-a7ae-49f3-b307-d834cea5a5d1",
   "metadata": {},
   "source": [
    "---"
   ]
  },
  {
   "cell_type": "markdown",
   "id": "f273c78e-a367-46f6-af2d-9d2118458c69",
   "metadata": {},
   "source": [
    "## Problem 2"
   ]
  },
  {
   "cell_type": "markdown",
   "id": "f83d7e8e-b4ae-4845-8dcf-acb636c66e7a",
   "metadata": {},
   "source": [
    "2. Suppose that you are doing a behavioral experiment where you are measuring the latency of different groups of animals to enter the middle of an open field environment. Your goal is to determine, for each dataset, whether the groups differ from one another. Make sure you are clear on exactly what difference between the groups you are testing for in each case and what a significant difference would mean.\n",
    "\n",
    "    For each of the datasets below, each row has two values: the group number (1 or 2) and the latency measure for the animal (a time in seconds). For each dataset, do the following:\n",
    "    1. Read in the data (`numpy.loadtxt()` works well)\n",
    "    2. Plot histograms of the data from each group.\n",
    "    3. Determine what sort of statistical test is appropriate for the data and explain why that test is appropriate.\n",
    "    4. Carry out the test and report whether you would or would not claim that the groups have different escape latencies. If you decide a non-parametric test is appropriate, report the results from the parametric test as well for comparison and explain any differences between them."
   ]
  },
  {
   "cell_type": "markdown",
   "id": "93929a5a-5819-48b6-aa09-b29e80505d0f",
   "metadata": {},
   "source": [
    "### Helpers"
   ]
  },
  {
   "cell_type": "code",
   "execution_count": 16,
   "id": "75e17f07-48ef-4bd2-a845-bbc85fce3a2f",
   "metadata": {},
   "outputs": [],
   "source": [
    "def pipeline_2( path,\n",
    "                hist_bins = None,\n",
    "                normality_alpha = 0.05,\n",
    "                equal_var_alpha = 0.05,\n",
    "                alpha = 0.05 ):\n",
    "    \n",
    "    # Parse parameters\n",
    "    if hist_bins is None:\n",
    "        hist_bins = np.arange( 0, 71, 5. )\n",
    "    \n",
    "    # 1.\n",
    "    # Load data\n",
    "    \n",
    "    data = np.loadtxt( path )\n",
    "    \n",
    "    labels = data[:, 0]\n",
    "    values = data[:, 1]\n",
    "    \n",
    "    # 2.\n",
    "    # Plot data\n",
    "    \n",
    "    plt.figure( figsize = (5, 3) )\n",
    "    \n",
    "    plt.hist( values[labels == 1],\n",
    "              bins = hist_bins,\n",
    "              alpha = 0.5,\n",
    "              label = 'Group 1' )\n",
    "    plt.hist( values[labels == 2],\n",
    "              bins = hist_bins,\n",
    "              alpha = 0.5,\n",
    "              label = 'Group 2' )\n",
    "    \n",
    "    plt.title( path )\n",
    "    plt.legend()\n",
    "    \n",
    "    plt.show()\n",
    "    \n",
    "    # 3.\n",
    "    # Determine whether to use parametric stats\n",
    "    \n",
    "    normal_gof_1 = sstats.normaltest( values[labels == 1] )\n",
    "    normal_gof_2 = sstats.normaltest( values[labels == 2] )\n",
    "    \n",
    "    use_parametric = True\n",
    "    if normal_gof_1.pvalue < normality_alpha:\n",
    "        print( f'Group 1 rejects normality (p = {normal_gof_1.pvalue}' )\n",
    "        use_parametric = False\n",
    "    if normal_gof_2.pvalue < normality_alpha:\n",
    "        print( f'Group 2 rejects normality (p = {normal_gof_2.pvalue}' )\n",
    "        use_parametric = False\n",
    "        \n",
    "    # 4.\n",
    "    # Do the tests\n",
    "    \n",
    "    # Perform parametric tests no matter what, as asked in the problem\n",
    "    \n",
    "    # Determine if equal variance is appropriate\n",
    "    equal_var = True\n",
    "    equal_var_result = sstats.levene( values[labels == 1], values[labels == 2] )\n",
    "    if equal_var_result.pvalue < equal_var_alpha:\n",
    "        print( f'Groups 1 and 2 have separable variances (p = {equal_var_result.pvalue})' )\n",
    "        equal_var = False\n",
    "\n",
    "    test_result = sstats.ttest_ind( values[labels == 1], values[labels == 2],\n",
    "                                    equal_var = equal_var )\n",
    "    if test_result.pvalue < alpha:\n",
    "        if use_parametric:\n",
    "            print( f'** REJECT (p = {test_result.pvalue})' )\n",
    "            return True\n",
    "        else:\n",
    "            print( f'(Hypothetical parametric result: Reject (p = {test_result.pvalue})' )\n",
    "    else:\n",
    "        if use_parametric:\n",
    "            print( f'** DO NOT REJECT (p = {test_result.pvalue})' )\n",
    "            return False\n",
    "        else:\n",
    "            print( f'(Hypothetical parametric result: Do not reject (p = {test_result.pvalue})' )\n",
    "    \n",
    "    # From here on out, we are for sure in the nonparametric regime (because of the returns above)\n",
    "    \n",
    "    test_result = sstats.ranksums( values[labels == 1], values[labels == 2] )\n",
    "    \n",
    "    if test_result.pvalue < alpha:\n",
    "        print( f'** REJECT (p = {test_result.pvalue})' )\n",
    "        return True\n",
    "    print( f'** DO NOT REJECT (p = {test_result.pvalue})' )\n",
    "    return False"
   ]
  },
  {
   "cell_type": "markdown",
   "id": "2d22ceed-d761-4f62-b0b0-b9694f6ee306",
   "metadata": {},
   "source": [
    "### Parameters"
   ]
  },
  {
   "cell_type": "code",
   "execution_count": 17,
   "id": "fd34203f-abcd-4b8f-bd7e-9267045c08dc",
   "metadata": {},
   "outputs": [],
   "source": [
    "data_dir = 'data'\n",
    "filenames = [\n",
    "    'PS3_dataset1.txt',\n",
    "    'PS3_dataset2.txt',\n",
    "    'PS3_dataset3.txt',\n",
    "    'PS3_dataset4.txt',\n",
    "]"
   ]
  },
  {
   "cell_type": "markdown",
   "id": "7d61bbec-e1bb-4d0a-b7a2-3099556e495f",
   "metadata": {},
   "source": [
    "### Run"
   ]
  },
  {
   "cell_type": "code",
   "execution_count": 18,
   "id": "30af5d2d-0c64-4647-9628-fd9c203340a6",
   "metadata": {},
   "outputs": [
    {
     "data": {
      "image/png": "[encoded data removed]",
      "text/plain": [
       "<Figure size 500x300 with 1 Axes>"
      ]
     },
     "metadata": {},
     "output_type": "display_data"
    },
    {
     "name": "stdout",
     "output_type": "stream",
     "text": [
      "** REJECT (p = 0.025681133229641724)\n"
     ]
    },
    {
     "data": {
      "image/png": "[encoded data removed]",
      "text/plain": [
       "<Figure size 500x300 with 1 Axes>"
      ]
     },
     "metadata": {},
     "output_type": "display_data"
    },
    {
     "name": "stdout",
     "output_type": "stream",
     "text": [
      "Groups 1 and 2 have separable variances (p = 0.0018432697962879683)\n",
      "** REJECT (p = 0.02301298320933342)\n"
     ]
    },
    {
     "data": {
      "image/png": "[encoded data removed]",
      "text/plain": [
       "<Figure size 500x300 with 1 Axes>"
      ]
     },
     "metadata": {},
     "output_type": "display_data"
    },
    {
     "name": "stdout",
     "output_type": "stream",
     "text": [
      "Group 1 rejects normality (p = 0.0009121638635692444\n",
      "Group 2 rejects normality (p = 0.0005238732081696317\n",
      "Groups 1 and 2 have separable variances (p = 0.010467078365753951)\n",
      "(Hypothetical parametric result: Reject (p = 0.02376762749598984)\n",
      "** DO NOT REJECT (p = 0.07530445719468767)\n"
     ]
    },
    {
     "data": {
      "image/png": "[encoded data removed]",
      "text/plain": [
       "<Figure size 500x300 with 1 Axes>"
      ]
     },
     "metadata": {},
     "output_type": "display_data"
    },
    {
     "name": "stdout",
     "output_type": "stream",
     "text": [
      "Group 1 rejects normality (p = 3.4032065677896554e-05\n",
      "Groups 1 and 2 have separable variances (p = 0.0011972101774486482)\n",
      "(Hypothetical parametric result: Do not reject (p = 0.9670407072666372)\n",
      "** DO NOT REJECT (p = 0.6943580856027296)\n"
     ]
    }
   ],
   "source": [
    "for filename in filenames:\n",
    "    pipeline_2( os.path.join( data_dir, filename ) )"
   ]
  },
  {
   "cell_type": "markdown",
   "id": "452496d7-12b2-4e80-b682-f4d8fea17bff",
   "metadata": {},
   "source": [
    "This last one is a good demo: we could probably separate it with a KS test, but this would be a different statistical statement!"
   ]
  },
  {
   "cell_type": "markdown",
   "id": "0b46e219-4181-4b91-8f4e-d10657bf26e8",
   "metadata": {},
   "source": [
    "---"
   ]
  },
  {
   "cell_type": "markdown",
   "id": "0d8f5ff3-3580-473c-8ecd-cb4fe7c65b8f",
   "metadata": {},
   "source": [
    "## Problem 3"
   ]
  },
  {
   "cell_type": "markdown",
   "id": "9e1bb563-99fe-4cff-be32-179de8bf8950",
   "metadata": {},
   "source": [
    "3. Suppose you are interested in testing whether a potential anxiolytic drug changes latencies in the same experimental setup as problem 2 above. You collect data from animals given either the drug or a saline control injection, and for this dataset (PS3_dataset5.txt), 1 in the first column represents the animal number, the second the condition (1 for saline, 2 for drug) and the third the latency. Repeat instructions 1-4 from Problem 2 for these data, modifying as you feel is appropriate for this dataset. Would you conclude that it is likely that the drug has an effect?"
   ]
  },
  {
   "cell_type": "markdown",
   "id": "f94af384-9bc8-4684-850c-ed86875221e9",
   "metadata": {},
   "source": [
    "### Helpers"
   ]
  },
  {
   "cell_type": "code",
   "execution_count": 56,
   "id": "d5274d8b-5c86-45f6-9ebc-cb3b6a708948",
   "metadata": {},
   "outputs": [],
   "source": [
    "def pipeline_3( path,\n",
    "                hist_bins = None,\n",
    "                normality_alpha = 0.05,\n",
    "                equal_var_alpha = 0.05,\n",
    "                alpha = 0.05 ):\n",
    "    \n",
    "    # Parse parameters\n",
    "    if hist_bins is None:\n",
    "        hist_bins = np.arange( 0, 71, 5. )\n",
    "    \n",
    "    # 1.\n",
    "    # Lod data\n",
    "    \n",
    "    data = np.loadtxt( path )\n",
    "    \n",
    "    labels = data[:, 0]\n",
    "    conditions = data[:, 1]\n",
    "    values = data[:, 2]\n",
    "    \n",
    "    # Make sure to align mouse labels\n",
    "    labels_all = list( sorted( set( labels ) ) )\n",
    "    values_paired_1 = np.array( [ values[(labels == l) & (conditions == 1)][0]\n",
    "                                for l in labels_all ] )\n",
    "    values_paired_2 = np.array( [ values[(labels == l) & (conditions == 2)][0]\n",
    "                                for l in labels_all ] )\n",
    "    \n",
    "    # 2.\n",
    "    # Plot data\n",
    "    \n",
    "    plt.figure( figsize = (5, 3) )\n",
    "    \n",
    "    plt.hist( values_paired_1,\n",
    "              bins = hist_bins,\n",
    "              alpha = 0.5,\n",
    "              label = 'Group 1' )\n",
    "    plt.hist( values_paired_2,\n",
    "              bins = hist_bins,\n",
    "              alpha = 0.5,\n",
    "              label = 'Group 2' )\n",
    "    \n",
    "    plt.title( path )\n",
    "    plt.legend()\n",
    "    \n",
    "    plt.show()\n",
    "    \n",
    "    plt.figure( figsize = (2, 3) )\n",
    "    \n",
    "    # Spread out the x-coordinates of the plotted data a little bit\n",
    "    xs_1 = 0. + 0.05 * np.random.normal( size = values_paired_1.shape )\n",
    "    xs_2 = 1. + 0.05 * np.random.normal( size = values_paired_2.shape )\n",
    "    \n",
    "    for x1, x2, y1, y2 in zip( xs_1, xs_2, values_paired_1, values_paired_2 ):\n",
    "        plt.plot( [x1, x2], [y1, y2], 'k-',\n",
    "                  alpha = 0.3,\n",
    "                  linewidth = 1 )\n",
    "    \n",
    "    plt.plot( xs_1, values_paired_1, 'C0.',\n",
    "              markersize = 5 )\n",
    "    plt.plot( xs_2, values_paired_2, 'C1.',\n",
    "              markersize = 5 )\n",
    "    \n",
    "    plt.xlim( -0.5, 1.5 )\n",
    "    plt.xticks( [0, 1], ['Group 1', 'Group 2'] )\n",
    "    \n",
    "    plt.title( path )\n",
    "    \n",
    "    plt.show()\n",
    "    \n",
    "    # 3.\n",
    "    # Decide if we should use a parametric or nonparametric test\n",
    "    \n",
    "    normal_gof_diff = sstats.normaltest( values_paired_2 - values_paired_1 )\n",
    "    \n",
    "    use_parametric = True\n",
    "    if normal_gof_diff.pvalue < normality_alpha:\n",
    "        print( f'Group differences rejects normality (p = {normal_gof_diff.pvalue}' )\n",
    "        use_parametric = False\n",
    "        \n",
    "    # 4.\n",
    "    # Run the appropriate test\n",
    "\n",
    "    test_result = sstats.ttest_rel( values_paired_1, values_paired_2 )\n",
    "    if test_result.pvalue < alpha:\n",
    "        if use_parametric:\n",
    "            print( f'** REJECT (p = {test_result.pvalue})' )\n",
    "            return True\n",
    "        else:\n",
    "            print( f'(Hypothetical parametric result: Reject (p = {test_result.pvalue})' )\n",
    "    else:\n",
    "        if use_parametric:\n",
    "            print( f'** DO NOT REJECT (p = {test_result.pvalue})' )\n",
    "            return False\n",
    "        else:\n",
    "            print( f'(Hypothetical parametric result: Do not reject (p = {test_result.pvalue})' )\n",
    "    \n",
    "    # From here on out, we are for sure in the nonparametric regime\n",
    "    \n",
    "    test_result = sstats.wilcoxon( values_paired_1, values_paired_2 )\n",
    "    \n",
    "    if test_result.pvalue < alpha:\n",
    "        print( f'** REJECT (p = {test_result.pvalue})' )\n",
    "        return True\n",
    "    print( f'** DO NOT REJECT (p = {test_result.pvalue})' )\n",
    "    return False"
   ]
  },
  {
   "cell_type": "markdown",
   "id": "4d01ac20-107d-47f3-baee-543c52d3d460",
   "metadata": {},
   "source": [
    "### Parameters"
   ]
  },
  {
   "cell_type": "code",
   "execution_count": 57,
   "id": "3e60e851-4610-4477-9146-4ef09a97a35e",
   "metadata": {},
   "outputs": [],
   "source": [
    "data_dir = 'data'\n",
    "filenames = [\n",
    "    'PS3_dataset5.txt',\n",
    "]"
   ]
  },
  {
   "cell_type": "markdown",
   "id": "58e9099e-0db9-4b49-baae-f9e44ac5b982",
   "metadata": {},
   "source": [
    "### Run"
   ]
  },
  {
   "cell_type": "code",
   "execution_count": 58,
   "id": "7f650359-52a2-493e-a040-116f588e5f07",
   "metadata": {},
   "outputs": [
    {
     "data": {
      "image/png": "[encoded data removed]",
      "text/plain": [
       "<Figure size 500x300 with 1 Axes>"
      ]
     },
     "metadata": {},
     "output_type": "display_data"
    },
    {
     "data": {
      "image/png": "[encoded data removed]",
      "text/plain": [
       "<Figure size 200x300 with 1 Axes>"
      ]
     },
     "metadata": {},
     "output_type": "display_data"
    },
    {
     "name": "stdout",
     "output_type": "stream",
     "text": [
      "** REJECT (p = 0.002262772291428005)\n"
     ]
    }
   ],
   "source": [
    "for filename in filenames:\n",
    "    pipeline_3( os.path.join( data_dir, filename ) )"
   ]
  },
  {
   "cell_type": "markdown",
   "id": "e4ec868a-2b57-4f0f-95bf-d196788c33e1",
   "metadata": {},
   "source": [
    "Note that, although the distributions look like they overlap substantially overall (first plot), the **paired** test can detect that there is a nonzero effect for the **differences** (second plot)."
   ]
  },
  {
   "cell_type": "markdown",
   "id": "3547e21f-e8c5-4135-a284-a5db4579834e",
   "metadata": {},
   "source": [
    "---"
   ]
  },
  {
   "cell_type": "markdown",
   "id": "08254531-9e9e-4e12-b304-32c219411083",
   "metadata": {},
   "source": [
    "## Problem 4"
   ]
  },
  {
   "cell_type": "markdown",
   "id": "00c9915e-8607-4a48-8623-f0fee87f76a1",
   "metadata": {},
   "source": [
    "4. Spike trains can be analyzed with respect to brain or behavioral rhythms. Suppose that you’ve collected spikes from two neurons (500 spikes each). Suppose you have also recorded the phase of the whisking cycle, where a phase of 0 corresponds to when the whisker is fully anterior and a phase of pi corresponds to when the whisker is at its fully posterior position. PS3_dataset6.txt contains the phases of each spike, where the first column corresponds to the neuron number (1 or 2) and the second to the phase of the spike."
   ]
  },
  {
   "cell_type": "markdown",
   "id": "70da2092-fae5-4433-8c87-15bc4c7f4c91",
   "metadata": {},
   "source": [
    "4. a. Use np.hist (or matlab’s histogram command) to create a histogram of spike counts in phase bins of width pi/12 for each cell. Does either cell appear to be more active at some phases rather than others?"
   ]
  },
  {
   "cell_type": "code",
   "execution_count": 22,
   "id": "1bf99201-a14c-4f38-a404-7dba858c1830",
   "metadata": {},
   "outputs": [],
   "source": [
    "data_dir = 'data'\n",
    "filename = 'PS3_dataset6.txt'\n",
    "path = os.path.join( data_dir, filename )\n",
    "\n",
    "data = np.loadtxt( path )\n",
    "    \n",
    "labels = data[:, 0]\n",
    "values = data[:, 1]"
   ]
  },
  {
   "cell_type": "code",
   "execution_count": 23,
   "id": "1bc71986-3665-4c2f-9d7a-6e99e74d0629",
   "metadata": {},
   "outputs": [
    {
     "data": {
      "image/png": "[encoded data removed]",
      "text/plain": [
       "<Figure size 500x300 with 1 Axes>"
      ]
     },
     "metadata": {},
     "output_type": "display_data"
    }
   ],
   "source": [
    "hist_bins = np.arange( 0, 2 * np.pi + 0.01, np.pi / 12. )\n",
    "\n",
    "plt.figure( figsize = (5, 3) )\n",
    "    \n",
    "plt.hist( values[labels == 1],\n",
    "          bins = hist_bins,\n",
    "          alpha = 0.5,\n",
    "          label = 'Group 1' )\n",
    "plt.hist( values[labels == 2],\n",
    "          bins = hist_bins,\n",
    "          alpha = 0.5,\n",
    "          label = 'Group 2' )\n",
    "\n",
    "plt.title( path )\n",
    "plt.legend()\n",
    "\n",
    "plt.show()"
   ]
  },
  {
   "cell_type": "markdown",
   "id": "b01c6716-52af-4ee5-96f0-c567b6b4088c",
   "metadata": {},
   "source": [
    "I'm guessing neuron 2 is tuned and neuron 1 isn't."
   ]
  },
  {
   "cell_type": "markdown",
   "id": "8ca35625-90eb-445d-af8b-f35e7a8e89aa",
   "metadata": {},
   "source": [
    "4. b. Bonus: The Rayleigh test can be used to determine whether a set of phases can be differentiated from a uniform circular distribution. See if you can find a python or Matlab function that runs the test, install it, and determine whether you can reject the null hypothesis of uniformity for either of the distributions."
   ]
  },
  {
   "cell_type": "code",
   "execution_count": 24,
   "id": "a226ac00-025c-449b-b687-8531a6b830da",
   "metadata": {},
   "outputs": [
    {
     "name": "stdout",
     "output_type": "stream",
     "text": [
      "Group 1: p = 0.0957249106438036\n"
     ]
    }
   ],
   "source": [
    "rayleigh_result_1 = astats.rayleightest( values[labels == 1] )\n",
    "print( f'Group 1: p = {rayleigh_result_1}' )"
   ]
  },
  {
   "cell_type": "code",
   "execution_count": 25,
   "id": "9fb9aa96-753c-40c2-bab1-1398d9340249",
   "metadata": {},
   "outputs": [
    {
     "name": "stdout",
     "output_type": "stream",
     "text": [
      "Group 1: p = 8.2984016701742e-115\n"
     ]
    }
   ],
   "source": [
    "rayleigh_result_2 = astats.rayleightest( values[labels == 2] )\n",
    "print( f'Group 2: p = {rayleigh_result_2}' )"
   ]
  }
 ],
 "metadata": {
  "kernelspec": {
   "display_name": "Python 3 (ipykernel)",
   "language": "python",
   "name": "python3"
  },
  "language_info": {
   "codemirror_mode": {
    "name": "ipython",
    "version": 3
   },
   "file_extension": ".py",
   "mimetype": "text/x-python",
   "name": "python",
   "nbconvert_exporter": "python",
   "pygments_lexer": "ipython3",
   "version": "3.10.8"
  }
 },
 "nbformat": 4,
 "nbformat_minor": 5
}
