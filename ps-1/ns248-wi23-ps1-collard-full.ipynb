{
 "cells": [
  {
   "cell_type": "markdown",
   "id": "62ec8062-1bbb-43c6-b2c6-d2021f5bf433",
   "metadata": {},
   "source": [
    "# Problem Set 1\n",
    "## UCSF NS248, Winter 2023\n",
    "\n",
    "### Solutions by Max Collard"
   ]
  },
  {
   "cell_type": "markdown",
   "id": "fdd272b2-86c8-45ea-b0ae-cfc08f3dc0a3",
   "metadata": {},
   "source": [
    "---"
   ]
  },
  {
   "cell_type": "markdown",
   "id": "837c2ae5-9f13-4217-b146-c106855cf68d",
   "metadata": {},
   "source": [
    "# Notes"
   ]
  },
  {
   "cell_type": "markdown",
   "id": "8305c1aa-6972-4000-a5d8-fbbe46a549d9",
   "metadata": {},
   "source": [
    "In my notation, I will say that:\n",
    "\n",
    "#### Sets\n",
    "* $\\Omega$ is the **sample space**, containing every possible universe we could be living in\n",
    "* $A \\subseteq \\Omega$ means that $A$ is a **subset** of $\\Omega$ (note that $\\Omega$ is a subset of $\\omega$, hence the equals sign)\n",
    "* $A \\subsetneq \\Omega$ means that $A$ is a **strict subset** of $\\Omega$ (in particular meaning that $A \\neq \\Omega$)\n",
    "* $\\omega \\in \\Omega$ means that the outcome $\\omega$ is **an element of $\\Omega$**, meaning that it is one possible universe\n",
    "* $\\emptyset$ is the **empty set**, which has nothing in it\n",
    "* $A^c$, the **complement** of $A$, meaning everything in $\\Omega$ *except* for $A$\n",
    "* $A \\cup B$, $A$ **union** $B$, is the set of outcomes in *either* $A$ or $B$\n",
    "    * $\\bigcup_i A_i$ means \"the set of outcomes in any of the $A_i$\"\n",
    "* $A \\cap B$, $A$ **intersect** $B$, is the set of outcomes in *both* $A$ and $B$\n",
    "    * $\\bigcap_i A_i$ means \"the set of outcomes in every one of the $A_i$\"\n",
    "\n",
    "#### Functions\n",
    "* $f: X \\to Y$ means that $f$ is a function that takes an input value from the set $X$ and produces some output value in the set $Y$\n",
    "* $f: x \\mapsto y$ is an alternate notation that means that $f$ takes each input value $x$ and maps it to the output value $y$\n",
    "\n",
    "#### Probability\n",
    "* $\\operatorname{Pr}(A)$ is the **probability** of the set $A$, meaning its *size* inside of the multiverse $\\Omega$\n",
    "* $\\operatorname{Pr}(A \\mid B)$ is the **conditional probability** of $A$ **given** $B$, meaning the *relative* size of $A$ inside of $B$\n",
    "* If $V$ is a $X$-valued **random variable**, then $(V = x) \\subseteq \\Omega$ is the set of all outcomes in $\\Omega$ where $V$ takes the value $x$. It is the set of all universes in which we see the observation $V$ take the value $x$.\n",
    "    * This lets us meaningful talk about things like $\\operatorname{Pr}(V = x)$ on the same footing as everything else.\n",
    "    * That is, thinking of $V$ as a way of assigning a value in $X$ to every possible outcome in $\\Omega$ (that is, $V$ is a *function* $V: \\Omega \\to X$), then\n",
    "    $$ (V = x) = V^{-1}(x) $$\n",
    "        i.e., the inverse image of $x$.\n",
    "    * For those who have seen measure theory, this is why a \"measurable function\" is defined as preserving measurability under inverse image: it guarantees that we can always take the probability (size) of the set ($V = x$) for any $x$, which is needed for the theory to talk about anything we care about."
   ]
  },
  {
   "cell_type": "markdown",
   "id": "5206cd1e-4d1f-4e5f-87a5-f6633cc52293",
   "metadata": {},
   "source": [
    "## Problem 1"
   ]
  },
  {
   "cell_type": "markdown",
   "id": "0c6bc893-5811-4d2d-916f-b2c8104af13b",
   "metadata": {},
   "source": [
    "### Complements\n",
    "\n",
    "Probability is a measure of **size**. It is built mathematically in order to preserve our intuition about the way size works. Most notably, the size of two non-overlapping objects $A$ and $B$ **add**:\n",
    "\n",
    "$$ A \\cap B = \\emptyset \\Leftrightarrow \\operatorname{Pr}(A \\cap B) = \\operatorname{Pr}(A) + \\operatorname{Pr}(B) $$\n",
    "\n",
    "It also assumes that probability is **normalized**—that is, the entire multiverse is a finite size:\n",
    "\n",
    "$$ \\operatorname{Pr}(\\Omega) = 1 $$\n",
    "\n",
    "Since $A \\cup A^c = \\Omega$, we note that\n",
    "\n",
    "$$ \\operatorname{Pr}(A \\cup A^c) = \\operatorname{Pr}(\\Omega) = 1 $$\n",
    "\n",
    "Since $A$ and $A^c$ do not overlap, this means that\n",
    "\n",
    "$$ \\operatorname{Pr}(A) + \\operatorname{Pr}(A^c) = 1 $$\n",
    "\n",
    "i.e., the intuition that $\\operatorname{Pr}(A^c) = 1 - \\operatorname{Pr}(A)$. This fact follows directly from our assumptions that probability behaves like physical size."
   ]
  },
  {
   "cell_type": "markdown",
   "id": "4471d146-e4a5-4837-8a2d-b5f70328f723",
   "metadata": {},
   "source": [
    "### Independence\n",
    "\n",
    "Probability is a measure of **size**. It is built mathematically in order to preserve our intuition about the way size works. Most notably, the size of two non-overlapping objects $A$ and $B$ **add**:\n",
    "\n",
    "$$ A \\cap B = \\emptyset \\Leftrightarrow \\operatorname{Pr}(A \\cap B) = \\operatorname{Pr}(A) + \\operatorname{Pr}(B) $$\n",
    "\n",
    "Conditional probability is a measure of **relative size**. That is, the probability of $A$ conditioned on (given) $B$ is just the size of the part of a $A$ inside of $B$, relative to the total size of $B$:\n",
    "\n",
    "$$\n",
    "\\begin{eqnarray*}\n",
    "    \\operatorname{Pr}(A \\mid B) & = & \\frac{\\operatorname{Pr}(A \\cap B)}{\\operatorname{Pr}(B)} \\\\\n",
    "\\end{eqnarray*}\n",
    "$$\n",
    "\n",
    "One can think of this as what would happen to our understanding of $A$ if we *knew* that $B$ was true. It is often convenient to assume that knowing $B$ *has no effect whatsoever* on our understanding of $A$, i.e.,\n",
    "\n",
    "$$ \\operatorname{Pr}(A \\mid B) = \\operatorname{Pr}(A) $$\n",
    "\n",
    "If this is true, we say that $A$ is **independent** of $B$. This means in particular that\n",
    "\n",
    "$$\n",
    "\\begin{eqnarray*}\n",
    "    \\operatorname{Pr}(A) & = & \\frac{\\operatorname{Pr}(A \\cap B)}{\\operatorname{Pr}(B)} \\\\\n",
    "    \\operatorname{Pr}(A)\\,\\operatorname{Pr}(B) & = & \\operatorname{Pr}(A \\cap B)\n",
    "\\end{eqnarray*}\n",
    "$$\n",
    "\n",
    "(This is taken as the definition of independence in most textbooks, because conditional probability has some hairy technical considerations when $\\operatorname{Pr}(B) = 0$.)\n",
    "\n",
    "Note that this is true even if we start in the other direction, with\n",
    "\n",
    "$$ \\operatorname{Pr}(B \\mid A) = \\operatorname{Pr}(B) $$\n",
    "\n",
    "This implies the same outcome:\n",
    "\n",
    "$$\n",
    "\\begin{eqnarray*}\n",
    "    \\operatorname{Pr}(B \\mid A) = \\operatorname{Pr}(B) & = & \\frac{\\operatorname{Pr}(A \\cap B)}{\\operatorname{Pr}(A)} \\\\\n",
    "    \\operatorname{Pr}(B)\\,\\operatorname{Pr}(A) & = & \\operatorname{Pr}(A \\cap B)\n",
    "\\end{eqnarray*}\n",
    "$$\n",
    "\n",
    "So independence is **symmetric**, i.e., not directed."
   ]
  },
  {
   "cell_type": "markdown",
   "id": "faa626ce-dd31-4fd5-bdf5-6df1790d9c6c",
   "metadata": {},
   "source": [
    "### Bayes' Rule\n",
    "\n",
    "Recall that the probability of $A$ conditioned on (given) $B$ is just the size of $A$ inside of $B$, relative to the total size of $B$:\n",
    "\n",
    "$$\n",
    "\\begin{eqnarray*}\n",
    "    \\operatorname{Pr}(A \\mid B) & = & \\frac{\\operatorname{Pr}(A \\cap B)}{\\operatorname{Pr}(B)} \\\\\n",
    "\\end{eqnarray*}\n",
    "$$\n",
    "\n",
    "Going theo ther way, we have that\n",
    "\n",
    "$$\n",
    "\\begin{eqnarray*}\n",
    "    \\operatorname{Pr}(B \\mid A) & = & \\frac{\\operatorname{Pr}(A \\cap B)}{\\operatorname{Pr}(A)} \\\\\n",
    "\\end{eqnarray*}\n",
    "$$\n",
    "\n",
    "There is a symmetry in this definition, as we can solve for $\\operatorname{Pr}(A \\cap B)$ in either case:\n",
    "\n",
    "$$\n",
    "\\begin{eqnarray*}\n",
    "    \\operatorname{Pr}(A \\cap B) & = & \\operatorname{Pr}(A \\mid B)\\,\\operatorname{Pr}(B) \\\\\n",
    "        & = & \\operatorname{Pr}(B \\mid A)\\,\\operatorname{Pr}(A)\n",
    "\\end{eqnarray*}\n",
    "$$\n",
    "\n",
    "Using this symmetry to solve for one of the two conditional probabilities yields **Bayes' rule**:\n",
    "\n",
    "$$ \\operatorname{Pr}(A \\mid B) = \\frac{\\operatorname{Pr}(B \\mid A)\\,\\operatorname{Pr}(A)}{\\operatorname{Pr}(B)} $$\n",
    "\n",
    "In the context of **Bayesian inference**, we usually consider $A$ as being the event corresponding to \"some fact is true about the world\", and $B$ as being the event corresponding to \"we observed some set of data\". In this case,\n",
    "* $\\operatorname{Pr}(A)$ corresponds to our **prior belief** that $A$ is true\n",
    "* $\\operatorname{Pr}(A \\mid B)$ is the updated **posterior belief** about $A$, given that we observed $B$\n",
    "* $\\operatorname{Pr}(B \\mid A)$ is the **likelihood** of observing $B$ assuming that $A$ is true\n",
    "    * This is the topic of statistical modeling: a **model** corresponds to a specification of a probability distribution / likelihood for the data under assumptions about how the world works)\n",
    "* $\\operatorname{Pr}(B)$ is the **marginal** of the likelihood, integrated against all possible world-truths\n",
    "    * The math for these can be very gnarly in general (sometimes it's questionable whether they even *exist*), but thankfully it turns out that most of the time we can do inference without worrying about them at all, because they don't depend on $A$, the hypothesis about the world we want to know about"
   ]
  },
  {
   "cell_type": "markdown",
   "id": "878a6410-5749-491c-9db6-e8216af87af4",
   "metadata": {},
   "source": [
    "### Law of total probability\n",
    "\n",
    "Given a sample space $\\Omega$, a collection of sets $A_1, A_2, \\ldots A_n$ is called a **partition** if\n",
    "\n",
    "1. $ \\bigcup_i A_i = \\Omega $ (That is, the $A_i$ **cover the sample space**.)\n",
    "2. For any $i \\neq j$, $A_i \\cap A_j = \\emptyset$ (That is, the $A_i$ **do not overlap with one another**.)\n",
    "\n",
    "This definition is made mathematically because it implies the following fact:\n",
    "\n",
    "* Every outcome $\\omega \\in \\Omega$ is in **exactly one** of the $A_i$\n",
    "    * Proof: The $A_i$ cover $\\Omega$, so $\\omega$ is in *at least* one $A_i$. If $\\omega$ was in two distinct sets $A_i$ and $A_j$, then that would mean that $\\omega \\in A_i \\cap A_j$; but, this cannot be the case, because $A_i$ and $A_j$ do not overlap.\n",
    "\n",
    "Sometimes it's difficult to compute the size $\\operatorname{Pr}$ of a set $C$. However, it can be easier to *build up* $C$ from component pieces in smaller parts of the sample space $A_1, A_2, \\ldots A_n$. If the smaller parts we're breaking up $C$ inside of form a *partition* of $\\Omega$, then we have that\n",
    "\n",
    "$$ \\operatorname{Pr}(C) = \\sum_i \\operatorname{Pr}(C \\cap A_i) $$\n",
    "\n",
    "This works because we don't miss any part of $C$ (because the $A_i$ cover the space) and we also don't double-count any part of $C$ (because the $A_i$ don't overlap). An even more convenient form comes when we note that each term can be written in terms of conditional probability:\n",
    "\n",
    "$$ \\operatorname{Pr}(C) = \\sum_i \\operatorname{Pr}(C \\mid A_i)\\,\\operatorname{Pr}(A_i) $$\n",
    "\n",
    "This works because $\\operatorname{Pr}(C \\cap A_i)$, the sie of the part of $C$ that is in $A_i$, can be thought of as the size of $C$ *relative to* $A_i$—i.e., $\\operatorname{Pr}(C \\mid A_i)$—*times* the overall size of $\\operatorname{Pr}(A_i)$.\n",
    "\n",
    "This latter form is the **law of total probability**. "
   ]
  },
  {
   "cell_type": "markdown",
   "id": "1708b814-b13a-46f2-8b72-c425ef3fb9cc",
   "metadata": {},
   "source": [
    "## Problem 2"
   ]
  },
  {
   "cell_type": "markdown",
   "id": "a77b9849-72a5-4772-8f9a-8d8925c83795",
   "metadata": {},
   "source": [
    "### Solving problems\n",
    "\n",
    "**The fundamental essence of math lies in breaking down big, hard problems into a bunch of small, easy problems**. For example, if someone asked me what is\n",
    "\n",
    "$$ \\sqrt{1764} $$\n",
    "\n",
    "I would say, “That’s hard. I don’t know how to do that just looking at the number.” But on the other hand,\n",
    "\n",
    "$$ \\sqrt{2^2 \\times 3^2 \\times 7^2} $$\n",
    "\n",
    "is doable: I know that square roots undo squaring, and that the square root of a product is the product of the square roots. So, the answer has to be $2 \\times 3 \\times 7 = 42$. The fact that $1764$ can be decomposed this way—and, that the \"square root\" operation respects the decomposition so nicely—makes solving this problem easier. This is the essence of mathematical **structure**.\n",
    "\n",
    "This tells us something very general about the way people represent knowledge. All concepts need to be broken down into smaller parts that are individually understandable—pieces that can then be assembled together to get the whole idea. That is to say, knowledge is fundamentally **compositional**. This is an essential law for math, which is at its core the study of structured thought. It underlies the ubiquity of the modern foundations of mathematics in [category theory](https://en.wikipedia.org/wiki/Category_theory), which has composability as its central, defining axiom.\n",
    "\n",
    "It also lies at the heart of how to write code. Large problems can be broken up into smaller problems, which are easier to solve on their own. These smaller solutions can then not only be assembled to form a solution to the larger problem, but can in fact be assembled together in *new* ways to solve *different* problems than were originally imagined. Before writing a single line of code, then, it is imperative to understand the **structure** of the problem—that is, how it can be broken down into its constituent parts."
   ]
  },
  {
   "cell_type": "markdown",
   "id": "a3942110-1289-4858-bcd6-14fcac264c9d",
   "metadata": {},
   "source": [
    "### Large-scale problem structure\n",
    "\n",
    "Looking at what we're asked to do for this problem, I immediately break down the general task as follows:\n",
    "\n",
    "* For each value of $n$:\n",
    "    * $n$ times over:\n",
    "        * we're going to run a simulation to get one realization of our 3-neuron setup\n",
    "    * After that, we're going to evaluate a few different metrics on that data\n",
    "* Then, for each problem 1a–1e:\n",
    "    * We make pretty plots of this metric as we vary $n$\n",
    "\n",
    "So the three fundamental parts of our problem are `simulate`, `evaluate`, and `plot`. The most critical parts for specifying these sub-problems are to understand their **inputs** and their **outputs**. In my mind, I view these as:\n",
    "\n",
    "* `simulate`\n",
    "    * *Inputs*: None.\n",
    "    * *Outputs*: Three binary decisions, of whether A, B, and C fired\n",
    "* `evaluate`\n",
    "    * *Inputs*: Three lists of $n$ binary decisions, specifying whether A, B, and C fired in each trial\n",
    "    * *Outputs*: Five numbers, corresponding to the metrics from 1a–1e\n",
    "* `plot`\n",
    "    * *Inputs*: A list of the $n$s, and a list of one of the metrics from `evaluate` across each simulated $n$\n",
    "    * *Outputs*: A pretty picture"
   ]
  },
  {
   "cell_type": "markdown",
   "id": "a58594d3-7eef-48fd-a1dd-5c1330bce75a",
   "metadata": {},
   "source": [
    "### `simulate`\n",
    "\n",
    "To simulate this setup, let's write out our model. In this case, we have three random variables: $A$, $B$, and $C$, each of which takes values of either $0$ or $1$. $C$ and $A$ are dependent, and $C$ and $B$ are dependent, but $A$ and $B$ are independent; we can represent this visually by drawing *nodes* for $A$, $B$, and $C$, and then drawing *edges* between variables that have dependencies (between $A$ and $C$, and between $B$ and $C$). This is known as a **graphical model**.\n",
    "\n",
    "The graphical model gives us an indication of how we should do our simulation: if we figure out what's going on with $A$ and $B$, we then know all of the dependencies that determine $C$. Since we know how $A$ and $B$ behave, as well as the structure of $C$'s dependence on $A$ and $B$, from the definition of the problem, this is how we can proceed. At first glance, the structure of our problem is:\n",
    "\n",
    "* Simulate if $A$ fired, with probability $p_A$\n",
    "* Simulate if $B$ fired, with probability $p_B$\n",
    "* Determine the probability $q$ that $C$ fired, based on the conditional probabilities for $C$ given $A$ and $B$\n",
    "* Simulate if $C$ fired, with probability $q$\n",
    "* Return $(A, B, C)$\n",
    "\n",
    "Note that there is a **repeated task** here: determining whether something fired with a certain probability $p$. Whenever there is a repeated task, it is a good idea to encapsulate that task in a **function**. In this case, we might consider making a function like this:\n",
    "\n",
    "* `random_fire`\n",
    "    * *Inputs*: Probability of firing $p$\n",
    "    * *Outputs*: `True` if it fired, `False` if it didn't\n",
    "\n",
    "How would we implement this function? Well, `numpy.random.uniform()` returns a uniform random number between $0$ and $1$. Notice that the fraction of the time a uniform random number between $0$ and $1$ is less than $p$ is exactly $p$. So, we might do something like"
   ]
  },
  {
   "cell_type": "raw",
   "id": "83bba4cd-9f9f-45fb-a357-7a5f0e4f1fea",
   "metadata": {},
   "source": [
    "def random_fire( p ):\n",
    "    if np.random.uniform() < p:\n",
    "        return True\n",
    "    else:\n",
    "        return False"
   ]
  },
  {
   "cell_type": "markdown",
   "id": "b8cc383b-48fd-4857-86e9-130136fb3589",
   "metadata": {},
   "source": [
    "Now our procedure is something like\n",
    "\n",
    "* $A$ = `random_fire(` $p_A$ `)`\n",
    "* $B$ = `random_fire(` $p_B$ `)`\n",
    "* Determine the probability $q$ that $C$ fired, based on the conditional probabilities for $C$ given $A$ and $B$\n",
    "* $C$ = `random_fire(` $q$ `)`\n",
    "* Return $(A, B, C)$\n",
    "\n",
    "All that's left is a table lookup for the conditional probabilities, and we're done!"
   ]
  },
  {
   "cell_type": "markdown",
   "id": "4d740320-fe75-4d4d-a3e5-2b693960c3ab",
   "metadata": {},
   "source": [
    "### `evaluate`\n",
    "\n",
    "All five of the metrics involve conditional probability, so we should probably make a function that can compute that!\n",
    "\n",
    "* `pr`\n",
    "    * *Inputs*: `xs`, a list of binary values we want to know the probability of, and `where`, a list of binary values that specify what we want to condition on\n",
    "    * *Outputs*: $\\operatorname{Pr}(\\texttt{xs}\\mid\\texttt{where})$\n",
    "\n",
    "Once this is specified, we just need to appropriately determine `xs` and `where` for each of the problems we want to solve. Using `numpy` arrays, this is just a matter of judiciously using the `&` and `~` operators."
   ]
  },
  {
   "cell_type": "markdown",
   "id": "c6561b66-7532-4b80-86ef-d72a81ff0b36",
   "metadata": {},
   "source": [
    "### `plot`\n",
    "\n",
    "This is unfortunately just a matter of knowing where to look in the `matplotlib` documentation.\n",
    "\n",
    "> **Protip**: If you make `plot` a function that takes a `matplotlib` axes object as an argument and then makes your plot into those axes, then you can re-use your plotting code inside of subplots you make elsewhere. Doesn't sound helpful now, but it'll make your life 19374838273x easier in practical programming problems!"
   ]
  },
  {
   "cell_type": "markdown",
   "id": "bd74c238-ca4e-4e66-85b6-72ae8db19092",
   "metadata": {},
   "source": [
    "### Put it all together and what do you get?\n",
    "\n",
    ">The answer!"
   ]
  },
  {
   "cell_type": "markdown",
   "id": "469df5c5-4ce9-41cb-8725-71dc5b538847",
   "metadata": {},
   "source": [
    "### Simulating random variables\n",
    "\n",
    "Any numerical distribution can be simulated by using the **inverse CDF method**:\n",
    "\n",
    "* `sim_inverse_cdf`\n",
    "    * *Input*: A cdf `F` of some distribution to simulate\n",
    "    * *Output*: A random variate distributed according to the cdf\n",
    "    * *Algorithm*:\n",
    "        * Take $U$ from a uniform distribution on $[0, 1]$\n",
    "        * Use interpolation to compute $V$ = `F`$^{-1}(U)$\n",
    "        * Return $V$\n",
    "        \n",
    "Note that what we did above to simulate a binary random variable with a certain probability $p$ is just a reduced version of this algorithm: if `F` is the cdf for this variable, then `F` starts at zero, jumps up to $p$ at $x = 0$, and then jumps up to 1 at $x = 1$. The inverse of `F` is then $0$ if $U$ is less than $p$, and $1$ otherwise."
   ]
  },
  {
   "cell_type": "markdown",
   "id": "28208f93-024a-44eb-8c00-1533d4db43fd",
   "metadata": {},
   "source": [
    "## Problem 3"
   ]
  },
  {
   "cell_type": "markdown",
   "id": "9ed155b8-3ee6-4f03-9aca-8e7b8d7c0dce",
   "metadata": {},
   "source": [
    "### Large-scale problem structure\n",
    "\n",
    "Here's how I broke up this problem:\n",
    "\n",
    "#### 3a–b\n",
    "Solution is `load_csv` $\\to$ `histogram` $\\to$ `plot_histogram`, where\n",
    "* `load_csv`\n",
    "    * *Inputs*: A path to where the data is stored in `.csv` format\n",
    "    * *Outputs*: An array containing the data loaded in from the input file\n",
    "    * *Note*: This is already implemented as, e.g., `pandas.read_csv`\n",
    "* `histogram`\n",
    "    * *Inputs*: An array of data, and the bin edges we want to use\n",
    "    * *Outputs*: The number of data points in each bin\n",
    "    * *Note*: This is already implemented as `numpy.histogram`\n",
    "* `plot_histogram`\n",
    "    * *Inputs*: A histogram\n",
    "    * *Outputs*: A pretty picture\n",
    "\n",
    "#### 3c\n",
    "Solution is\n",
    "* `load_csv` $\\to$\n",
    "    * `histogram` $\\to$ `pmf` $\\to$ `plot_pmf`, plus\n",
    "    * `cdf` $\\to$ `plot_cdf`\n",
    "\n",
    "where:\n",
    "* `pmf`\n",
    "    * *Inputs*: The histogram (i.e., count in each bin)\n",
    "    * *Outputs*: The empirical pmf (i.e., the histogram normalized to sum to 1)\n",
    "* `cdf`\n",
    "    * *Inputs*: An array of `data`, and an array `xs` of points at which to evaluate the cdf\n",
    "    * *Outputs*: An array with, for each `x` in `xs`, the fraction of `data` $\\leq$ `x`\n",
    "* `plot_pmf`, `plot_cdf`\n",
    "    * *Inputs*: Respective objects\n",
    "    * *Ouptuts*: Respective pretty pictures\n",
    "\n",
    "#### 3d–e\n",
    "Solution is `load_csv` $\\to$ `histogram` $\\to$ `pmf` $\\to$ `bayes` $\\to$ `estimator`, where\n",
    "* `bayes`\n",
    "    * *Inputs*: The empirical pmf over spike counts for each class, and the prior over classes\n",
    "    * *Outputs*: The posterior distribution over all spike counts for each class (just Bayes' rule)\n",
    "* `estimator`\n",
    "    * *Inputs*: The posteriors\n",
    "    * *Outputs*: A function that takes as input a spike count, and returns the posterior probability for each class (using either the nearest bin, or interpolation, or some other scheme)"
   ]
  },
  {
   "cell_type": "markdown",
   "id": "e2da1449-3756-40a9-80e3-3e05d37ce806",
   "metadata": {},
   "source": [
    "### Using standard interfaces\n",
    "\n",
    "The input-output structure of a function is called its **interface**. For a *class*, the interface is specified by the interfaces of the class' members (i.e., instance variables and methods).\n",
    "\n",
    "For example, in the Python machine learning field, models generally have the following interface:\n",
    "* `fit`\n",
    "    * *Input*: Training data for the model (e.g., `X`, the observed spike counts, and `y`, the stimulus labels)\n",
    "    * *Output*: None, but results in training the model\n",
    "* `predict`\n",
    "    * *Input*: Array of inputs from the model's input space (e.g., `X`, the observed spike counts)\n",
    "    * *Output*: The model's predicted outputs (e.g., the probabilities of each observation being in each stimulus class, or the maximum *a posteriori* class)\n",
    "    \n",
    "I have implemented this interface in the context of Problem 3 in the `ps1prob3.EmpiricalBayesClassifier` class."
   ]
  },
  {
   "cell_type": "markdown",
   "id": "719c13bc-9f80-4a5e-85eb-69c9cdb9d969",
   "metadata": {},
   "source": [
    "### The bias-variance tradeoff\n",
    "\n",
    "For the problem of determining the **maximum *a posteriori* class** based on count data, we first need to have some kind of **model** of how we believe the counts behave given each class. A natural first choice for this is the **Poisson distribution**, which is determined by one paramater—$\\lambda$, the average number of spikes. This distribution is what is known as **maximum entropy**—it \"imparts the least amount of constraint\" given that the counts have a particular average.\n",
    "\n",
    "There is another reason to use this as a good starting model, though: the **bias-variance tradeoff**. Remember that your model is actually *a function of your data* (because you use your data to fit your model). Since your data is random, that means your model is also random!\n",
    "\n",
    "This means that errors in your model can come from two places:\n",
    "* The space of models you're considering is far away from the truth because it's too small (*bias*)\n",
    "* The random noise in your training data makes you meander around your model space, making you pick a model that isn't very good (*variance*)\n",
    "\n",
    "You can think of your empirical data, then, as money: you can choose to spend some of that money either on having additional parameters (i.e., a bigger, more detailed model that is theoretically capable of getting close to the truth), or on being more certain about the parameters you already have (i.e., reducing the noise in your estimate of the model). A Poisson model has $1$ parameter ($\\lambda$), so you spend all your money on knowing that parameter really well. If, on the other hand, you use the raw empirical pmf across all possible counts, that has $\\sim 50$ parameters (one for each possible count value), and so you only can expend $1/50$ of the data on each parameter. That means that your precision in knowing each one of those parameters is very low—i.e., your model is subject to a lot of noise.\n",
    "\n",
    "Note the link between bias and variance: if we reduce bias by making the model class bigger, we increase variance because there is now more room in the space for noise to push us. It is a fundamental principle of statistical decision theory that there is no objective “best choice” of how many parameters to have: this is why it is the bias-variance **tradeoff**. However, the problem becomes solvable if we add additional constraints; this is generally imposed by using something like **cross-validation**, which allows us to empirically check how important it is for our application to have a more detailed model vs. a less noisy model.\n",
    "\n",
    "(A crude engineer’s rule of thumb is that for general regression problems, if you have less than 10 data points per parameter, you know you’re probably in the danger zone.)"
   ]
  },
  {
   "cell_type": "markdown",
   "id": "a8ad3117-b290-4276-83bc-54e4b4fb7816",
   "metadata": {},
   "source": [
    "### Optimal decoding\n",
    "\n",
    "At the end of this problem, we use a given number of spikes ($52$) to decide the posterior probability of the two stimuli. This is an example of **decoding**.\n",
    "\n",
    "Suppose your data are pairs of random variables $(O_i, L_i)$ where each $O \\in X$ is some observation from the set of possible observed values $X$ (e.g., number of spikes) and each $L \\in \\{1, 2, \\ldots n\\}$ is a label assigning one class (e.g., stimulus) to that observation. Then a function\n",
    "\n",
    "$$ f: X \\to \\{1, 2, \\ldots n\\} $$\n",
    "\n",
    "is called a **classifier**. If we know the distribution of class labels $\\operatorname{Pr}(L = k)$ and the conditional distributions of the observations for each class label $\\operatorname{Pr}(O = x \\mid L = k)$, then there is a \"best classifier\", which turns out to be precisely the one given by Bayes' rule. One can see this as a practical justification for using Bayes' rule: Bayes' rule is \"the rule that would give us the best possible classification accuracy\".\n",
    "\n",
    "This \"bestness\" is in the following sense. The set of *all* possible classifiers is denoted $(X \\to \\{1, 2, \\ldots n\\})$, i.e., the set of all such functions. A **value function** $V$ is a rule that assigns to each classifier a number specifying how \"good\" that classifier is; that is,\n",
    "\n",
    "$$ V: (X \\to \\{1, 2, \\ldots n\\}) \\to \\mathbb{R} $$\n",
    "\n",
    "Let's consider one such valuation function, the **empirical accuracy**:\n",
    "\n",
    "$$ V_\\textrm{accuracy}: f \\mapsto \\sum_i I(f(O_i) = L_i) $$\n",
    "\n",
    "Where $I$ is the \"indicator variable\". (This, in symbols, is saying that $V_\\textrm{accuracy}$ is *the number of times the classifier makes the correct choice on the observed data $(O_i, L_i)$*.)\n",
    "\n",
    "An **empirically optimal classifier** is a classifier $f^\\ast$ such that\n",
    "\n",
    "$$ f^\\ast = \\underset{f: X \\to \\{1, 2, \\ldots n\\}}{\\operatorname{argmax}} V_\\textrm{accuracy}(f) $$\n",
    "\n",
    "(This, in symbols, is saying that $f^\\ast$ is, amongst all possible **arguments**, or classifiers, $f$, the one that **maximizes** the empirical accuracy $V_\\textrm{accuracy}(f)$.)\n",
    "\n",
    "Then:\n",
    "\n",
    "> **Theorem**: The unique empirically optimal classifier $f^\\ast$ is given by the **maximum *a posteriori* (MAP) classifier**:\n",
    ">\n",
    "> $$\n",
    "\\begin{eqnarray*}\n",
    "    f^\\ast(x) & = & \\underset{k}{\\operatorname{argmax}} \\operatorname{Pr}(L = k \\mid O = x) \\\\\n",
    "        & = & \\underset{k}{\\operatorname{argmax}} \\operatorname{Pr}(O = x \\mid L = k)\\,\\operatorname{Pr}(L = k)\n",
    "\\end{eqnarray*}\n",
    "$$\n",
    "\n",
    "*N.B.*: This classifier is not possible to obtain in practice, because it requires knowing the true distribution of the data, which we don't ever have. However, many methods—for example, **Naïve Bayes**—attempt to approximate it by making certain assumptions."
   ]
  },
  {
   "cell_type": "markdown",
   "id": "93d0eca3-ae26-4ad2-8523-09c3145676dd",
   "metadata": {},
   "source": [
    "---"
   ]
  },
  {
   "cell_type": "markdown",
   "id": "c182fa8a-33c6-46bc-a223-fe12ab1209ca",
   "metadata": {},
   "source": [
    "# Solutions"
   ]
  },
  {
   "cell_type": "markdown",
   "id": "0b56c68e-b102-41bd-8803-28654cc0488c",
   "metadata": {},
   "source": [
    "## Parameters"
   ]
  },
  {
   "cell_type": "code",
   "execution_count": 1,
   "id": "60becede-b385-44bf-97b9-156cc0db8587",
   "metadata": {},
   "outputs": [],
   "source": [
    "# Probability of A and B independently firing\n",
    "pA = 0.1\n",
    "pB = 0.4\n",
    "\n",
    "# Conditional probabilities for C\n",
    "# Here I'm encoding them as a `dict` whose keys are tuples of the form (A, B)\n",
    "pC_cond = {\n",
    "    (False, False): 0.,\n",
    "    (True, False): 0.5,\n",
    "    (False, True): 0.2,\n",
    "    (True, True): 1.\n",
    "}"
   ]
  },
  {
   "cell_type": "code",
   "execution_count": 2,
   "id": "f168e0e6-6af1-408c-bf7e-fae59ba08fa8",
   "metadata": {},
   "outputs": [],
   "source": [
    "theoretical_results = dict()"
   ]
  },
  {
   "cell_type": "markdown",
   "id": "fa882d19-a2b4-4ae6-b495-39d262981672",
   "metadata": {},
   "source": [
    "## Problem 1"
   ]
  },
  {
   "cell_type": "markdown",
   "id": "86eb1eb5-ced2-4eee-8301-99e6b0d8e164",
   "metadata": {},
   "source": [
    "> Suppose you have three neurons, A, B and C. A and B fire independently, but both are connected to C. The probability that A fires in a second is 0.1. The probability that B fires in a second is 0.4. If only A (e.g. A but not B) fires the probability that C will fire is 0.5. If only B fires the probability the C fires is 0.2. If both A and B fire, the probability that C fires is 1. C only fires when it receives a spike from A or B. For the questions below, calculate the probabilities for a single second."
   ]
  },
  {
   "cell_type": "markdown",
   "id": "91e7c452-e3bc-45ec-ae59-e3475470e318",
   "metadata": {},
   "source": [
    "Let $A$, $B$, and $C$ denote the sets of outcomes in which A fires, B fires, or C fires, respectively.\n",
    "\n",
    "So, the problem tells us directly that\n",
    "\n",
    "$$\n",
    "\\begin{eqnarray*}\n",
    "    \\operatorname{Pr}(A) & = & 0.1 \\\\\n",
    "    \\operatorname{Pr}(B) & = & 0.4\n",
    "\\end{eqnarray*}\n",
    "$$\n",
    "\n",
    ">  If only A (e.g. A but not B) fires the probability that C will fire is 0.5.\n",
    "\n",
    "This tells us that\n",
    "\n",
    "$$\n",
    "\\begin{eqnarray*}\n",
    "    \\operatorname{Pr}(C \\mid A \\cap B^c) & = & 0.5\n",
    "\\end{eqnarray*}\n",
    "$$\n",
    "\n",
    "Similarly, we may deduce that\n",
    "\n",
    "$$\n",
    "\\begin{eqnarray*}\n",
    "    \\operatorname{Pr}(C \\mid A^c \\cap B) & = & 0.2 \\\\\n",
    "    \\operatorname{Pr}(C \\mid A \\cap B) & = & 1 \\\\\n",
    "    \\operatorname{Pr}(C \\mid A^c \\cap B^c) & = & 0 \\\\\n",
    "\\end{eqnarray*}\n",
    "$$"
   ]
  },
  {
   "cell_type": "markdown",
   "id": "d175431b-9e9a-47c6-9c58-ec0d1e273ddb",
   "metadata": {},
   "source": [
    "### 1a\n",
    "\n",
    "> If you observe a spike from C, what is the probability that A fired?"
   ]
  },
  {
   "cell_type": "markdown",
   "id": "0608eebb-d157-4390-ac01-fbbb1f922f06",
   "metadata": {},
   "source": [
    "The question is asking us to find\n",
    "\n",
    "$$ \\operatorname{Pr}(A \\mid C) $$\n",
    "\n",
    "Given what we know, we may compute this using Bayes' rule:\n",
    "\n",
    "$$ \\operatorname{Pr}(A \\mid C) = \\frac{\\operatorname{Pr}(C \\mid A)\\,\\operatorname{Pr}(A)}{\\operatorname{Pr}(C)} $$\n",
    "\n",
    "Thus, we will need to deduce $\\operatorname{Pr}(C)$ and $\\operatorname{Pr}(C \\mid A)$."
   ]
  },
  {
   "cell_type": "markdown",
   "id": "7dc1f1b7-2e73-4ed8-8148-54002a871c9e",
   "metadata": {},
   "source": [
    "#### $\\operatorname{Pr}(C)$\n",
    "\n",
    "The four sets $A \\cap B$, $A \\cap B^c$, $A^c \\cap B$, and $A^c \\cap B^c$ form a **partition** of the sample space, because they cover the entire sample space and are disjoint (do not overlap). Therefore, we can use the **law of total probability** to find $\\operatorname{Pr}(C)$ by weighting the contributions from these four sets:\n",
    "\n",
    "$$\n",
    "\\begin{eqnarray*}\n",
    "    \\operatorname{Pr}(C) & = & \\operatorname{Pr}(C \\mid A \\cap B)\\,\\operatorname{Pr}(A \\cap B) \\\\\n",
    "        & & + \\operatorname{Pr}(C \\mid A \\cap B^c)\\,\\operatorname{Pr}(A \\cap B^c) \\\\\n",
    "        & & + \\operatorname{Pr}(C \\mid A^c \\cap B)\\,\\operatorname{Pr}(A^c \\cap B) \\\\\n",
    "        & & + \\operatorname{Pr}(C \\mid A^c \\cap B^c)\\,\\operatorname{Pr}(A^c \\cap B^c) \\\\\n",
    "\\end{eqnarray*}\n",
    "$$\n",
    "\n",
    "Note that, because $A$ and $B$ are independent, all of the factors on the right side are directly computable as products, because, for example,\n",
    "\n",
    "$$ \\operatorname{Pr}(A \\cap B) = \\operatorname{Pr}(A)\\,\\operatorname{Pr}(B) $$\n",
    "\n",
    "and\n",
    "\n",
    "$$ \\operatorname{Pr}(A^c) = 1 - \\operatorname{Pr}(A) $$\n",
    "\n",
    "Thus, plugging in values, we have:\n",
    "\n",
    "$$\n",
    "\\begin{eqnarray*}\n",
    "    \\operatorname{Pr}(C) & = & (1)\\,(0.1)\\,(0.4) \\\\\n",
    "        & & + (0.5)\\,(0.1)\\,(1 - 0.4) \\\\\n",
    "        & & + (0.2)\\,(1 - 0.1)\\,(0.4) \\\\\n",
    "        & & + (0)\\,(1 - 0.1)\\,(1 - 0.4) \\\\\n",
    "        & = & \\boxed{0.142}\n",
    "\\end{eqnarray*}\n",
    "$$"
   ]
  },
  {
   "cell_type": "code",
   "execution_count": 3,
   "id": "77cdbf92-bbbe-404d-a786-379b957d1307",
   "metadata": {},
   "outputs": [],
   "source": [
    "pC = ( pC_cond[(True, True)] * pA * pB\n",
    "       + pC_cond[(True, False)] * pA * (1 - pB)\n",
    "       + pC_cond[(False, True)] * (1 - pA) * pB\n",
    "       + pC_cond[(False, False)] * (1 - pA) * (1 - pB) )"
   ]
  },
  {
   "cell_type": "code",
   "execution_count": 4,
   "id": "47559a85-a4f4-47d1-9470-62668ddaba86",
   "metadata": {},
   "outputs": [
    {
     "data": {
      "text/plain": [
       "0.14200000000000002"
      ]
     },
     "execution_count": 4,
     "metadata": {},
     "output_type": "execute_result"
    }
   ],
   "source": [
    "pC"
   ]
  },
  {
   "cell_type": "markdown",
   "id": "53db1445-3816-497b-aba3-b8b4533dbfec",
   "metadata": {},
   "source": [
    "#### $\\operatorname{Pr}(C \\mid A)$\n",
    "\n",
    "The definition of conditional probability is made exactly such that $\\operatorname{Pr}(\\bullet \\mid X) = \\operatorname{Pr}_X(\\bullet)$ is itself a probability measure in its first argument: it is precisely the *restriction* of $\\operatorname{Pr}$ to $X$, treating $X$ as the new sample space.\n",
    "\n",
    "Making use of this, we can once again use the law of total probability, but this time using the *conditional* probability $\\operatorname{Pr}(\\bullet \\mid A) = \\operatorname{Pr}_A(\\bullet)$; that is, treating $\\operatorname{Pr}_A$, the probability measure *restricted to $A$* as a probability measure in its own right, we may note that, since $B$ and $B^c$ form a partition,\n",
    "\n",
    "$$\n",
    "\\begin{eqnarray*}\n",
    "    \\operatorname{Pr}_A(C) & = & \\operatorname{Pr}_A(C \\mid B)\\,\\operatorname{Pr}_A(B) \\\\\n",
    "        & & + \\operatorname{Pr}_A(C \\mid B^c)\\,\\operatorname{Pr}_A(B^c)\n",
    "\\end{eqnarray*}\n",
    "$$\n",
    "\n",
    "where by definition $\\operatorname{Pr}_A(C \\mid B) = \\operatorname{Pr}(C \\mid A \\cap B)$. This then expands to\n",
    "\n",
    "$$\n",
    "\\begin{eqnarray*}\n",
    "    \\operatorname{Pr}(C \\mid A) & = & \\operatorname{Pr}(C \\mid A \\cap B)\\,\\operatorname{Pr}(B \\mid A) \\\\\n",
    "        & & + \\operatorname{Pr}(C \\mid A \\cap B^c)\\,\\operatorname{Pr}(B^c \\mid A)\n",
    "\\end{eqnarray*}\n",
    "$$\n",
    "\n",
    "Since $B$ and $B^c$ are independent of $A$, knowledge of $A$ doesn't change $\\operatorname{Pr}$ of either of these two; thus,\n",
    "\n",
    "$$\n",
    "\\begin{eqnarray*}\n",
    "    \\operatorname{Pr}(C \\mid A) & = & \\operatorname{Pr}(C \\mid A \\cap B)\\,\\operatorname{Pr}(B) \\\\\n",
    "        & & + \\operatorname{Pr}(C \\mid A \\cap B^c)\\,\\operatorname{Pr}(B^c)\n",
    "\\end{eqnarray*}\n",
    "$$\n",
    "\n",
    "Plugging in values, we have that\n",
    "\n",
    "$$\n",
    "\\begin{eqnarray*}\n",
    "    \\operatorname{Pr}(C \\mid A) & = & (1)\\,(0.4) \\\\\n",
    "        & & + (0.5)\\,(1 - 0.4) \\\\\n",
    "        & = & \\boxed{0.7}\n",
    "\\end{eqnarray*}\n",
    "$$"
   ]
  },
  {
   "cell_type": "code",
   "execution_count": 5,
   "id": "91d5a6dd-f8c7-45b5-a428-c4ab4a64ab45",
   "metadata": {},
   "outputs": [],
   "source": [
    "pC_A = ( pC_cond[(True, True)] * pB\n",
    "         + pC_cond[(True, False)] * (1 - pB) )"
   ]
  },
  {
   "cell_type": "code",
   "execution_count": 6,
   "id": "f45332c4-e6d0-4d8c-9b88-eef5b22af23a",
   "metadata": {},
   "outputs": [
    {
     "data": {
      "text/plain": [
       "0.7"
      ]
     },
     "execution_count": 6,
     "metadata": {},
     "output_type": "execute_result"
    }
   ],
   "source": [
    "pC_A"
   ]
  },
  {
   "cell_type": "markdown",
   "id": "f66c5e1d-44d5-4a23-9008-73b63ad1c3a3",
   "metadata": {},
   "source": [
    "#### Back to the main result"
   ]
  },
  {
   "cell_type": "markdown",
   "id": "42e81887-df62-46aa-a79b-32f12529cdc0",
   "metadata": {},
   "source": [
    "From Bayes' rule, we had that\n",
    "\n",
    "$$ \\operatorname{Pr}(A \\mid C) = \\frac{\\operatorname{Pr}(C \\mid A)\\,\\operatorname{Pr}(A)}{\\operatorname{Pr}(C)} $$\n",
    "\n",
    "Plugging in values, this gives us that\n",
    "\n",
    "$$\n",
    "\\begin{eqnarray*}\n",
    "\\operatorname{Pr}(A \\mid C) & = & \\frac{(0.7)\\,(0.1)}{0.142} \\\\\n",
    "    & \\approx & \\boxed{0.493}\n",
    "\\end{eqnarray*}\n",
    "$$"
   ]
  },
  {
   "cell_type": "code",
   "execution_count": 7,
   "id": "8745f1a5-5bf9-4fea-8d7a-b2ae9fc51f29",
   "metadata": {},
   "outputs": [],
   "source": [
    "theoretical_results['1a'] = (pC_A * pA) / pC"
   ]
  },
  {
   "cell_type": "code",
   "execution_count": 8,
   "id": "4cae5aaf-a335-4440-a6af-ed853f717166",
   "metadata": {},
   "outputs": [
    {
     "data": {
      "text/plain": [
       "0.49295774647887314"
      ]
     },
     "execution_count": 8,
     "metadata": {},
     "output_type": "execute_result"
    }
   ],
   "source": [
    "theoretical_results['1a']"
   ]
  },
  {
   "cell_type": "markdown",
   "id": "4a8d3751-de62-4432-bc23-200f675ce8ef",
   "metadata": {},
   "source": [
    "### 1b\n",
    "\n",
    "> If you observe a spike from C, what is the probability that B fired?"
   ]
  },
  {
   "cell_type": "markdown",
   "id": "20cd9335-79ea-4980-8a93-e45b10504848",
   "metadata": {},
   "source": [
    "Similarly, we now seec $\\operatorname{Pr}(B \\mid C)$, which we know from Bayes' rule is\n",
    "\n",
    "$$ \\operatorname{Pr}(B \\mid C) = \\frac{\\operatorname{Pr}(C \\mid B)\\,\\operatorname{Pr}(B)}{\\operatorname{Pr}(C)} $$\n",
    "\n",
    "Once again using our conditional law of total probability, we note that\n",
    "\n",
    "$$\n",
    "\\begin{eqnarray*}\n",
    "    \\operatorname{Pr}(C \\mid B) & = & \\operatorname{Pr}(C \\mid B \\cap A)\\,\\operatorname{Pr}(A \\mid B) \\\\\n",
    "        & & + \\operatorname{Pr}(C \\mid B \\cap A^c)\\,\\operatorname{Pr}(A^c \\mid B)\n",
    "\\end{eqnarray*}\n",
    "$$\n",
    "\n",
    "Again, we may drop the conditioning from the factors on the right, since $A$ and $B$ are independent. So, numerically, we have\n",
    "\n",
    "$$\n",
    "\\begin{eqnarray*}\n",
    "    \\operatorname{Pr}(C \\mid B) & = & (1)\\,(0.1) \\\\\n",
    "        & & + (0.2)\\,(1 - 0.1) \\\\\n",
    "        & = & \\boxed{0.28}\n",
    "\\end{eqnarray*}\n",
    "$$"
   ]
  },
  {
   "cell_type": "code",
   "execution_count": 9,
   "id": "c926e6e6-81b0-4ffd-8a8d-6afa5c760a04",
   "metadata": {},
   "outputs": [],
   "source": [
    "pC_B = pC_A = ( pC_cond[(True, True)] * pA\n",
    "         + pC_cond[(False, True)] * (1 - pA) )"
   ]
  },
  {
   "cell_type": "code",
   "execution_count": 10,
   "id": "4264fc0b-bfce-485e-8be8-b4a0b29af834",
   "metadata": {},
   "outputs": [
    {
     "data": {
      "text/plain": [
       "0.28"
      ]
     },
     "execution_count": 10,
     "metadata": {},
     "output_type": "execute_result"
    }
   ],
   "source": [
    "pC_B"
   ]
  },
  {
   "cell_type": "markdown",
   "id": "82264626-3c2f-446f-b05d-886119a34d05",
   "metadata": {},
   "source": [
    "So, plugging in values to Bayes' rule, we have that\n",
    "\n",
    "$$\n",
    "\\begin{eqnarray*}\n",
    "    \\operatorname{Pr}(B \\mid C) & = & \\frac{(0.28)\\,(0.4)}{(0.142)} \\\\\n",
    "        & \\approx & \\boxed{0.789}\n",
    "\\end{eqnarray*}\n",
    "$$"
   ]
  },
  {
   "cell_type": "code",
   "execution_count": 11,
   "id": "e906d6e7-93b2-4648-98bf-d81cdeadf10d",
   "metadata": {},
   "outputs": [],
   "source": [
    "theoretical_results['1b'] = (pC_B * pB) / pC"
   ]
  },
  {
   "cell_type": "code",
   "execution_count": 12,
   "id": "744363b5-a2ae-4afd-a6be-7bf4824373df",
   "metadata": {},
   "outputs": [
    {
     "data": {
      "text/plain": [
       "0.7887323943661972"
      ]
     },
     "execution_count": 12,
     "metadata": {},
     "output_type": "execute_result"
    }
   ],
   "source": [
    "theoretical_results['1b']"
   ]
  },
  {
   "cell_type": "markdown",
   "id": "2ab0822d-ab72-48a4-8d8e-75877341811e",
   "metadata": {},
   "source": [
    "### 1c\n",
    "\n",
    "> If you observe a spike from C, what is the probability that both A and B fired?"
   ]
  },
  {
   "cell_type": "markdown",
   "id": "dd4c4f68-dd37-48bd-8ad8-61d7c877dfc8",
   "metadata": {},
   "source": [
    "The problem is asking us for\n",
    "\n",
    "$$ \\operatorname{Pr}(A \\cap B \\mid C) $$\n",
    "\n",
    "Again, using Bayes' rule, we find that this is\n",
    "\n",
    "$$ \\operatorname{Pr}(A \\cap B \\mid C) = \\frac{\\operatorname{Pr}(C \\mid A \\cap B)\\,\\operatorname{Pr}(A \\cap B)}{\\operatorname{Pr}(C)} $$\n",
    "\n",
    "Using independence of $A$ and $B$, we have all the quantities we need. Plugging these in, we have\n",
    "\n",
    "$$\n",
    "\\begin{eqnarray*}\n",
    "    \\operatorname{Pr}(A \\cap B \\mid C) & = & \\frac{(1)\\,(0.1)\\,(0.4)}{0.142} \\\\\n",
    "        & \\approx & \\boxed{0.282}\n",
    "\\end{eqnarray*}\n",
    "$$"
   ]
  },
  {
   "cell_type": "code",
   "execution_count": 13,
   "id": "915f3682-2b7e-4059-8394-e5bf3204ff5e",
   "metadata": {},
   "outputs": [],
   "source": [
    "theoretical_results['1c'] = (pC_cond[(True, True)] * pA * pB) / pC"
   ]
  },
  {
   "cell_type": "code",
   "execution_count": 14,
   "id": "300e0bc9-d4f8-418a-9488-bf3044d4bbac",
   "metadata": {},
   "outputs": [
    {
     "data": {
      "text/plain": [
       "0.28169014084507044"
      ]
     },
     "execution_count": 14,
     "metadata": {},
     "output_type": "execute_result"
    }
   ],
   "source": [
    "theoretical_results['1c']"
   ]
  },
  {
   "cell_type": "markdown",
   "id": "8ee967a8-58c9-4268-8d80-c32a06d37bce",
   "metadata": {},
   "source": [
    "### 1d\n",
    "\n",
    "> If you observe a spike from C, what is the probability that A fired but B did not fire?"
   ]
  },
  {
   "cell_type": "markdown",
   "id": "fb9faf97-8ed4-47bb-8a40-89ee25444bdd",
   "metadata": {},
   "source": [
    "Similarly,\n",
    "\n",
    "$$\n",
    "\\begin{eqnarray*}\n",
    "    \\operatorname{Pr}(A \\cap B^c \\mid C) & = & \\frac{\\operatorname{Pr}(C \\mid A \\cap B^c)\\,\\operatorname{Pr}(A \\cap B^c)}{\\operatorname{Pr}(C)} \\\\\n",
    "        & = & \\frac{(0.5)\\,(0.1)\\,(1 - 0.4)}{0.142} \\\\\n",
    "        & \\approx & \\boxed{0.211}\n",
    "\\end{eqnarray*}\n",
    "$$"
   ]
  },
  {
   "cell_type": "code",
   "execution_count": 15,
   "id": "d4d69259-b0e1-4b4f-bf8b-e22c0cd1f2a5",
   "metadata": {},
   "outputs": [],
   "source": [
    "theoretical_results['1d'] = (pC_cond[(True, False)] * pA * (1 - pB)) / pC"
   ]
  },
  {
   "cell_type": "code",
   "execution_count": 16,
   "id": "36e0b5b2-8860-4040-8747-01910229b05e",
   "metadata": {},
   "outputs": [
    {
     "data": {
      "text/plain": [
       "0.21126760563380279"
      ]
     },
     "execution_count": 16,
     "metadata": {},
     "output_type": "execute_result"
    }
   ],
   "source": [
    "theoretical_results['1d']"
   ]
  },
  {
   "cell_type": "markdown",
   "id": "2fedb3e5-20f1-438d-a7b2-0178b96fff29",
   "metadata": {},
   "source": [
    "### 1e\n",
    "\n",
    "> If you observe a spike from C, what is the probability that B fired but A did not fire?"
   ]
  },
  {
   "cell_type": "markdown",
   "id": "74c62f5f-2965-4007-a601-0ba77a231a7d",
   "metadata": {},
   "source": [
    "Similarly,\n",
    "\n",
    "$$\n",
    "\\begin{eqnarray*}\n",
    "    \\operatorname{Pr}(A^c \\cap B \\mid C) & = & \\frac{\\operatorname{Pr}(C \\mid A^c \\cap B)\\,\\operatorname{Pr}(A^c \\cap B)}{\\operatorname{Pr}(C)} \\\\\n",
    "        & = & \\frac{(0.2)\\,(1 - 0.1)\\,(0.4)}{0.142} \\\\\n",
    "        & \\approx & \\boxed{0.507}\n",
    "\\end{eqnarray*}\n",
    "$$"
   ]
  },
  {
   "cell_type": "code",
   "execution_count": 17,
   "id": "a7b37124-798c-4987-b6d2-9e561687267b",
   "metadata": {},
   "outputs": [],
   "source": [
    "theoretical_results['1e'] = (pC_cond[(False, True)] * (1 - pA) * pB) / pC"
   ]
  },
  {
   "cell_type": "code",
   "execution_count": 18,
   "id": "b69245a9-1f12-4deb-863c-d1c81d5704d1",
   "metadata": {},
   "outputs": [
    {
     "data": {
      "text/plain": [
       "0.5070422535211268"
      ]
     },
     "execution_count": 18,
     "metadata": {},
     "output_type": "execute_result"
    }
   ],
   "source": [
    "theoretical_results['1e']"
   ]
  },
  {
   "cell_type": "markdown",
   "id": "ceb7183a-ff6c-4969-86ed-78c1d4c27bf1",
   "metadata": {},
   "source": [
    "---"
   ]
  },
  {
   "cell_type": "code",
   "execution_count": 19,
   "id": "dca67117-7e1f-4f4d-96c2-02f33bfc4f6f",
   "metadata": {},
   "outputs": [],
   "source": [
    "import os\n",
    "\n",
    "import numpy as np\n",
    "import pandas as pd\n",
    "import matplotlib.pyplot as plt\n",
    "\n",
    "# tqdm lets you make really easy progress bars!\n",
    "from tqdm import tqdm\n",
    "\n",
    "# Global helper module\n",
    "import ns248 as ns"
   ]
  },
  {
   "cell_type": "code",
   "execution_count": 20,
   "id": "8ffc44b1-01b5-4223-9b19-993ff720035a",
   "metadata": {},
   "outputs": [
    {
     "name": "stdout",
     "output_type": "stream",
     "text": [
      "Help on module ns248:\n",
      "\n",
      "NAME\n",
      "    ns248 - General helper functions for UCSF NS248\n",
      "\n",
      "FUNCTIONS\n",
      "    append_by_keys(acc, d)\n",
      "        Append a dict of values `d` onto an accumulator dict `acc` *by reference*\n",
      "        \n",
      "        `acc` is of form {k: [v0, ... vn]}, `d` is of form {k: vNew}\n",
      "        Thus function returns a `dict` of the form {k: [v0, ... vn, vNew]}\n",
      "    \n",
      "    centers(bin_edges)\n",
      "        Given an edge list, return an array with the center of each bin\n",
      "    \n",
      "    edges(bin_edges)\n",
      "        Given an edge list, return an iterator over the (left, right) edges of each bin\n",
      "    \n",
      "    pr(xs, given=None)\n",
      "        The probability that `xs` is true\n",
      "        \n",
      "        If `given` is not None, condition on `given`.\n",
      "    \n",
      "    random_fire(p)\n",
      "        A r.v. that is True with probability `p`\n",
      "\n",
      "FILE\n",
      "    /Users/max/git/ns248-winter23/ps-1/ns248.py\n",
      "\n",
      "\n"
     ]
    }
   ],
   "source": [
    "# Show help, because we wrote documentation!\n",
    "help( ns )"
   ]
  },
  {
   "cell_type": "markdown",
   "id": "8083a0f9-44c8-4249-ab70-1b0320a46a09",
   "metadata": {},
   "source": [
    "## Problem 2"
   ]
  },
  {
   "cell_type": "markdown",
   "id": "2076c85d-1c20-44de-93d6-51869b8bee94",
   "metadata": {},
   "source": [
    "> **Using python (or Matlab), code up a simulation of the network from problem 1 and run the simulation 10000 times, keeping track of which neurons fire during each run.**\n",
    "> \n",
    "> > Verify your answers to problem 1 with the simulation. (The easiest way to do this is to `import numpy as np` and then use the `np.random.random_sample()` function to return a random number between 0 and 1 and use a sequence of calls to `np.random.random_sample()` to determine whether neurons A, B and C are active in each run. This can be done in vectorized form rather than in a for loop, but a for loop is fine. This can also be done with a single call to `np.random.random_sample()`, which will be much faster.)\n",
    "> \n",
    "> > Determine how the similarity in answers between 1a. and the simulation for 1a depends on the number of simulation runs. To do so, run the simulation 1, 10, 100, 1000, 10000 and 100000 times and plot the error (the difference between the simulated and calculated values) for each set of runs."
   ]
  },
  {
   "cell_type": "code",
   "execution_count": 21,
   "id": "665e3368-8ff7-4131-a223-c44b0dd4fd1a",
   "metadata": {},
   "outputs": [],
   "source": [
    "# Import problem-specific helper module\n",
    "import ps1prob2 as prob2"
   ]
  },
  {
   "cell_type": "code",
   "execution_count": 22,
   "id": "89b792c2-a9e3-4f90-9aba-c0ee6b7b14c9",
   "metadata": {},
   "outputs": [
    {
     "name": "stdout",
     "output_type": "stream",
     "text": [
      "Help on module ps1prob2:\n",
      "\n",
      "NAME\n",
      "    ps1prob2 - Helper functions for Problem Set 1 of UCSF NS248\n",
      "\n",
      "FUNCTIONS\n",
      "    evaluate(data)\n",
      "        Evaluate Problem 2 simulation results to compute the values for each question\n",
      "    \n",
      "    plot(ax, results, quantiles=None, theoretical=None, style='single')\n",
      "        Plot results for one part of Problem 2\n",
      "        \n",
      "        Results is a `dict` of the form {n: [r0, ... rn]} where `n` is the number\n",
      "        of simulation runs used, and each `ri` is the result for one batch\n",
      "        \n",
      "        `style` is either 'single' for one simulation (default), or 'mean' for mean across simulations\n",
      "    \n",
      "    simulate_loop(n, pA=0.1, pB=0.4, pC_cond={(False, False): 0.0, (True, False): 0.5, (False, True): 0.2, (True, True): 1.0})\n",
      "        Simulate `n` runs of Problem 2 with the given params (loop implementation)\n",
      "    \n",
      "    simulate_vectorized(n, pA=0.1, pB=0.4, pC_cond={(False, False): 0.0, (True, False): 0.5, (False, True): 0.2, (True, True): 1.0})\n",
      "        Simulate `n` runs of Problem 2 with the given params (vector implementation)\n",
      "        \n",
      "        pC_cond is encoded as a `dict` keyed as (A_fired?, B_fired?) -> pC\n",
      "\n",
      "DATA\n",
      "    pA_default = 0.1\n",
      "    pB_default = 0.4\n",
      "    pC_cond_default = {(False, False): 0.0, (False, True): 0.2, (True, Fal...\n",
      "    problem_keys = ['1a', '1b', '1c', '1d', '1e']\n",
      "    problem_names = {'1a': r'Problem 1a: $\\operatorname{Pr}(A\\mid C)$', '1...\n",
      "    simulators = {'loop': <function simulate_loop>, 'vectorized': <functio...\n",
      "\n",
      "FILE\n",
      "    /Users/max/git/ns248-winter23/ps-1/ps1prob2.py\n",
      "\n",
      "\n"
     ]
    }
   ],
   "source": [
    "# Show help, because we wrote documentation!\n",
    "help( prob2 )"
   ]
  },
  {
   "cell_type": "markdown",
   "id": "e05f7fe8-e255-4807-9be2-606ce02abe17",
   "metadata": {},
   "source": [
    "#### Parameters"
   ]
  },
  {
   "cell_type": "code",
   "execution_count": 23,
   "id": "f4601224-cf97-4c0a-a0d2-c46ae44d7e28",
   "metadata": {},
   "outputs": [],
   "source": [
    "# These are the numbers of runs per simulation we're asked to do\n",
    "ns_per_sim = [ 10 ** d\n",
    "               for d in range( 6 ) ]\n",
    "\n",
    "# We'll do this many simulations for each level in order to get an idea of the dispersion\n",
    "n_sims = 100\n",
    "\n",
    "# Give a logical order for the simulation functions, since `dict` keys aren't sorted\n",
    "simulator_display_order = list( sorted( prob2.simulators.keys() ) )"
   ]
  },
  {
   "cell_type": "markdown",
   "id": "3c134dfa-ad21-4ed7-a209-ced42b708851",
   "metadata": {},
   "source": [
    "#### Run"
   ]
  },
  {
   "cell_type": "code",
   "execution_count": 24,
   "id": "67568aec-9a6e-42bb-9133-40eab81ceaf5",
   "metadata": {},
   "outputs": [
    {
     "name": "stdout",
     "output_type": "stream",
     "text": [
      "** Simulation method: loop\n"
     ]
    },
    {
     "name": "stderr",
     "output_type": "stream",
     "text": [
      "     1 per simulation: 100%|██████████████████████████████████████████████████████████████████████████████| 100/100 [00:00<00:00, 12414.69it/s]\n",
      "    10 per simulation: 100%|███████████████████████████████████████████████████████████████████████████████| 100/100 [00:00<00:00, 4594.74it/s]\n",
      "   100 per simulation: 100%|███████████████████████████████████████████████████████████████████████████████| 100/100 [00:00<00:00, 1204.20it/s]\n",
      "  1000 per simulation: 100%|████████████████████████████████████████████████████████████████████████████████| 100/100 [00:00<00:00, 142.44it/s]\n",
      " 10000 per simulation: 100%|█████████████████████████████████████████████████████████████████████████████████| 100/100 [00:07<00:00, 13.82it/s]\n",
      "100000 per simulation: 100%|█████████████████████████████████████████████████████████████████████████████████| 100/100 [01:07<00:00,  1.48it/s]\n"
     ]
    },
    {
     "name": "stdout",
     "output_type": "stream",
     "text": [
      "\n",
      "** Simulation method: vectorized\n"
     ]
    },
    {
     "name": "stderr",
     "output_type": "stream",
     "text": [
      "     1 per simulation: 100%|██████████████████████████████████████████████████████████████████████████████| 100/100 [00:00<00:00, 13561.07it/s]\n",
      "    10 per simulation: 100%|██████████████████████████████████████████████████████████████████████████████| 100/100 [00:00<00:00, 11666.08it/s]\n",
      "   100 per simulation: 100%|███████████████████████████████████████████████████████████████████████████████| 100/100 [00:00<00:00, 9765.78it/s]\n",
      "  1000 per simulation: 100%|███████████████████████████████████████████████████████████████████████████████| 100/100 [00:00<00:00, 6480.89it/s]\n",
      " 10000 per simulation: 100%|███████████████████████████████████████████████████████████████████████████████| 100/100 [00:00<00:00, 1220.79it/s]\n",
      "100000 per simulation: 100%|████████████████████████████████████████████████████████████████████████████████| 100/100 [00:00<00:00, 143.60it/s]"
     ]
    },
    {
     "name": "stdout",
     "output_type": "stream",
     "text": [
      "\n"
     ]
    },
    {
     "name": "stderr",
     "output_type": "stream",
     "text": [
      "\n"
     ]
    }
   ],
   "source": [
    "results_all = dict()\n",
    "\n",
    "# Notice that by modularizing the code this way, there is a natural way\n",
    "# to parallelize these simulations: we can pass the innermost code, with one set\n",
    "# of parameters from the enclosing loops to each thread. These run relatively fast,\n",
    "# but if they didn't, this would allow splitting the load over cores or some other\n",
    "# distributed system more easily.\n",
    "\n",
    "for sim_key, sim_function in prob2.simulators.items():\n",
    "    \n",
    "    print( f'** Simulation method: {sim_key}' )\n",
    "    \n",
    "    results_cur_sim_function = dict()\n",
    "    \n",
    "    for n_per_sim in ns_per_sim:\n",
    "\n",
    "        results_cur_n = None\n",
    "\n",
    "        for i_sim in tqdm( range( n_sims ),\n",
    "                           desc = f'{n_per_sim:6d} per simulation' ):\n",
    "\n",
    "            # Recall that `sim_function` is actually a function, even though\n",
    "            # we stored it in a list!\n",
    "            cur_data = sim_function( n_per_sim )\n",
    "            cur_results = prob2.evaluate( cur_data )\n",
    "            \n",
    "            # This function builds up a `dict` of lists by appending individual\n",
    "            # `dict`s one by one\n",
    "            results_cur_n = ns.append_by_keys( results_cur_n, cur_results )\n",
    "        \n",
    "        results_cur_sim_function[n_per_sim] = results_cur_n\n",
    "    \n",
    "    results_all[sim_key] = results_cur_sim_function\n",
    "    \n",
    "    print()"
   ]
  },
  {
   "cell_type": "markdown",
   "id": "fac37c52-9a8d-47d3-8742-fe356eb2d5ef",
   "metadata": {},
   "source": [
    "#### Plot"
   ]
  },
  {
   "cell_type": "code",
   "execution_count": 25,
   "id": "3be5e381-be7f-4e71-a4b3-d6c5eb3fb78f",
   "metadata": {},
   "outputs": [
    {
     "data": {
      "image/png": "[encoded data removed]",
      "text/plain": [
       "<Figure size 800x1400 with 10 Axes>"
      ]
     },
     "metadata": {},
     "output_type": "display_data"
    }
   ],
   "source": [
    "# Create a figure and axes objects that we'll plot inside of\n",
    "fig, axs = plt.subplots( len( prob2.problem_keys ), len( prob2.simulators ),\n",
    "                         figsize = (8, 14),\n",
    "                         sharex = True,\n",
    "                         sharey = True )\n",
    "\n",
    "for i_problem, problem in enumerate( prob2.problem_keys ):\n",
    "    \n",
    "    for i_sim, sim_kind in enumerate( simulator_display_order ):\n",
    "    \n",
    "        # The results are in a nested dictionary with keys in order\n",
    "        #     `sim`, `n`, problem\n",
    "        # Let's pull out all the results for the given sim and problem\n",
    "        # into its own `dict`\n",
    "        results_reformatted = { n: results_all[sim_kind][n][problem]\n",
    "                                for n in ns_per_sim }\n",
    "\n",
    "        # Pick out the axes we're using for this plot in the larger figure\n",
    "        cur_ax = axs[i_problem, i_sim]\n",
    "        prob2.plot( cur_ax, results_reformatted,\n",
    "                    theoretical = theoretical_results[problem] )\n",
    "        \n",
    "        # Add the problem title for the first simulation for each problem\n",
    "        if i_sim == 0:\n",
    "            cur_ax.set_title( f'{prob2.problem_names[problem]} - {sim_kind}' )\n",
    "        else:\n",
    "            cur_ax.set_title( f'{sim_kind}' )\n",
    "\n",
    "#\n",
    "# Make the plots a little prettier with axis labels\n",
    "#\n",
    "\n",
    "top_left_ax = axs[0, 0]\n",
    "top_left_ax.set_ylabel( 'Probability' )\n",
    "top_left_ax.legend( fontsize = 6 )\n",
    "            \n",
    "bottom_left_ax = axs[-1, 0]\n",
    "bottom_left_ax.set_xlabel( '# realizations per replicate' )\n",
    "bottom_left_ax.set_xticks( ns_per_sim )\n",
    "\n",
    "plt.show()"
   ]
  },
  {
   "cell_type": "markdown",
   "id": "74a7e4ed-5314-4a6e-a93f-f52eb2e66656",
   "metadata": {},
   "source": [
    "---"
   ]
  },
  {
   "cell_type": "markdown",
   "id": "95390c55-0450-489e-af8e-e9b6f1a981a5",
   "metadata": {},
   "source": [
    "## Problem 3"
   ]
  },
  {
   "cell_type": "code",
   "execution_count": 26,
   "id": "2d690a9b-3eff-493f-8368-e0c97940d0c0",
   "metadata": {},
   "outputs": [],
   "source": [
    "# Import problem-specific helper module\n",
    "import ps1prob3 as prob3"
   ]
  },
  {
   "cell_type": "code",
   "execution_count": 27,
   "id": "3f02ee4d-57ba-413b-b943-3456163995d7",
   "metadata": {},
   "outputs": [
    {
     "name": "stdout",
     "output_type": "stream",
     "text": [
      "Help on module ps1prob3:\n",
      "\n",
      "NAME\n",
      "    ps1prob3\n",
      "\n",
      "CLASSES\n",
      "    builtins.object\n",
      "        EmpiricalBayesClassifier\n",
      "    \n",
      "    class EmpiricalBayesClassifier(builtins.object)\n",
      "     |  EmpiricalBayesClassifier(prior=None, bin_width=None)\n",
      "     |  \n",
      "     |  Performs 1D classification by applying Bayes' rule to the empirical pmf\n",
      "     |  \n",
      "     |  Methods defined here:\n",
      "     |  \n",
      "     |  __init__(self, prior=None, bin_width=None)\n",
      "     |      Create an estimator for the given `prior` and `bin_width` for discretizing data\n",
      "     |  \n",
      "     |  fit(self, X=None, y=None, data=None, value_key=None, class_key=None)\n",
      "     |      Fit the estimator\n",
      "     |      \n",
      "     |      Uses either:\n",
      "     |      * `X`, `y` as arrays, or\n",
      "     |      * `data` as a `DataFrame`, with specified `value_key` and `class_key`\n",
      "     |  \n",
      "     |  predict(self, X)\n",
      "     |      Predict class probabilities based on values in `X`\n",
      "     |  \n",
      "     |  ----------------------------------------------------------------------\n",
      "     |  Data descriptors defined here:\n",
      "     |  \n",
      "     |  __dict__\n",
      "     |      dictionary for instance variables (if defined)\n",
      "     |  \n",
      "     |  __weakref__\n",
      "     |      list of weak references to the object (if defined)\n",
      "\n",
      "FUNCTIONS\n",
      "    bayes(pmf_data, prior=None)\n",
      "        Apply Bayes' rule to pmfs from `pmfs` with the given `prior` (defaultl: uniform)\n",
      "    \n",
      "    cdfs(data, xs, value_key='spikes', group_key='stimulus', groups=None)\n",
      "        Determine the cdfs of the `value_key` column of `data` evaluated at `xs, stratified by `group_key`\n",
      "    \n",
      "    parse_cdf_columns(pmf_data)\n",
      "        Use the `DataFrame` formatting from `cdfs` to determine which column is which\n",
      "    \n",
      "    parse_pmf_columns(pmf_data)\n",
      "        Use the `DataFrame` formatting from `pmfs` to determine which column is which\n",
      "    \n",
      "    parse_posterior_columns(pmf_data)\n",
      "        Use the `DataFrame` formatting from `bayes` to determine which column is which\n",
      "    \n",
      "    plot_cdfs(ax, cdf_data)\n",
      "        Plot the cdfs created as output from `cdfs` inside of `ax`\n",
      "    \n",
      "    plot_hists(ax, data, value_key='spikes', group_key='stimulus', bin_width=None, groups=None, alpha=None)\n",
      "        Plot histograms of the `value_key` column of `data` inside of `ax`, stratified by the categories in `group_key`\n",
      "        \n",
      "        If `bin_width` is not specified, use integral bins\n",
      "    \n",
      "    plot_pmfs(ax, pmf_data)\n",
      "        Plot the pmfs created as output from `pmfs` inside of `ax`\n",
      "    \n",
      "    plot_posterior(ax, posterior_data, alpha=None)\n",
      "        Plot the posterior distributions from `bayes` inside of `ax`\n",
      "    \n",
      "    pmfs(data, bin_width=None, value_key='spikes', group_key='stimulus', groups=None)\n",
      "        Determine the pmfs of the `value_key` column of `data`, stratified by `group_key`\n",
      "        \n",
      "        If `bin_width` is not specified, use integral values (the empirical, unbinned pmf)\n",
      "    \n",
      "    posterior_estimator_binned(posterior_data)\n",
      "        Use an empirical posterior from `bayes` to construct an estimator of the posterior using binning\n",
      "        \n",
      "        Output is a function f(x: float) -> dict, with the dict representing the distribution over labels\n",
      "    \n",
      "    uniform_prior(group_columns)\n",
      "        Return a uniform distribution over `group_columns`\n",
      "\n",
      "FILE\n",
      "    /Users/max/git/ns248-winter23/ps-1/ps1prob3.py\n",
      "\n",
      "\n"
     ]
    }
   ],
   "source": [
    "help( prob3 )"
   ]
  },
  {
   "cell_type": "markdown",
   "id": "1c133282-7acd-4d6b-a04b-f6b82d31613c",
   "metadata": {},
   "source": [
    "### Loading data"
   ]
  },
  {
   "cell_type": "markdown",
   "id": "ba59254a-6cab-478d-8261-f8d1e9a2f704",
   "metadata": {},
   "source": [
    "> Load the data from `PS1_Problem3_Data.txt`. There are two columns of data. The first is the stimulus condition (1 or 2) and the second is the number of spikes that a (simulated) neuron fired in response to that stimulus. There are 200 trials for each stimulus, and the stimuli are presented in an interleaved fashion."
   ]
  },
  {
   "cell_type": "markdown",
   "id": "af72c894-f5a1-4006-9c02-9459e314e457",
   "metadata": {},
   "source": [
    "*N.B.*: Here I'm going to demo using `pandas`, a very commonly used library for managing tables in Python."
   ]
  },
  {
   "cell_type": "code",
   "execution_count": 28,
   "id": "d25973c6-e80b-45ff-8ef2-feef2bd3c8c6",
   "metadata": {},
   "outputs": [],
   "source": [
    "# Never, EVER use raw path separators ('/' or '\\') in your code.\n",
    "# They are platform-dependent.\n",
    "# Always instead use the language-specific implementation of path joining.\n",
    "\n",
    "data_dir = 'data'\n",
    "data_filename = 'PS1_Problem3_Data.txt'\n",
    "data_path = os.path.join( data_dir, data_filename )\n",
    "\n",
    "data = pd.read_csv( data_path,\n",
    "                    sep = '\\t',\n",
    "                    names = ['stimulus', 'spikes'] )"
   ]
  },
  {
   "cell_type": "code",
   "execution_count": 29,
   "id": "a0a9833a-f73a-472c-af1a-ee89df7730ac",
   "metadata": {},
   "outputs": [
    {
     "data": {
      "text/html": [
       "<div>\n",
       "<style scoped>\n",
       "    .dataframe tbody tr th:only-of-type {\n",
       "        vertical-align: middle;\n",
       "    }\n",
       "\n",
       "    .dataframe tbody tr th {\n",
       "        vertical-align: top;\n",
       "    }\n",
       "\n",
       "    .dataframe thead th {\n",
       "        text-align: right;\n",
       "    }\n",
       "</style>\n",
       "<table border=\"1\" class=\"dataframe\">\n",
       "  <thead>\n",
       "    <tr style=\"text-align: right;\">\n",
       "      <th></th>\n",
       "      <th>stimulus</th>\n",
       "      <th>spikes</th>\n",
       "    </tr>\n",
       "  </thead>\n",
       "  <tbody>\n",
       "    <tr>\n",
       "      <th>0</th>\n",
       "      <td>1</td>\n",
       "      <td>34</td>\n",
       "    </tr>\n",
       "    <tr>\n",
       "      <th>1</th>\n",
       "      <td>2</td>\n",
       "      <td>54</td>\n",
       "    </tr>\n",
       "    <tr>\n",
       "      <th>2</th>\n",
       "      <td>1</td>\n",
       "      <td>37</td>\n",
       "    </tr>\n",
       "    <tr>\n",
       "      <th>3</th>\n",
       "      <td>2</td>\n",
       "      <td>42</td>\n",
       "    </tr>\n",
       "    <tr>\n",
       "      <th>4</th>\n",
       "      <td>1</td>\n",
       "      <td>30</td>\n",
       "    </tr>\n",
       "    <tr>\n",
       "      <th>...</th>\n",
       "      <td>...</td>\n",
       "      <td>...</td>\n",
       "    </tr>\n",
       "    <tr>\n",
       "      <th>395</th>\n",
       "      <td>2</td>\n",
       "      <td>49</td>\n",
       "    </tr>\n",
       "    <tr>\n",
       "      <th>396</th>\n",
       "      <td>1</td>\n",
       "      <td>29</td>\n",
       "    </tr>\n",
       "    <tr>\n",
       "      <th>397</th>\n",
       "      <td>2</td>\n",
       "      <td>44</td>\n",
       "    </tr>\n",
       "    <tr>\n",
       "      <th>398</th>\n",
       "      <td>1</td>\n",
       "      <td>44</td>\n",
       "    </tr>\n",
       "    <tr>\n",
       "      <th>399</th>\n",
       "      <td>2</td>\n",
       "      <td>59</td>\n",
       "    </tr>\n",
       "  </tbody>\n",
       "</table>\n",
       "<p>400 rows × 2 columns</p>\n",
       "</div>"
      ],
      "text/plain": [
       "     stimulus  spikes\n",
       "0           1      34\n",
       "1           2      54\n",
       "2           1      37\n",
       "3           2      42\n",
       "4           1      30\n",
       "..        ...     ...\n",
       "395         2      49\n",
       "396         1      29\n",
       "397         2      44\n",
       "398         1      44\n",
       "399         2      59\n",
       "\n",
       "[400 rows x 2 columns]"
      ]
     },
     "execution_count": 29,
     "metadata": {},
     "output_type": "execute_result"
    }
   ],
   "source": [
    "data"
   ]
  },
  {
   "cell_type": "markdown",
   "id": "4c5797e8-f0ba-459e-84aa-432a63fa9967",
   "metadata": {},
   "source": [
    "### 3a"
   ]
  },
  {
   "cell_type": "markdown",
   "id": "9f8b50ba-7aad-4b6e-befa-993937c0df86",
   "metadata": {},
   "source": [
    "> Plot a histogram of the number of spikes for s1 on each trial for each stimulus One way to do this is to use a single plot with two bar graphs, one for stimulus 1 in red and one for stimulus 2 in blue. Put a bin center every count up to 100 (e.g. use a list all integers from 0 to 100 to specify the locations of the bin centers or a list of 0.5, 1.5, etc. to specify bin edges.)"
   ]
  },
  {
   "cell_type": "code",
   "execution_count": 30,
   "id": "414e6f7f-b3ad-4d92-a595-f8116d28f31f",
   "metadata": {},
   "outputs": [
    {
     "data": {
      "image/png": "[encoded data removed]",
      "text/plain": [
       "<Figure size 500x200 with 1 Axes>"
      ]
     },
     "metadata": {},
     "output_type": "display_data"
    }
   ],
   "source": [
    "fig, ax = plt.subplots( figsize = (5, 2) )\n",
    "prob3.plot_hists( ax, data )\n",
    "plt.show()"
   ]
  },
  {
   "cell_type": "markdown",
   "id": "371aef18-5708-4b6d-ae3f-d67038822fb4",
   "metadata": {},
   "source": [
    "### 3b"
   ]
  },
  {
   "cell_type": "markdown",
   "id": "b203edbd-6873-471b-9a4f-7f85364621c3",
   "metadata": {},
   "source": [
    "> Make another set of histograms with bins every 5 counts, [0,5,10, .., 100] for bin centers."
   ]
  },
  {
   "cell_type": "code",
   "execution_count": 31,
   "id": "7d20d09b-cd34-4f0d-8f32-22fe0a9e39c6",
   "metadata": {},
   "outputs": [
    {
     "data": {
      "image/png": "[encoded data removed]",
      "text/plain": [
       "<Figure size 500x200 with 1 Axes>"
      ]
     },
     "metadata": {},
     "output_type": "display_data"
    }
   ],
   "source": [
    "fig, ax = plt.subplots( figsize = (5, 2) )\n",
    "prob3.plot_hists( ax, data,\n",
    "                  bin_width = 5 )\n",
    "plt.show()"
   ]
  },
  {
   "cell_type": "markdown",
   "id": "70f43e5a-3073-4011-9380-fb88141d4d2f",
   "metadata": {},
   "source": [
    "### 3c"
   ]
  },
  {
   "cell_type": "markdown",
   "id": "3c9b3bce-b84a-4a2a-b09c-b0fa701ce1b5",
   "metadata": {},
   "source": [
    "> Plot the pdf and the cdf for stimulus 1 and for stimulus 2 (four plots total). How are the pdfs related to the histograms from a.?"
   ]
  },
  {
   "cell_type": "markdown",
   "id": "cd42bb6c-b5bc-424c-a642-f96437edda48",
   "metadata": {},
   "source": [
    "*N.B.*: Since these are discrete r.v.s, they technically do not have a PDF, but instead have a PMF (probability **mass** function), as there is no way to define \"density\" on a discrete space in the same way."
   ]
  },
  {
   "cell_type": "markdown",
   "id": "255625ba-745f-4c93-b7c4-fc8fdb9a6e72",
   "metadata": {},
   "source": [
    "#### pmfs"
   ]
  },
  {
   "cell_type": "code",
   "execution_count": 32,
   "id": "b7ebd6da-00d8-46f3-88b7-2e5ebca913c7",
   "metadata": {},
   "outputs": [],
   "source": [
    "df_pmfs = prob3.pmfs( data )"
   ]
  },
  {
   "cell_type": "code",
   "execution_count": 33,
   "id": "0700d051-0cb9-4a6d-b2cb-f1696710517d",
   "metadata": {},
   "outputs": [
    {
     "data": {
      "text/html": [
       "<div>\n",
       "<style scoped>\n",
       "    .dataframe tbody tr th:only-of-type {\n",
       "        vertical-align: middle;\n",
       "    }\n",
       "\n",
       "    .dataframe tbody tr th {\n",
       "        vertical-align: top;\n",
       "    }\n",
       "\n",
       "    .dataframe thead th {\n",
       "        text-align: right;\n",
       "    }\n",
       "</style>\n",
       "<table border=\"1\" class=\"dataframe\">\n",
       "  <thead>\n",
       "    <tr style=\"text-align: right;\">\n",
       "      <th></th>\n",
       "      <th>low::spikes</th>\n",
       "      <th>high::spikes</th>\n",
       "      <th>center::spikes</th>\n",
       "      <th>pmf::stimulus::1</th>\n",
       "      <th>pmf::stimulus::2</th>\n",
       "    </tr>\n",
       "  </thead>\n",
       "  <tbody>\n",
       "    <tr>\n",
       "      <th>0</th>\n",
       "      <td>-0.5</td>\n",
       "      <td>0.5</td>\n",
       "      <td>0</td>\n",
       "      <td>0.0</td>\n",
       "      <td>0.00000</td>\n",
       "    </tr>\n",
       "    <tr>\n",
       "      <th>1</th>\n",
       "      <td>0.5</td>\n",
       "      <td>1.5</td>\n",
       "      <td>1</td>\n",
       "      <td>0.0</td>\n",
       "      <td>0.00000</td>\n",
       "    </tr>\n",
       "    <tr>\n",
       "      <th>2</th>\n",
       "      <td>1.5</td>\n",
       "      <td>2.5</td>\n",
       "      <td>2</td>\n",
       "      <td>0.0</td>\n",
       "      <td>0.00000</td>\n",
       "    </tr>\n",
       "    <tr>\n",
       "      <th>3</th>\n",
       "      <td>2.5</td>\n",
       "      <td>3.5</td>\n",
       "      <td>3</td>\n",
       "      <td>0.0</td>\n",
       "      <td>0.00000</td>\n",
       "    </tr>\n",
       "    <tr>\n",
       "      <th>4</th>\n",
       "      <td>3.5</td>\n",
       "      <td>4.5</td>\n",
       "      <td>4</td>\n",
       "      <td>0.0</td>\n",
       "      <td>0.00000</td>\n",
       "    </tr>\n",
       "    <tr>\n",
       "      <th>...</th>\n",
       "      <td>...</td>\n",
       "      <td>...</td>\n",
       "      <td>...</td>\n",
       "      <td>...</td>\n",
       "      <td>...</td>\n",
       "    </tr>\n",
       "    <tr>\n",
       "      <th>67</th>\n",
       "      <td>66.5</td>\n",
       "      <td>67.5</td>\n",
       "      <td>67</td>\n",
       "      <td>0.0</td>\n",
       "      <td>0.01005</td>\n",
       "    </tr>\n",
       "    <tr>\n",
       "      <th>68</th>\n",
       "      <td>67.5</td>\n",
       "      <td>68.5</td>\n",
       "      <td>68</td>\n",
       "      <td>0.0</td>\n",
       "      <td>0.00000</td>\n",
       "    </tr>\n",
       "    <tr>\n",
       "      <th>69</th>\n",
       "      <td>68.5</td>\n",
       "      <td>69.5</td>\n",
       "      <td>69</td>\n",
       "      <td>0.0</td>\n",
       "      <td>0.00000</td>\n",
       "    </tr>\n",
       "    <tr>\n",
       "      <th>70</th>\n",
       "      <td>69.5</td>\n",
       "      <td>70.5</td>\n",
       "      <td>70</td>\n",
       "      <td>0.0</td>\n",
       "      <td>0.00000</td>\n",
       "    </tr>\n",
       "    <tr>\n",
       "      <th>71</th>\n",
       "      <td>70.5</td>\n",
       "      <td>71.5</td>\n",
       "      <td>71</td>\n",
       "      <td>0.0</td>\n",
       "      <td>0.00000</td>\n",
       "    </tr>\n",
       "  </tbody>\n",
       "</table>\n",
       "<p>72 rows × 5 columns</p>\n",
       "</div>"
      ],
      "text/plain": [
       "    low::spikes  high::spikes  center::spikes  pmf::stimulus::1  \\\n",
       "0          -0.5           0.5               0               0.0   \n",
       "1           0.5           1.5               1               0.0   \n",
       "2           1.5           2.5               2               0.0   \n",
       "3           2.5           3.5               3               0.0   \n",
       "4           3.5           4.5               4               0.0   \n",
       "..          ...           ...             ...               ...   \n",
       "67         66.5          67.5              67               0.0   \n",
       "68         67.5          68.5              68               0.0   \n",
       "69         68.5          69.5              69               0.0   \n",
       "70         69.5          70.5              70               0.0   \n",
       "71         70.5          71.5              71               0.0   \n",
       "\n",
       "    pmf::stimulus::2  \n",
       "0            0.00000  \n",
       "1            0.00000  \n",
       "2            0.00000  \n",
       "3            0.00000  \n",
       "4            0.00000  \n",
       "..               ...  \n",
       "67           0.01005  \n",
       "68           0.00000  \n",
       "69           0.00000  \n",
       "70           0.00000  \n",
       "71           0.00000  \n",
       "\n",
       "[72 rows x 5 columns]"
      ]
     },
     "execution_count": 33,
     "metadata": {},
     "output_type": "execute_result"
    }
   ],
   "source": [
    "df_pmfs"
   ]
  },
  {
   "cell_type": "code",
   "execution_count": 34,
   "id": "4a6c2817-feb3-4f1b-a803-c852b0f9d032",
   "metadata": {},
   "outputs": [
    {
     "data": {
      "image/png": "[encoded data removed]",
      "text/plain": [
       "<Figure size 800x300 with 1 Axes>"
      ]
     },
     "metadata": {},
     "output_type": "display_data"
    }
   ],
   "source": [
    "fig, ax = plt.subplots( figsize = (8, 3) )\n",
    "prob3.plot_pmfs( ax, df_pmfs )\n",
    "plt.show()"
   ]
  },
  {
   "cell_type": "markdown",
   "id": "f8401b9d-c1fe-46ce-8690-4d563033d6bb",
   "metadata": {},
   "source": [
    "#### cdfs"
   ]
  },
  {
   "cell_type": "code",
   "execution_count": 35,
   "id": "a69fc60d-b00e-4bcd-9563-547e6b851ae6",
   "metadata": {},
   "outputs": [],
   "source": [
    "xs_cdfs = np.arange( 0, 100.1, 0.1 )\n",
    "df_cdfs = prob3.cdfs( data, xs_cdfs )"
   ]
  },
  {
   "cell_type": "code",
   "execution_count": 36,
   "id": "3b2f2b5b-40d0-4786-90a0-d8cdb9bfd9ad",
   "metadata": {},
   "outputs": [
    {
     "data": {
      "text/html": [
       "<div>\n",
       "<style scoped>\n",
       "    .dataframe tbody tr th:only-of-type {\n",
       "        vertical-align: middle;\n",
       "    }\n",
       "\n",
       "    .dataframe tbody tr th {\n",
       "        vertical-align: top;\n",
       "    }\n",
       "\n",
       "    .dataframe thead th {\n",
       "        text-align: right;\n",
       "    }\n",
       "</style>\n",
       "<table border=\"1\" class=\"dataframe\">\n",
       "  <thead>\n",
       "    <tr style=\"text-align: right;\">\n",
       "      <th></th>\n",
       "      <th>value::spikes</th>\n",
       "      <th>cdf::stimulus::1</th>\n",
       "      <th>cdf::stimulus::2</th>\n",
       "    </tr>\n",
       "  </thead>\n",
       "  <tbody>\n",
       "    <tr>\n",
       "      <th>0</th>\n",
       "      <td>0.0</td>\n",
       "      <td>0.0</td>\n",
       "      <td>0.0</td>\n",
       "    </tr>\n",
       "    <tr>\n",
       "      <th>1</th>\n",
       "      <td>0.1</td>\n",
       "      <td>0.0</td>\n",
       "      <td>0.0</td>\n",
       "    </tr>\n",
       "    <tr>\n",
       "      <th>2</th>\n",
       "      <td>0.2</td>\n",
       "      <td>0.0</td>\n",
       "      <td>0.0</td>\n",
       "    </tr>\n",
       "    <tr>\n",
       "      <th>3</th>\n",
       "      <td>0.3</td>\n",
       "      <td>0.0</td>\n",
       "      <td>0.0</td>\n",
       "    </tr>\n",
       "    <tr>\n",
       "      <th>4</th>\n",
       "      <td>0.4</td>\n",
       "      <td>0.0</td>\n",
       "      <td>0.0</td>\n",
       "    </tr>\n",
       "    <tr>\n",
       "      <th>...</th>\n",
       "      <td>...</td>\n",
       "      <td>...</td>\n",
       "      <td>...</td>\n",
       "    </tr>\n",
       "    <tr>\n",
       "      <th>996</th>\n",
       "      <td>99.6</td>\n",
       "      <td>1.0</td>\n",
       "      <td>1.0</td>\n",
       "    </tr>\n",
       "    <tr>\n",
       "      <th>997</th>\n",
       "      <td>99.7</td>\n",
       "      <td>1.0</td>\n",
       "      <td>1.0</td>\n",
       "    </tr>\n",
       "    <tr>\n",
       "      <th>998</th>\n",
       "      <td>99.8</td>\n",
       "      <td>1.0</td>\n",
       "      <td>1.0</td>\n",
       "    </tr>\n",
       "    <tr>\n",
       "      <th>999</th>\n",
       "      <td>99.9</td>\n",
       "      <td>1.0</td>\n",
       "      <td>1.0</td>\n",
       "    </tr>\n",
       "    <tr>\n",
       "      <th>1000</th>\n",
       "      <td>100.0</td>\n",
       "      <td>1.0</td>\n",
       "      <td>1.0</td>\n",
       "    </tr>\n",
       "  </tbody>\n",
       "</table>\n",
       "<p>1001 rows × 3 columns</p>\n",
       "</div>"
      ],
      "text/plain": [
       "      value::spikes  cdf::stimulus::1  cdf::stimulus::2\n",
       "0               0.0               0.0               0.0\n",
       "1               0.1               0.0               0.0\n",
       "2               0.2               0.0               0.0\n",
       "3               0.3               0.0               0.0\n",
       "4               0.4               0.0               0.0\n",
       "...             ...               ...               ...\n",
       "996            99.6               1.0               1.0\n",
       "997            99.7               1.0               1.0\n",
       "998            99.8               1.0               1.0\n",
       "999            99.9               1.0               1.0\n",
       "1000          100.0               1.0               1.0\n",
       "\n",
       "[1001 rows x 3 columns]"
      ]
     },
     "execution_count": 36,
     "metadata": {},
     "output_type": "execute_result"
    }
   ],
   "source": [
    "df_cdfs"
   ]
  },
  {
   "cell_type": "code",
   "execution_count": 37,
   "id": "749f8da2-8bf3-48b6-b73d-713423dedd0e",
   "metadata": {},
   "outputs": [
    {
     "data": {
      "image/png": "[encoded data removed]",
      "text/plain": [
       "<Figure size 800x300 with 1 Axes>"
      ]
     },
     "metadata": {},
     "output_type": "display_data"
    }
   ],
   "source": [
    "fig, ax = plt.subplots( figsize = (8, 3) )\n",
    "prob3.plot_cdfs( ax, df_cdfs )\n",
    "plt.show()"
   ]
  },
  {
   "cell_type": "markdown",
   "id": "ba69e0f0-92de-4d1e-8c37-bb91e3a7e058",
   "metadata": {},
   "source": [
    "### 3d"
   ]
  },
  {
   "cell_type": "markdown",
   "id": "8a2c5f43-7d62-44f1-ae4a-a8dc570a2d90",
   "metadata": {},
   "source": [
    "> Suppose you were told that neuron 1 fired 52 spikes in a particular trial. Use Bayes’ rule to determine the probability that stimulus 1 was on for that trial using a scheme based on the 1 count bin size (histograms from a)"
   ]
  },
  {
   "cell_type": "code",
   "execution_count": 38,
   "id": "50d86b90-bb3d-4092-9f83-f5096b5c476c",
   "metadata": {},
   "outputs": [],
   "source": [
    "df_posterior = prob3.bayes( df_pmfs )"
   ]
  },
  {
   "cell_type": "code",
   "execution_count": 39,
   "id": "0f3c43a8-dc59-447f-b536-881228853f54",
   "metadata": {},
   "outputs": [
    {
     "data": {
      "text/html": [
       "<div>\n",
       "<style scoped>\n",
       "    .dataframe tbody tr th:only-of-type {\n",
       "        vertical-align: middle;\n",
       "    }\n",
       "\n",
       "    .dataframe tbody tr th {\n",
       "        vertical-align: top;\n",
       "    }\n",
       "\n",
       "    .dataframe thead th {\n",
       "        text-align: right;\n",
       "    }\n",
       "</style>\n",
       "<table border=\"1\" class=\"dataframe\">\n",
       "  <thead>\n",
       "    <tr style=\"text-align: right;\">\n",
       "      <th></th>\n",
       "      <th>center::spikes</th>\n",
       "      <th>low::spikes</th>\n",
       "      <th>high::spikes</th>\n",
       "      <th>posterior::stimulus::1</th>\n",
       "      <th>posterior::stimulus::2</th>\n",
       "    </tr>\n",
       "  </thead>\n",
       "  <tbody>\n",
       "    <tr>\n",
       "      <th>0</th>\n",
       "      <td>0</td>\n",
       "      <td>-0.5</td>\n",
       "      <td>0.5</td>\n",
       "      <td>NaN</td>\n",
       "      <td>NaN</td>\n",
       "    </tr>\n",
       "    <tr>\n",
       "      <th>1</th>\n",
       "      <td>1</td>\n",
       "      <td>0.5</td>\n",
       "      <td>1.5</td>\n",
       "      <td>NaN</td>\n",
       "      <td>NaN</td>\n",
       "    </tr>\n",
       "    <tr>\n",
       "      <th>2</th>\n",
       "      <td>2</td>\n",
       "      <td>1.5</td>\n",
       "      <td>2.5</td>\n",
       "      <td>NaN</td>\n",
       "      <td>NaN</td>\n",
       "    </tr>\n",
       "    <tr>\n",
       "      <th>3</th>\n",
       "      <td>3</td>\n",
       "      <td>2.5</td>\n",
       "      <td>3.5</td>\n",
       "      <td>NaN</td>\n",
       "      <td>NaN</td>\n",
       "    </tr>\n",
       "    <tr>\n",
       "      <th>4</th>\n",
       "      <td>4</td>\n",
       "      <td>3.5</td>\n",
       "      <td>4.5</td>\n",
       "      <td>NaN</td>\n",
       "      <td>NaN</td>\n",
       "    </tr>\n",
       "    <tr>\n",
       "      <th>...</th>\n",
       "      <td>...</td>\n",
       "      <td>...</td>\n",
       "      <td>...</td>\n",
       "      <td>...</td>\n",
       "      <td>...</td>\n",
       "    </tr>\n",
       "    <tr>\n",
       "      <th>67</th>\n",
       "      <td>67</td>\n",
       "      <td>66.5</td>\n",
       "      <td>67.5</td>\n",
       "      <td>0.0</td>\n",
       "      <td>1.0</td>\n",
       "    </tr>\n",
       "    <tr>\n",
       "      <th>68</th>\n",
       "      <td>68</td>\n",
       "      <td>67.5</td>\n",
       "      <td>68.5</td>\n",
       "      <td>NaN</td>\n",
       "      <td>NaN</td>\n",
       "    </tr>\n",
       "    <tr>\n",
       "      <th>69</th>\n",
       "      <td>69</td>\n",
       "      <td>68.5</td>\n",
       "      <td>69.5</td>\n",
       "      <td>NaN</td>\n",
       "      <td>NaN</td>\n",
       "    </tr>\n",
       "    <tr>\n",
       "      <th>70</th>\n",
       "      <td>70</td>\n",
       "      <td>69.5</td>\n",
       "      <td>70.5</td>\n",
       "      <td>NaN</td>\n",
       "      <td>NaN</td>\n",
       "    </tr>\n",
       "    <tr>\n",
       "      <th>71</th>\n",
       "      <td>71</td>\n",
       "      <td>70.5</td>\n",
       "      <td>71.5</td>\n",
       "      <td>NaN</td>\n",
       "      <td>NaN</td>\n",
       "    </tr>\n",
       "  </tbody>\n",
       "</table>\n",
       "<p>72 rows × 5 columns</p>\n",
       "</div>"
      ],
      "text/plain": [
       "    center::spikes  low::spikes  high::spikes  posterior::stimulus::1  \\\n",
       "0                0         -0.5           0.5                     NaN   \n",
       "1                1          0.5           1.5                     NaN   \n",
       "2                2          1.5           2.5                     NaN   \n",
       "3                3          2.5           3.5                     NaN   \n",
       "4                4          3.5           4.5                     NaN   \n",
       "..             ...          ...           ...                     ...   \n",
       "67              67         66.5          67.5                     0.0   \n",
       "68              68         67.5          68.5                     NaN   \n",
       "69              69         68.5          69.5                     NaN   \n",
       "70              70         69.5          70.5                     NaN   \n",
       "71              71         70.5          71.5                     NaN   \n",
       "\n",
       "    posterior::stimulus::2  \n",
       "0                      NaN  \n",
       "1                      NaN  \n",
       "2                      NaN  \n",
       "3                      NaN  \n",
       "4                      NaN  \n",
       "..                     ...  \n",
       "67                     1.0  \n",
       "68                     NaN  \n",
       "69                     NaN  \n",
       "70                     NaN  \n",
       "71                     NaN  \n",
       "\n",
       "[72 rows x 5 columns]"
      ]
     },
     "execution_count": 39,
     "metadata": {},
     "output_type": "execute_result"
    }
   ],
   "source": [
    "df_posterior"
   ]
  },
  {
   "cell_type": "code",
   "execution_count": 40,
   "id": "bc542a6c-a4bd-436e-bfd9-70f6badf38a6",
   "metadata": {},
   "outputs": [
    {
     "data": {
      "image/png": "[encoded data removed]",
      "text/plain": [
       "<Figure size 500x300 with 1 Axes>"
      ]
     },
     "metadata": {},
     "output_type": "display_data"
    }
   ],
   "source": [
    "fig, ax = plt.subplots( figsize = (5, 3) )\n",
    "prob3.plot_posterior( ax, df_posterior )\n",
    "plt.show()"
   ]
  },
  {
   "cell_type": "code",
   "execution_count": 41,
   "id": "1e280f72-b8c5-46e6-b4ae-e1b3bdcec825",
   "metadata": {},
   "outputs": [
    {
     "data": {
      "text/plain": [
       "{'stimulus::1': 0.5821145006268283, 'stimulus::2': 0.41788549937317176}"
      ]
     },
     "execution_count": 41,
     "metadata": {},
     "output_type": "execute_result"
    }
   ],
   "source": [
    "estimator = prob3.posterior_estimator_binned( df_posterior )\n",
    "estimator( 52 )"
   ]
  },
  {
   "cell_type": "markdown",
   "id": "c4ea3c8d-0f4b-4528-8c1e-2560651e298e",
   "metadata": {},
   "source": [
    "We can also do this using an object-oriented approach. (This implementation just wraps what is used above.)"
   ]
  },
  {
   "cell_type": "code",
   "execution_count": 42,
   "id": "5c5a7134-7ae5-4b7c-818a-0c2d01223db6",
   "metadata": {},
   "outputs": [],
   "source": [
    "classifier = prob3.EmpiricalBayesClassifier()\n",
    "classifier.fit( data = data,\n",
    "                value_key = 'spikes',\n",
    "                class_key = 'stimulus' )"
   ]
  },
  {
   "cell_type": "code",
   "execution_count": 43,
   "id": "edd7d7ef-ad05-47ab-8599-f2d28d7bf19d",
   "metadata": {},
   "outputs": [
    {
     "data": {
      "text/html": [
       "<div>\n",
       "<style scoped>\n",
       "    .dataframe tbody tr th:only-of-type {\n",
       "        vertical-align: middle;\n",
       "    }\n",
       "\n",
       "    .dataframe tbody tr th {\n",
       "        vertical-align: top;\n",
       "    }\n",
       "\n",
       "    .dataframe thead th {\n",
       "        text-align: right;\n",
       "    }\n",
       "</style>\n",
       "<table border=\"1\" class=\"dataframe\">\n",
       "  <thead>\n",
       "    <tr style=\"text-align: right;\">\n",
       "      <th></th>\n",
       "      <th>stimulus::1</th>\n",
       "      <th>stimulus::2</th>\n",
       "    </tr>\n",
       "  </thead>\n",
       "  <tbody>\n",
       "    <tr>\n",
       "      <th>0</th>\n",
       "      <td>0.582115</td>\n",
       "      <td>0.417885</td>\n",
       "    </tr>\n",
       "  </tbody>\n",
       "</table>\n",
       "</div>"
      ],
      "text/plain": [
       "   stimulus::1  stimulus::2\n",
       "0     0.582115     0.417885"
      ]
     },
     "execution_count": 43,
     "metadata": {},
     "output_type": "execute_result"
    }
   ],
   "source": [
    "classifier.predict( [52] )"
   ]
  },
  {
   "cell_type": "markdown",
   "id": "93c1704a-525f-4ae1-90ec-91782cd9530e",
   "metadata": {},
   "source": [
    "### 3e"
   ]
  },
  {
   "cell_type": "markdown",
   "id": "476c5625-5338-4a0d-a4e1-01b24b63d8da",
   "metadata": {},
   "source": [
    "> Repeat with a scheme based on the 5 count bin size (histograms from b). Which of these two estimates is likely to be closer to the true value and why?"
   ]
  },
  {
   "cell_type": "code",
   "execution_count": 44,
   "id": "1e9f3f31-ab28-4580-a7ee-bf50978af16a",
   "metadata": {},
   "outputs": [],
   "source": [
    "df_pmfs = prob3.pmfs( data,\n",
    "                      bin_width = 5. )\n",
    "\n",
    "df_posterior = prob3.bayes( df_pmfs )"
   ]
  },
  {
   "cell_type": "code",
   "execution_count": 45,
   "id": "b73391b3-6032-462c-bf0e-3daa99ff5692",
   "metadata": {},
   "outputs": [
    {
     "data": {
      "image/png": "[encoded data removed]",
      "text/plain": [
       "<Figure size 500x300 with 1 Axes>"
      ]
     },
     "metadata": {},
     "output_type": "display_data"
    }
   ],
   "source": [
    "fig, ax = plt.subplots( figsize = (5, 3) )\n",
    "prob3.plot_posterior( ax, df_posterior )\n",
    "plt.show()"
   ]
  },
  {
   "cell_type": "code",
   "execution_count": 46,
   "id": "afdc05ff-f92e-4344-9332-ae9efc68b9a9",
   "metadata": {},
   "outputs": [
    {
     "data": {
      "text/plain": [
       "{'stimulus::1': 0.23728813559322032, 'stimulus::2': 0.7627118644067796}"
      ]
     },
     "execution_count": 46,
     "metadata": {},
     "output_type": "execute_result"
    }
   ],
   "source": [
    "estimator = prob3.posterior_estimator_binned( df_posterior )\n",
    "estimator( 52 )"
   ]
  },
  {
   "cell_type": "markdown",
   "id": "b0332a14-cdec-4e8f-82ed-f98b8f750bb5",
   "metadata": {},
   "source": [
    "We can also do this using the object-oriented approach:"
   ]
  },
  {
   "cell_type": "code",
   "execution_count": 47,
   "id": "9d401403-2a0a-44cc-b951-d70e483e73d9",
   "metadata": {},
   "outputs": [],
   "source": [
    "classifier = prob3.EmpiricalBayesClassifier( bin_width = 5. )\n",
    "classifier.fit( data = data,\n",
    "                value_key = 'spikes',\n",
    "                class_key = 'stimulus' )"
   ]
  },
  {
   "cell_type": "code",
   "execution_count": 48,
   "id": "5753c68b-34b4-4f71-b92e-8416d735dfae",
   "metadata": {},
   "outputs": [
    {
     "data": {
      "text/html": [
       "<div>\n",
       "<style scoped>\n",
       "    .dataframe tbody tr th:only-of-type {\n",
       "        vertical-align: middle;\n",
       "    }\n",
       "\n",
       "    .dataframe tbody tr th {\n",
       "        vertical-align: top;\n",
       "    }\n",
       "\n",
       "    .dataframe thead th {\n",
       "        text-align: right;\n",
       "    }\n",
       "</style>\n",
       "<table border=\"1\" class=\"dataframe\">\n",
       "  <thead>\n",
       "    <tr style=\"text-align: right;\">\n",
       "      <th></th>\n",
       "      <th>stimulus::1</th>\n",
       "      <th>stimulus::2</th>\n",
       "    </tr>\n",
       "  </thead>\n",
       "  <tbody>\n",
       "    <tr>\n",
       "      <th>0</th>\n",
       "      <td>0.237288</td>\n",
       "      <td>0.762712</td>\n",
       "    </tr>\n",
       "  </tbody>\n",
       "</table>\n",
       "</div>"
      ],
      "text/plain": [
       "   stimulus::1  stimulus::2\n",
       "0     0.237288     0.762712"
      ]
     },
     "execution_count": 48,
     "metadata": {},
     "output_type": "execute_result"
    }
   ],
   "source": [
    "classifier.predict( [52] )"
   ]
  }
 ],
 "metadata": {
  "kernelspec": {
   "display_name": "Python 3 (ipykernel)",
   "language": "python",
   "name": "python3"
  },
  "language_info": {
   "codemirror_mode": {
    "name": "ipython",
    "version": 3
   },
   "file_extension": ".py",
   "mimetype": "text/x-python",
   "name": "python",
   "nbconvert_exporter": "python",
   "pygments_lexer": "ipython3",
   "version": "3.10.8"
  }
 },
 "nbformat": 4,
 "nbformat_minor": 5
}
